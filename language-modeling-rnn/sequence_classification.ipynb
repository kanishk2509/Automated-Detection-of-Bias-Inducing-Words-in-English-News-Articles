{
  "nbformat": 4,
  "nbformat_minor": 0,
  "metadata": {
    "colab": {
      "name": "sequence-classification.ipynb",
      "provenance": []
    },
    "kernelspec": {
      "name": "python3",
      "display_name": "Python 3"
    }
  },
  "cells": [
    {
      "cell_type": "markdown",
      "metadata": {
        "id": "_lCeaIrRwW35"
      },
      "source": [
        "sentence level tagging"
      ]
    },
    {
      "cell_type": "code",
      "metadata": {
        "id": "EZu9xwuANsdU"
      },
      "source": [
        "!pip install seqeval"
      ],
      "execution_count": null,
      "outputs": []
    },
    {
      "cell_type": "code",
      "metadata": {
        "id": "ZisqwwKn_InT"
      },
      "source": [
        "!pip uninstall keras\n",
        "!pip install keras==2.2.4"
      ],
      "execution_count": null,
      "outputs": []
    },
    {
      "cell_type": "code",
      "metadata": {
        "id": "mopCkTFu_JQ6",
        "colab": {
          "base_uri": "https://localhost:8080/"
        },
        "outputId": "ec454b47-f89b-4261-dc75-0904773d56d5"
      },
      "source": [
        "!pip uninstall tensorflow\n",
        "!pip install \"tensorflow>=1.15,<2.0\"\n",
        "!pip install --upgrade tensorflow-hub"
      ],
      "execution_count": null,
      "outputs": [
        {
          "output_type": "stream",
          "text": [
            "  Successfully uninstalled tensorflow-2.3.0\n",
            "Collecting tensorflow<2.0,>=1.15\n",
            "\u001b[?25l  Downloading https://files.pythonhosted.org/packages/8e/64/7a19837dd54d3f53b1ce5ae346ab401dde9678e8f233220317000bfdb3e2/tensorflow-1.15.4-cp36-cp36m-manylinux2010_x86_64.whl (110.5MB)\n",
            "\u001b[K     |████████████████████████████████| 110.5MB 88kB/s \n",
            "\u001b[?25hRequirement already satisfied: termcolor>=1.1.0 in /usr/local/lib/python3.6/dist-packages (from tensorflow<2.0,>=1.15) (1.1.0)\n",
            "Collecting tensorboard<1.16.0,>=1.15.0\n",
            "\u001b[?25l  Downloading https://files.pythonhosted.org/packages/1e/e9/d3d747a97f7188f48aa5eda486907f3b345cd409f0a0850468ba867db246/tensorboard-1.15.0-py3-none-any.whl (3.8MB)\n",
            "\u001b[K     |████████████████████████████████| 3.8MB 29.0MB/s \n",
            "\u001b[?25hRequirement already satisfied: astor>=0.6.0 in /usr/local/lib/python3.6/dist-packages (from tensorflow<2.0,>=1.15) (0.8.1)\n",
            "Requirement already satisfied: google-pasta>=0.1.6 in /usr/local/lib/python3.6/dist-packages (from tensorflow<2.0,>=1.15) (0.2.0)\n",
            "Requirement already satisfied: grpcio>=1.8.6 in /usr/local/lib/python3.6/dist-packages (from tensorflow<2.0,>=1.15) (1.33.2)\n",
            "Requirement already satisfied: keras-preprocessing>=1.0.5 in /usr/local/lib/python3.6/dist-packages (from tensorflow<2.0,>=1.15) (1.1.2)\n",
            "Requirement already satisfied: wheel>=0.26; python_version >= \"3\" in /usr/local/lib/python3.6/dist-packages (from tensorflow<2.0,>=1.15) (0.35.1)\n",
            "Requirement already satisfied: numpy<1.19.0,>=1.16.0 in /usr/local/lib/python3.6/dist-packages (from tensorflow<2.0,>=1.15) (1.18.5)\n",
            "Requirement already satisfied: protobuf>=3.6.1 in /usr/local/lib/python3.6/dist-packages (from tensorflow<2.0,>=1.15) (3.12.4)\n",
            "Requirement already satisfied: keras-applications>=1.0.8 in /usr/local/lib/python3.6/dist-packages (from tensorflow<2.0,>=1.15) (1.0.8)\n",
            "Requirement already satisfied: opt-einsum>=2.3.2 in /usr/local/lib/python3.6/dist-packages (from tensorflow<2.0,>=1.15) (3.3.0)\n",
            "Collecting gast==0.2.2\n",
            "  Downloading https://files.pythonhosted.org/packages/4e/35/11749bf99b2d4e3cceb4d55ca22590b0d7c2c62b9de38ac4a4a7f4687421/gast-0.2.2.tar.gz\n",
            "Requirement already satisfied: wrapt>=1.11.1 in /usr/local/lib/python3.6/dist-packages (from tensorflow<2.0,>=1.15) (1.12.1)\n",
            "Collecting tensorflow-estimator==1.15.1\n",
            "\u001b[?25l  Downloading https://files.pythonhosted.org/packages/de/62/2ee9cd74c9fa2fa450877847ba560b260f5d0fb70ee0595203082dafcc9d/tensorflow_estimator-1.15.1-py2.py3-none-any.whl (503kB)\n",
            "\u001b[K     |████████████████████████████████| 512kB 45.8MB/s \n",
            "\u001b[?25hRequirement already satisfied: absl-py>=0.7.0 in /usr/local/lib/python3.6/dist-packages (from tensorflow<2.0,>=1.15) (0.10.0)\n",
            "Requirement already satisfied: six>=1.10.0 in /usr/local/lib/python3.6/dist-packages (from tensorflow<2.0,>=1.15) (1.15.0)\n",
            "Requirement already satisfied: markdown>=2.6.8 in /usr/local/lib/python3.6/dist-packages (from tensorboard<1.16.0,>=1.15.0->tensorflow<2.0,>=1.15) (3.3.3)\n",
            "Requirement already satisfied: werkzeug>=0.11.15 in /usr/local/lib/python3.6/dist-packages (from tensorboard<1.16.0,>=1.15.0->tensorflow<2.0,>=1.15) (1.0.1)\n",
            "Requirement already satisfied: setuptools>=41.0.0 in /usr/local/lib/python3.6/dist-packages (from tensorboard<1.16.0,>=1.15.0->tensorflow<2.0,>=1.15) (50.3.2)\n",
            "Requirement already satisfied: h5py in /usr/local/lib/python3.6/dist-packages (from keras-applications>=1.0.8->tensorflow<2.0,>=1.15) (2.10.0)\n",
            "Requirement already satisfied: importlib-metadata; python_version < \"3.8\" in /usr/local/lib/python3.6/dist-packages (from markdown>=2.6.8->tensorboard<1.16.0,>=1.15.0->tensorflow<2.0,>=1.15) (2.0.0)\n",
            "Requirement already satisfied: zipp>=0.5 in /usr/local/lib/python3.6/dist-packages (from importlib-metadata; python_version < \"3.8\"->markdown>=2.6.8->tensorboard<1.16.0,>=1.15.0->tensorflow<2.0,>=1.15) (3.4.0)\n",
            "Building wheels for collected packages: gast\n",
            "  Building wheel for gast (setup.py) ... \u001b[?25l\u001b[?25hdone\n",
            "  Created wheel for gast: filename=gast-0.2.2-cp36-none-any.whl size=7542 sha256=71567be2d7cc770b82e0ce86cb0c794d130e6660d249c03b98e350ccafc03a71\n",
            "  Stored in directory: /root/.cache/pip/wheels/5c/2e/7e/a1d4d4fcebe6c381f378ce7743a3ced3699feb89bcfbdadadd\n",
            "Successfully built gast\n",
            "\u001b[31mERROR: tensorflow-probability 0.11.0 has requirement gast>=0.3.2, but you'll have gast 0.2.2 which is incompatible.\u001b[0m\n",
            "Installing collected packages: tensorboard, gast, tensorflow-estimator, tensorflow\n",
            "  Found existing installation: tensorboard 2.3.0\n",
            "    Uninstalling tensorboard-2.3.0:\n",
            "      Successfully uninstalled tensorboard-2.3.0\n",
            "  Found existing installation: gast 0.3.3\n",
            "    Uninstalling gast-0.3.3:\n",
            "      Successfully uninstalled gast-0.3.3\n",
            "  Found existing installation: tensorflow-estimator 2.3.0\n",
            "    Uninstalling tensorflow-estimator-2.3.0:\n",
            "      Successfully uninstalled tensorflow-estimator-2.3.0\n",
            "Successfully installed gast-0.2.2 tensorboard-1.15.0 tensorflow-1.15.4 tensorflow-estimator-1.15.1\n",
            "Requirement already up-to-date: tensorflow-hub in /usr/local/lib/python3.6/dist-packages (0.10.0)\n",
            "Requirement already satisfied, skipping upgrade: protobuf>=3.8.0 in /usr/local/lib/python3.6/dist-packages (from tensorflow-hub) (3.12.4)\n",
            "Requirement already satisfied, skipping upgrade: numpy>=1.12.0 in /usr/local/lib/python3.6/dist-packages (from tensorflow-hub) (1.18.5)\n",
            "Requirement already satisfied, skipping upgrade: six>=1.9 in /usr/local/lib/python3.6/dist-packages (from protobuf>=3.8.0->tensorflow-hub) (1.15.0)\n",
            "Requirement already satisfied, skipping upgrade: setuptools in /usr/local/lib/python3.6/dist-packages (from protobuf>=3.8.0->tensorflow-hub) (50.3.2)\n"
          ],
          "name": "stdout"
        }
      ]
    },
    {
      "cell_type": "code",
      "metadata": {
        "id": "AcdPNT3mAozd",
        "colab": {
          "base_uri": "https://localhost:8080/"
        },
        "outputId": "165a0912-8799-4ce9-c29e-b215a61aeff7"
      },
      "source": [
        "!pip install git+https://www.github.com/keras-team/keras-contrib.git"
      ],
      "execution_count": null,
      "outputs": [
        {
          "output_type": "stream",
          "text": [
            "Collecting git+https://www.github.com/keras-team/keras-contrib.git\n",
            "  Cloning https://www.github.com/keras-team/keras-contrib.git to /tmp/pip-req-build-vgryq541\n",
            "  Running command git clone -q https://www.github.com/keras-team/keras-contrib.git /tmp/pip-req-build-vgryq541\n",
            "Requirement already satisfied: keras in /usr/local/lib/python3.6/dist-packages (from keras-contrib==2.0.8) (2.2.4)\n",
            "Requirement already satisfied: h5py in /usr/local/lib/python3.6/dist-packages (from keras->keras-contrib==2.0.8) (2.10.0)\n",
            "Requirement already satisfied: keras-preprocessing>=1.0.5 in /usr/local/lib/python3.6/dist-packages (from keras->keras-contrib==2.0.8) (1.1.2)\n",
            "Requirement already satisfied: pyyaml in /usr/local/lib/python3.6/dist-packages (from keras->keras-contrib==2.0.8) (3.13)\n",
            "Requirement already satisfied: keras-applications>=1.0.6 in /usr/local/lib/python3.6/dist-packages (from keras->keras-contrib==2.0.8) (1.0.8)\n",
            "Requirement already satisfied: scipy>=0.14 in /usr/local/lib/python3.6/dist-packages (from keras->keras-contrib==2.0.8) (1.4.1)\n",
            "Requirement already satisfied: six>=1.9.0 in /usr/local/lib/python3.6/dist-packages (from keras->keras-contrib==2.0.8) (1.15.0)\n",
            "Requirement already satisfied: numpy>=1.9.1 in /usr/local/lib/python3.6/dist-packages (from keras->keras-contrib==2.0.8) (1.18.5)\n",
            "Building wheels for collected packages: keras-contrib\n",
            "  Building wheel for keras-contrib (setup.py) ... \u001b[?25l\u001b[?25hdone\n",
            "  Created wheel for keras-contrib: filename=keras_contrib-2.0.8-cp36-none-any.whl size=101066 sha256=0c6b779d919ff8060eb46f14f7875a2fb80efdd9559f4f1c3c645c5aa4ac09f5\n",
            "  Stored in directory: /tmp/pip-ephem-wheel-cache-qzuktjpa/wheels/11/27/c8/4ed56de7b55f4f61244e2dc6ef3cdbaff2692527a2ce6502ba\n",
            "Successfully built keras-contrib\n",
            "Installing collected packages: keras-contrib\n",
            "Successfully installed keras-contrib-2.0.8\n"
          ],
          "name": "stdout"
        }
      ]
    },
    {
      "cell_type": "code",
      "metadata": {
        "id": "BqrB75OtF4kz"
      },
      "source": [
        "import warnings\n",
        "import pandas as pd\n",
        "import numpy as np\n",
        "import matplotlib.pyplot as plt\n",
        "plt.style.use(\"ggplot\")\n",
        "import spacy\n",
        "warnings.simplefilter('ignore')\n",
        "from pprint import pprint\n",
        "nlp = spacy.load('en', disable=['parser', 'ner'])\n",
        "nlp_sm = spacy.load(\"en_core_web_sm\")"
      ],
      "execution_count": null,
      "outputs": []
    },
    {
      "cell_type": "markdown",
      "metadata": {
        "id": "VoNNw6MRpJBs"
      },
      "source": [
        "Read the file"
      ]
    },
    {
      "cell_type": "code",
      "metadata": {
        "id": "GReVxOhuDY7W",
        "colab": {
          "base_uri": "https://localhost:8080/",
          "height": 381
        },
        "outputId": "ae5e8409-3965-4fd7-e347-32292a863946"
      },
      "source": [
        "sentences_file = \"/content/drive/My Drive/Bias_Lexica_Kanishka_WS1920/datasets/Phase1/phase_1_test_outputs/tokens_of_interest.csv\"\n",
        "data = pd.read_csv(sentences_file, encoding='utf-8')\n",
        "data = data.drop(['Unnamed: 0', 'type', 'direct_hits', 'auto_encoding_variance', \"article\"], axis=1)\n",
        "data = data.fillna(method=\"ffill\")\n",
        "data = data.dropna()\n",
        "data.tail(5)"
      ],
      "execution_count": null,
      "outputs": [
        {
          "output_type": "execute_result",
          "data": {
            "text/html": [
              "<div>\n",
              "<style scoped>\n",
              "    .dataframe tbody tr th:only-of-type {\n",
              "        vertical-align: middle;\n",
              "    }\n",
              "\n",
              "    .dataframe tbody tr th {\n",
              "        vertical-align: top;\n",
              "    }\n",
              "\n",
              "    .dataframe thead th {\n",
              "        text-align: right;\n",
              "    }\n",
              "</style>\n",
              "<table border=\"1\" class=\"dataframe\">\n",
              "  <thead>\n",
              "    <tr style=\"text-align: right;\">\n",
              "      <th></th>\n",
              "      <th>sentence</th>\n",
              "      <th>topic</th>\n",
              "      <th>Label_bias</th>\n",
              "      <th>Label_opinion</th>\n",
              "      <th>biased_words</th>\n",
              "      <th>Nouns</th>\n",
              "      <th>Verbs</th>\n",
              "      <th>Adjectives</th>\n",
              "      <th>Adverbs</th>\n",
              "      <th>NORP</th>\n",
              "      <th>PERSON</th>\n",
              "      <th>outliers</th>\n",
              "    </tr>\n",
              "  </thead>\n",
              "  <tbody>\n",
              "    <tr>\n",
              "      <th>1695</th>\n",
              "      <td>In every case legislators are being swarmed by...</td>\n",
              "      <td>gender</td>\n",
              "      <td>Biased</td>\n",
              "      <td>Expresses writer’s opinion</td>\n",
              "      <td>['deceit', 'hysteria', 'swarmed', 'right-wing']</td>\n",
              "      <td>['case', 'legislators', 'wing', 'activists', '...</td>\n",
              "      <td>['are', 'being', 'swarmed', 'do', 'hesitate', ...</td>\n",
              "      <td>['right']</td>\n",
              "      <td>['n’t']</td>\n",
              "      <td>[]</td>\n",
              "      <td>[]</td>\n",
              "      <td>['swarmed', 'happening', 'stop', 'hesitate']</td>\n",
              "    </tr>\n",
              "    <tr>\n",
              "      <th>1696</th>\n",
              "      <td>Polls show the transgender ideology is deeply ...</td>\n",
              "      <td>gender</td>\n",
              "      <td>Biased</td>\n",
              "      <td>Somewhat factual but also opinionated</td>\n",
              "      <td>['ideology', 'unpopular', 'deeply']</td>\n",
              "      <td>['Polls', 'ideology', 'women', 'parents']</td>\n",
              "      <td>['show', 'is']</td>\n",
              "      <td>['transgender', 'unpopular']</td>\n",
              "      <td>['deeply', 'especially']</td>\n",
              "      <td>[]</td>\n",
              "      <td>[]</td>\n",
              "      <td>['transgender', 'unpopular', 'deeply']</td>\n",
              "    </tr>\n",
              "    <tr>\n",
              "      <th>1697</th>\n",
              "      <td>Democrats and Republicans stood and applauded ...</td>\n",
              "      <td>gender</td>\n",
              "      <td>Non-biased</td>\n",
              "      <td>Entirely factual</td>\n",
              "      <td>['saluted']</td>\n",
              "      <td>['Democrats', 'Republicans', 'Illinois', 'Rep....</td>\n",
              "      <td>['stood', 'applauded', 'saluted', 'making', 'p...</td>\n",
              "      <td>['top', 'first', 'Native', 'American']</td>\n",
              "      <td>[]</td>\n",
              "      <td>['Democrats', 'Republicans', 'Republican', 'Na...</td>\n",
              "      <td>['Rodney Davis']</td>\n",
              "      <td>['preside', 'Native', 'American']</td>\n",
              "    </tr>\n",
              "    <tr>\n",
              "      <th>1698</th>\n",
              "      <td>As a self-described Democratic socialist, Sen....</td>\n",
              "      <td>middle-class</td>\n",
              "      <td>Non-biased</td>\n",
              "      <td>Entirely factual</td>\n",
              "      <td>['outspoken', 'self-described']</td>\n",
              "      <td>['self', 'socialist', 'Sen.', 'Bernie', 'Sande...</td>\n",
              "      <td>['described', 'has', 'been']</td>\n",
              "      <td>['Democratic', 'outspoken', 'economic']</td>\n",
              "      <td>[]</td>\n",
              "      <td>['Democratic']</td>\n",
              "      <td>['Bernie Sanders']</td>\n",
              "      <td>['Democratic', 'economic']</td>\n",
              "    </tr>\n",
              "    <tr>\n",
              "      <th>1699</th>\n",
              "      <td>During the segment, Colbert also bemoaned the ...</td>\n",
              "      <td>white-nationalism</td>\n",
              "      <td>Non-biased</td>\n",
              "      <td>No agreement</td>\n",
              "      <td>['bemoaned']</td>\n",
              "      <td>['segment', 'Colbert', 'fact', 'Barack', 'Obam...</td>\n",
              "      <td>['bemoaned', 'is']</td>\n",
              "      <td>['longer']</td>\n",
              "      <td>['also']</td>\n",
              "      <td>[]</td>\n",
              "      <td>['Colbert', 'Barack Obama']</td>\n",
              "      <td>['also', 'bemoaned', 'longer']</td>\n",
              "    </tr>\n",
              "  </tbody>\n",
              "</table>\n",
              "</div>"
            ],
            "text/plain": [
              "                                               sentence  ...                                      outliers\n",
              "1695  In every case legislators are being swarmed by...  ...  ['swarmed', 'happening', 'stop', 'hesitate']\n",
              "1696  Polls show the transgender ideology is deeply ...  ...        ['transgender', 'unpopular', 'deeply']\n",
              "1697  Democrats and Republicans stood and applauded ...  ...             ['preside', 'Native', 'American']\n",
              "1698  As a self-described Democratic socialist, Sen....  ...                    ['Democratic', 'economic']\n",
              "1699  During the segment, Colbert also bemoaned the ...  ...                ['also', 'bemoaned', 'longer']\n",
              "\n",
              "[5 rows x 12 columns]"
            ]
          },
          "metadata": {
            "tags": []
          },
          "execution_count": 6
        }
      ]
    },
    {
      "cell_type": "code",
      "metadata": {
        "id": "o2PoT30xO0lU",
        "colab": {
          "base_uri": "https://localhost:8080/"
        },
        "outputId": "b5df423e-780a-4b9e-a27c-d5cff1d0b1ca"
      },
      "source": [
        "data.Label_bias.isin(['Non-biased'])"
      ],
      "execution_count": null,
      "outputs": [
        {
          "output_type": "execute_result",
          "data": {
            "text/plain": [
              "0       False\n",
              "1        True\n",
              "2       False\n",
              "3        True\n",
              "4       False\n",
              "        ...  \n",
              "1695    False\n",
              "1696    False\n",
              "1697     True\n",
              "1698     True\n",
              "1699     True\n",
              "Name: Label_bias, Length: 1700, dtype: bool"
            ]
          },
          "metadata": {
            "tags": []
          },
          "execution_count": 7
        }
      ]
    },
    {
      "cell_type": "code",
      "metadata": {
        "id": "9bsxLBR9IXNx"
      },
      "source": [
        "def get_as_list(text):\n",
        "  list = []\n",
        "  for word in text.split():\n",
        "    list.append(''.join(e for e in word if e.isalnum()))\n",
        "  return list"
      ],
      "execution_count": null,
      "outputs": []
    },
    {
      "cell_type": "markdown",
      "metadata": {
        "id": "WLpVIxVE10h7"
      },
      "source": [
        "Make label dictionary for the model"
      ]
    },
    {
      "cell_type": "code",
      "metadata": {
        "id": "_9nKb1S91zv8"
      },
      "source": [
        "label2index = {\n",
        "    'Biased': 1,\n",
        "    'Non-biased': 0\n",
        "}\n",
        "n_lab = len(label2index)\n",
        "idx2label = {i: w for w, i in label2index.items()}"
      ],
      "execution_count": null,
      "outputs": []
    },
    {
      "cell_type": "markdown",
      "metadata": {
        "id": "lRFkT8RjQz8o"
      },
      "source": [
        "# Get the sentences ready with their labels"
      ]
    },
    {
      "cell_type": "code",
      "metadata": {
        "id": "V038NbWgQ_mj",
        "colab": {
          "base_uri": "https://localhost:8080/",
          "height": 397
        },
        "outputId": "ad17c093-a804-44cf-c1bd-e2f51c86e850"
      },
      "source": [
        "sentence_df = data.copy()\n",
        "sentence_df = sentence_df[sentence_df['Label_bias'] != 'No agreement']\n",
        "sentence_df = sentence_df.reset_index()\n",
        "sentence_df.tail(5)"
      ],
      "execution_count": null,
      "outputs": [
        {
          "output_type": "execute_result",
          "data": {
            "text/html": [
              "<div>\n",
              "<style scoped>\n",
              "    .dataframe tbody tr th:only-of-type {\n",
              "        vertical-align: middle;\n",
              "    }\n",
              "\n",
              "    .dataframe tbody tr th {\n",
              "        vertical-align: top;\n",
              "    }\n",
              "\n",
              "    .dataframe thead th {\n",
              "        text-align: right;\n",
              "    }\n",
              "</style>\n",
              "<table border=\"1\" class=\"dataframe\">\n",
              "  <thead>\n",
              "    <tr style=\"text-align: right;\">\n",
              "      <th></th>\n",
              "      <th>index</th>\n",
              "      <th>sentence</th>\n",
              "      <th>topic</th>\n",
              "      <th>Label_bias</th>\n",
              "      <th>Label_opinion</th>\n",
              "      <th>biased_words</th>\n",
              "      <th>Nouns</th>\n",
              "      <th>Verbs</th>\n",
              "      <th>Adjectives</th>\n",
              "      <th>Adverbs</th>\n",
              "      <th>NORP</th>\n",
              "      <th>PERSON</th>\n",
              "      <th>outliers</th>\n",
              "    </tr>\n",
              "  </thead>\n",
              "  <tbody>\n",
              "    <tr>\n",
              "      <th>1546</th>\n",
              "      <td>1695</td>\n",
              "      <td>In every case legislators are being swarmed by...</td>\n",
              "      <td>gender</td>\n",
              "      <td>Biased</td>\n",
              "      <td>Expresses writer’s opinion</td>\n",
              "      <td>['deceit', 'hysteria', 'swarmed', 'right-wing']</td>\n",
              "      <td>['case', 'legislators', 'wing', 'activists', '...</td>\n",
              "      <td>['are', 'being', 'swarmed', 'do', 'hesitate', ...</td>\n",
              "      <td>['right']</td>\n",
              "      <td>['n’t']</td>\n",
              "      <td>[]</td>\n",
              "      <td>[]</td>\n",
              "      <td>['swarmed', 'happening', 'stop', 'hesitate']</td>\n",
              "    </tr>\n",
              "    <tr>\n",
              "      <th>1547</th>\n",
              "      <td>1696</td>\n",
              "      <td>Polls show the transgender ideology is deeply ...</td>\n",
              "      <td>gender</td>\n",
              "      <td>Biased</td>\n",
              "      <td>Somewhat factual but also opinionated</td>\n",
              "      <td>['ideology', 'unpopular', 'deeply']</td>\n",
              "      <td>['Polls', 'ideology', 'women', 'parents']</td>\n",
              "      <td>['show', 'is']</td>\n",
              "      <td>['transgender', 'unpopular']</td>\n",
              "      <td>['deeply', 'especially']</td>\n",
              "      <td>[]</td>\n",
              "      <td>[]</td>\n",
              "      <td>['transgender', 'unpopular', 'deeply']</td>\n",
              "    </tr>\n",
              "    <tr>\n",
              "      <th>1548</th>\n",
              "      <td>1697</td>\n",
              "      <td>Democrats and Republicans stood and applauded ...</td>\n",
              "      <td>gender</td>\n",
              "      <td>Non-biased</td>\n",
              "      <td>Entirely factual</td>\n",
              "      <td>['saluted']</td>\n",
              "      <td>['Democrats', 'Republicans', 'Illinois', 'Rep....</td>\n",
              "      <td>['stood', 'applauded', 'saluted', 'making', 'p...</td>\n",
              "      <td>['top', 'first', 'Native', 'American']</td>\n",
              "      <td>[]</td>\n",
              "      <td>['Democrats', 'Republicans', 'Republican', 'Na...</td>\n",
              "      <td>['Rodney Davis']</td>\n",
              "      <td>['preside', 'Native', 'American']</td>\n",
              "    </tr>\n",
              "    <tr>\n",
              "      <th>1549</th>\n",
              "      <td>1698</td>\n",
              "      <td>As a self-described Democratic socialist, Sen....</td>\n",
              "      <td>middle-class</td>\n",
              "      <td>Non-biased</td>\n",
              "      <td>Entirely factual</td>\n",
              "      <td>['outspoken', 'self-described']</td>\n",
              "      <td>['self', 'socialist', 'Sen.', 'Bernie', 'Sande...</td>\n",
              "      <td>['described', 'has', 'been']</td>\n",
              "      <td>['Democratic', 'outspoken', 'economic']</td>\n",
              "      <td>[]</td>\n",
              "      <td>['Democratic']</td>\n",
              "      <td>['Bernie Sanders']</td>\n",
              "      <td>['Democratic', 'economic']</td>\n",
              "    </tr>\n",
              "    <tr>\n",
              "      <th>1550</th>\n",
              "      <td>1699</td>\n",
              "      <td>During the segment, Colbert also bemoaned the ...</td>\n",
              "      <td>white-nationalism</td>\n",
              "      <td>Non-biased</td>\n",
              "      <td>No agreement</td>\n",
              "      <td>['bemoaned']</td>\n",
              "      <td>['segment', 'Colbert', 'fact', 'Barack', 'Obam...</td>\n",
              "      <td>['bemoaned', 'is']</td>\n",
              "      <td>['longer']</td>\n",
              "      <td>['also']</td>\n",
              "      <td>[]</td>\n",
              "      <td>['Colbert', 'Barack Obama']</td>\n",
              "      <td>['also', 'bemoaned', 'longer']</td>\n",
              "    </tr>\n",
              "  </tbody>\n",
              "</table>\n",
              "</div>"
            ],
            "text/plain": [
              "      index  ...                                      outliers\n",
              "1546   1695  ...  ['swarmed', 'happening', 'stop', 'hesitate']\n",
              "1547   1696  ...        ['transgender', 'unpopular', 'deeply']\n",
              "1548   1697  ...             ['preside', 'Native', 'American']\n",
              "1549   1698  ...                    ['Democratic', 'economic']\n",
              "1550   1699  ...                ['also', 'bemoaned', 'longer']\n",
              "\n",
              "[5 rows x 13 columns]"
            ]
          },
          "metadata": {
            "tags": []
          },
          "execution_count": 10
        }
      ]
    },
    {
      "cell_type": "code",
      "metadata": {
        "id": "mKbJB6bGR7iC",
        "colab": {
          "base_uri": "https://localhost:8080/",
          "height": 34
        },
        "outputId": "8bcf4c3a-cb17-46bd-b293-91aa07e9cc37"
      },
      "source": [
        "sentences = sentence_df.sentence\n",
        "f\"Number of sentences => {len(sentences)}\""
      ],
      "execution_count": null,
      "outputs": [
        {
          "output_type": "execute_result",
          "data": {
            "application/vnd.google.colaboratory.intrinsic+json": {
              "type": "string"
            },
            "text/plain": [
              "'Number of sentences => 1551'"
            ]
          },
          "metadata": {
            "tags": []
          },
          "execution_count": 11
        }
      ]
    },
    {
      "cell_type": "code",
      "metadata": {
        "id": "Zycyhla3QUUh",
        "colab": {
          "base_uri": "https://localhost:8080/",
          "height": 34
        },
        "outputId": "189afa60-6a99-45b6-c1d3-f89cda773881"
      },
      "source": [
        "labels = sentence_df.Label_bias\n",
        "f\"Number of labels => {len(labels)}\""
      ],
      "execution_count": null,
      "outputs": [
        {
          "output_type": "execute_result",
          "data": {
            "application/vnd.google.colaboratory.intrinsic+json": {
              "type": "string"
            },
            "text/plain": [
              "'Number of labels => 1551'"
            ]
          },
          "metadata": {
            "tags": []
          },
          "execution_count": 12
        }
      ]
    },
    {
      "cell_type": "code",
      "metadata": {
        "id": "KLtBb1rJQ-Yt",
        "colab": {
          "base_uri": "https://localhost:8080/"
        },
        "outputId": "e488ec59-866f-4367-8565-358aeb163e5f"
      },
      "source": [
        "def find_label_in_df(n):\n",
        "  print(f'Features => {sentences[n]}')\n",
        "  print(f'Label => {labels[n]}')\n",
        "\n",
        "find_label_in_df(1550)"
      ],
      "execution_count": null,
      "outputs": [
        {
          "output_type": "stream",
          "text": [
            "Features => During the segment, Colbert also bemoaned the fact that Barack Obama is no longer president.\n",
            "Label => Non-biased\n"
          ],
          "name": "stdout"
        }
      ]
    },
    {
      "cell_type": "code",
      "metadata": {
        "id": "UVOULWYISxnx",
        "colab": {
          "base_uri": "https://localhost:8080/"
        },
        "outputId": "0a5ce2a4-586f-4754-f9d2-c6a56955ee23"
      },
      "source": [
        "from spacy.tokenizer import Tokenizer\n",
        "tokenizer = Tokenizer(nlp.vocab)\n",
        "def tokenize_sentence(sentence):\n",
        "  sequence = []\n",
        "  toks = tokenizer(sentence)\n",
        "  for token in toks:\n",
        "    sequence.append(token.text)\n",
        "  return sequence\n",
        "\n",
        "sen = sentences[1]\n",
        "tokenize_sentence(sen)"
      ],
      "execution_count": null,
      "outputs": [
        {
          "output_type": "execute_result",
          "data": {
            "text/plain": [
              "['The',\n",
              " 'increasingly',\n",
              " 'bitter',\n",
              " 'dispute',\n",
              " 'between',\n",
              " 'American',\n",
              " 'women’s',\n",
              " 'national',\n",
              " 'soccer',\n",
              " 'team',\n",
              " 'and',\n",
              " 'the',\n",
              " 'U.S.',\n",
              " 'Soccer',\n",
              " 'Federation',\n",
              " 'spilled',\n",
              " 'onto',\n",
              " 'the',\n",
              " 'field',\n",
              " 'Wednesday',\n",
              " 'night',\n",
              " 'when',\n",
              " 'players',\n",
              " 'wore',\n",
              " 'their',\n",
              " 'warm-up',\n",
              " 'jerseys',\n",
              " 'inside',\n",
              " 'outin',\n",
              " 'a',\n",
              " 'protest',\n",
              " 'before',\n",
              " 'their',\n",
              " '3-1',\n",
              " 'victory',\n",
              " 'over',\n",
              " 'Japan.']"
            ]
          },
          "metadata": {
            "tags": []
          },
          "execution_count": 14
        }
      ]
    },
    {
      "cell_type": "code",
      "metadata": {
        "id": "UBh9C4RDQ4Nv",
        "colab": {
          "base_uri": "https://localhost:8080/",
          "height": 264
        },
        "outputId": "ac7410b6-7c25-4874-aba4-6255be5a9fb4"
      },
      "source": [
        "%matplotlib inline\n",
        "plt.hist([len(sen) for sen in sentences], bins=80)\n",
        "plt.show()"
      ],
      "execution_count": null,
      "outputs": [
        {
          "output_type": "display_data",
          "data": {
            "image/png": "[encoded data removed]",
            "text/plain": [
              "<Figure size 432x288 with 1 Axes>"
            ]
          },
          "metadata": {
            "tags": [],
            "needs_background": "light"
          }
        }
      ]
    },
    {
      "cell_type": "code",
      "metadata": {
        "id": "rWB_mse543Bo"
      },
      "source": [
        "def decide_label(token, row_i):\n",
        "  if token == 'padded':\n",
        "    return label2index['irrelevant']\n",
        "\n",
        "  biased_words = get_as_list(data.biased_words[row_i])\n",
        "  outliers = get_as_list(data.outliers[row_i])\n",
        "  norp = get_as_list(data.NORP[row_i])\n",
        "  persons = get_as_list(data.PERSON[row_i])\n",
        "  verbs = get_as_list(data.Verbs[row_i])\n",
        "  adjectives = get_as_list(data.Adjectives[row_i])\n",
        "  nouns = get_as_list(data.Nouns[row_i])\n",
        "\n",
        "  if token in biased_words:\n",
        "    return label2index['definitely_biased']\n",
        "  elif token in outliers:\n",
        "    if token in norp or token in persons or token in nouns:\n",
        "      return label2index['not_biased']\n",
        "    else:\n",
        "      return label2index['maybe_biased']\n",
        "  else:\n",
        "    return label2index['irrelevant']"
      ],
      "execution_count": null,
      "outputs": []
    },
    {
      "cell_type": "code",
      "metadata": {
        "id": "EUIfCxtj7dxH"
      },
      "source": [
        "import re\n",
        "def label_token(token, row_i):\n",
        "  token_clean = re.findall('[\\w]+', token.lower())\n",
        "  if len(token_clean) > 0:\n",
        "    return decide_label(token_clean[0], row_i)\n",
        "  else:\n",
        "    return label2index['irrelevant']"
      ],
      "execution_count": null,
      "outputs": []
    },
    {
      "cell_type": "code",
      "metadata": {
        "id": "YYgQB2z0V_tp"
      },
      "source": [
        "max_len = 50\n",
        "X = [[w for w in tokenize_sentence(s)] for s in sentences]\n",
        "new_X = []\n",
        "\n",
        "import re\n",
        "for seq in X:\n",
        "  new_seq = []\n",
        "  for i in range(max_len):\n",
        "    try:\n",
        "      new_seq.append(seq[i])\n",
        "    except:\n",
        "      new_seq.append(\"PADDED\")\n",
        "  new_X.append(new_seq)"
      ],
      "execution_count": null,
      "outputs": []
    },
    {
      "cell_type": "code",
      "metadata": {
        "id": "FRdMOjx4BkuW",
        "colab": {
          "base_uri": "https://localhost:8080/"
        },
        "outputId": "51c564dd-5ac2-4855-9b7e-39f4c06a9f7a"
      },
      "source": [
        "len(new_X)"
      ],
      "execution_count": null,
      "outputs": [
        {
          "output_type": "execute_result",
          "data": {
            "text/plain": [
              "1551"
            ]
          },
          "metadata": {
            "tags": []
          },
          "execution_count": 19
        }
      ]
    },
    {
      "cell_type": "code",
      "metadata": {
        "id": "IwsRiogtR9a7",
        "colab": {
          "base_uri": "https://localhost:8080/"
        },
        "outputId": "8dbdc172-b0dd-4134-a2b8-fa92a91e4c31"
      },
      "source": [
        "def find_label(n):\n",
        "  print(f'Features => {new_X[n]}')\n",
        "  print(f'Label => {labels[n]}')\n",
        "\n",
        "find_label(1)"
      ],
      "execution_count": null,
      "outputs": [
        {
          "output_type": "stream",
          "text": [
            "Features => ['The', 'increasingly', 'bitter', 'dispute', 'between', 'American', 'women’s', 'national', 'soccer', 'team', 'and', 'the', 'U.S.', 'Soccer', 'Federation', 'spilled', 'onto', 'the', 'field', 'Wednesday', 'night', 'when', 'players', 'wore', 'their', 'warm-up', 'jerseys', 'inside', 'outin', 'a', 'protest', 'before', 'their', '3-1', 'victory', 'over', 'Japan.', 'PADDED', 'PADDED', 'PADDED', 'PADDED', 'PADDED', 'PADDED', 'PADDED', 'PADDED', 'PADDED', 'PADDED', 'PADDED', 'PADDED', 'PADDED']\n",
            "Label => Non-biased\n"
          ],
          "name": "stdout"
        }
      ]
    },
    {
      "cell_type": "code",
      "metadata": {
        "id": "ZDa2PI-2SNr4"
      },
      "source": [
        "y = labels.copy()"
      ],
      "execution_count": null,
      "outputs": []
    },
    {
      "cell_type": "code",
      "metadata": {
        "id": "AEOx6MdGUSct"
      },
      "source": [
        "y = [label2index[x] for x in y]"
      ],
      "execution_count": null,
      "outputs": []
    },
    {
      "cell_type": "code",
      "metadata": {
        "id": "-4Q5pkndoyJM",
        "colab": {
          "base_uri": "https://localhost:8080/",
          "height": 34
        },
        "outputId": "a0e360de-fd86-452a-d198-2049bd3d33c9"
      },
      "source": [
        "f\"Total training sequences => {len(new_X)} Total label sequences => {len(y)}\""
      ],
      "execution_count": null,
      "outputs": [
        {
          "output_type": "execute_result",
          "data": {
            "application/vnd.google.colaboratory.intrinsic+json": {
              "type": "string"
            },
            "text/plain": [
              "'Total training sequences => 1551 Total label sequences => 1551'"
            ]
          },
          "metadata": {
            "tags": []
          },
          "execution_count": 23
        }
      ]
    },
    {
      "cell_type": "markdown",
      "metadata": {
        "id": "6UuNcfhxrPrI"
      },
      "source": [
        "For training the network we also need to change the labels y to categorial."
      ]
    },
    {
      "cell_type": "code",
      "metadata": {
        "id": "v2JGBBcXSB1W"
      },
      "source": [
        "from sklearn.model_selection import train_test_split\n",
        "X_train, X_test, y_train, y_test = train_test_split(new_X, y, test_size=0.1, random_state=2018)"
      ],
      "execution_count": null,
      "outputs": []
    },
    {
      "cell_type": "code",
      "metadata": {
        "id": "IOqGncbh_4xp",
        "colab": {
          "base_uri": "https://localhost:8080/"
        },
        "outputId": "55719b6d-0ed6-4d44-ec8e-0d0bfc1bc88c"
      },
      "source": [
        "!pip install liwc\n",
        "\n",
        "import liwc\n",
        "parse, category_names = liwc.load_token_parser(\n",
        "    '/content/drive/My Drive/Bias_Lexica_Kanishka_WS1920/datasets/linguistics/LIWC2015_English.dic'\n",
        "    )\n",
        "\n",
        "from collections import Counter\n",
        "def get_category_counts_for_sentence(sentence):\n",
        "  liwc_cat_counts = Counter(category for token in sentence for category in parse(token))\n",
        "  return liwc_cat_counts\n",
        "\n",
        "def calculate_liwc_features(token, sentence):\n",
        "  liwc_sentence_counts = get_category_counts_for_sentence(sentence)\n",
        "  liwc_item_counts = Counter(category for t in [token] for category in parse(t))\n",
        "\n",
        "  #  for token\n",
        "  negemo_token_count = liwc_item_counts['negemo (Negative Emotions)']\n",
        "  posemo_token_count = liwc_item_counts['posemo (Positive Emotions)']\n",
        "  affective_token_count = liwc_item_counts['affect (Affect)']\n",
        "  drive_token_count = liwc_item_counts['drives (Drives)']\n",
        "  anger_token_count = liwc_item_counts['anger (Anger)']\n",
        "  risk_token_count = liwc_item_counts['risk (Risk)']\n",
        "\n",
        "  # For sentence\n",
        "  negemo_sent_count = liwc_sentence_counts['negemo (Negative Emotions)']\n",
        "  posemo_sent_count = liwc_sentence_counts['posemo (Positive Emotions)']\n",
        "  affective_sent_count = liwc_sentence_counts['affect (Affect)']\n",
        "  drive_sent_count = liwc_sentence_counts['drives (Drives)']\n",
        "  anger_sent_count = liwc_sentence_counts['anger (Anger)']\n",
        "  risk_sent_count = liwc_sentence_counts['risk (Risk)']\n",
        "\n",
        "  # calculate relative count ratios wrt the entire sentence\n",
        "  if negemo_sent_count > 0:\n",
        "    negemo_rel = negemo_token_count / negemo_sent_count \n",
        "  else:\n",
        "    negemo_rel = 0.0\n",
        "\n",
        "  if posemo_sent_count > 0:\n",
        "    posemo_rel = posemo_token_count / posemo_sent_count \n",
        "  else:\n",
        "    posemo_rel = 0.0\n",
        "\n",
        "  if affective_sent_count > 0:\n",
        "    affective_rel = affective_token_count / affective_sent_count \n",
        "  else:\n",
        "    affective_rel = 0.0\n",
        "  \n",
        "  if drive_sent_count > 0:\n",
        "    drive_rel = drive_token_count / drive_sent_count\n",
        "  else:\n",
        "    drive_rel = 0.0\n",
        "  \n",
        "  if anger_sent_count > 0:\n",
        "    anger_rel = anger_token_count / anger_sent_count\n",
        "  else:\n",
        "    anger_rel = 0.0\n",
        "\n",
        "  if risk_sent_count > 0:\n",
        "    risk_rel = risk_token_count / risk_sent_count\n",
        "  else:\n",
        "    risk_rel = 0.0\n",
        "\n",
        "  # print(f'{negemo_rel} {posemo_rel} {affective_rel} {drive_rel} {anger_rel} {risk_rel}')\n",
        "\n",
        "  return np.array([negemo_rel, posemo_rel, affective_rel, drive_rel, anger_rel, risk_rel])\n",
        "\n",
        "def extract_relative_liwc_features(tokens):\n",
        "  li = np.zeros(shape=(50, 6))\n",
        "  for i in range(50):\n",
        "    li[i] = calculate_liwc_features(tokens[i], tokens)\n",
        "  return li"
      ],
      "execution_count": null,
      "outputs": [
        {
          "output_type": "stream",
          "text": [
            "Collecting liwc\n",
            "  Downloading https://files.pythonhosted.org/packages/c9/7b/44560f665fbeb8bd8e297bcd3ac87b10336a3f621ad2db292e7a17f3b1da/liwc-0.5.0-py2.py3-none-any.whl\n",
            "Installing collected packages: liwc\n",
            "Successfully installed liwc-0.5.0\n"
          ],
          "name": "stdout"
        }
      ]
    },
    {
      "cell_type": "code",
      "metadata": {
        "id": "bgrUOfza_82i"
      },
      "source": [
        "li = np.zeros(shape=(len(X_train), 50, 6))\n",
        "count = 0\n",
        "for sentence in X_train:\n",
        "  count += 1\n",
        "  print(count)\n",
        "  for i in range(len(sentence)):\n",
        "    li[i] = extract_relative_liwc_features(sentence)"
      ],
      "execution_count": null,
      "outputs": []
    },
    {
      "cell_type": "code",
      "metadata": {
        "id": "LIt0POU7__Ve",
        "colab": {
          "base_uri": "https://localhost:8080/"
        },
        "outputId": "38d23665-572f-4bd0-f35a-0d1a804a4d3a"
      },
      "source": [
        "li.shape"
      ],
      "execution_count": null,
      "outputs": [
        {
          "output_type": "execute_result",
          "data": {
            "text/plain": [
              "(1395, 50, 6)"
            ]
          },
          "metadata": {
            "tags": []
          },
          "execution_count": 27
        }
      ]
    },
    {
      "cell_type": "markdown",
      "metadata": {
        "id": "3XPH-kOWtny7"
      },
      "source": [
        "Initialize Keras + TF session"
      ]
    },
    {
      "cell_type": "code",
      "metadata": {
        "id": "z7NFJQi1qmNN",
        "colab": {
          "base_uri": "https://localhost:8080/"
        },
        "outputId": "013b949c-3b77-47ae-b0fa-b1fdceba10fc"
      },
      "source": [
        "batch_size = 32\n",
        "import tensorflow as tf\n",
        "import tensorflow_hub as hub\n",
        "import keras\n",
        "from keras import backend as K\n",
        "sess = tf.Session()\n",
        "K.set_session(sess)\n",
        "import logging\n",
        "tf.get_logger().setLevel(logging.ERROR)"
      ],
      "execution_count": null,
      "outputs": [
        {
          "output_type": "stream",
          "text": [
            "Using TensorFlow backend.\n"
          ],
          "name": "stderr"
        }
      ]
    },
    {
      "cell_type": "code",
      "metadata": {
        "id": "bNbNgmpZ0J8x"
      },
      "source": [
        "elmo_model = hub.Module(\"https://tfhub.dev/google/elmo/2\", trainable=True)\n",
        "sess.run(tf.global_variables_initializer())\n",
        "sess.run(tf.tables_initializer())"
      ],
      "execution_count": null,
      "outputs": []
    },
    {
      "cell_type": "code",
      "metadata": {
        "id": "eVra_qwq8Hc7"
      },
      "source": [
        "def ELMOEmbeddingLayer(x):\n",
        "  embeddings_tensor = elmo_model(inputs={\n",
        "                            \"tokens\": tf.squeeze(tf.cast(x, tf.string)),\n",
        "                            \"sequence_len\": tf.constant(batch_size*[max_len])\n",
        "                      },\n",
        "                      signature=\"tokens\",\n",
        "                      as_dict=True)[\"elmo\"]\n",
        "  return embeddings_tensor"
      ],
      "execution_count": null,
      "outputs": []
    },
    {
      "cell_type": "code",
      "metadata": {
        "id": "gDYlHmQjG4U4"
      },
      "source": [
        "from keras_contrib.layers import CRF\n",
        "from keras.models import Sequential, Model\n",
        "from keras.layers import GRU, Embedding, Bidirectional, LSTM, Lambda, Input, TimeDistributed, Dense, Masking, InputLayer, Reshape, Flatten, Conv1D, MaxPooling1D, Conv2D, MaxPooling2D\n",
        "from keras.layers.merge import add\n",
        "from keras.layers.merge import concatenate\n",
        "from keras.utils import plot_model"
      ],
      "execution_count": null,
      "outputs": []
    },
    {
      "cell_type": "code",
      "metadata": {
        "id": "O5HZPcwSzWFb",
        "colab": {
          "base_uri": "https://localhost:8080/"
        },
        "outputId": "573d8d04-e64d-410c-9bd2-3d6df2f481d7"
      },
      "source": [
        "batch_size"
      ],
      "execution_count": null,
      "outputs": [
        {
          "output_type": "execute_result",
          "data": {
            "text/plain": [
              "32"
            ]
          },
          "metadata": {
            "tags": []
          },
          "execution_count": 34
        }
      ]
    },
    {
      "cell_type": "code",
      "metadata": {
        "id": "QVIN_i3TmFng",
        "colab": {
          "base_uri": "https://localhost:8080/",
          "height": 34
        },
        "outputId": "a5cd77f7-d45c-4f98-d286-fcc29229e5fc"
      },
      "source": [
        "n_tr_samples = 38 * batch_size\n",
        "X_TR = X_train[:n_tr_samples]\n",
        "X_TR_LIWC = li[:n_tr_samples]\n",
        "y_TR = y_train[:n_tr_samples]\n",
        "\n",
        "n_tes_samples = -3 * batch_size\n",
        "X_VAL = X_train[n_tes_samples:]\n",
        "X_VAL_LIWC = li[n_tes_samples:]\n",
        "y_VAL = y_train[n_tes_samples:]\n",
        "\n",
        "f'{len(X_TR)} {len(X_TR_LIWC)} {len(y_TR)} {len(X_VAL)} {len(X_VAL_LIWC)} {len(y_VAL)}'"
      ],
      "execution_count": null,
      "outputs": [
        {
          "output_type": "execute_result",
          "data": {
            "application/vnd.google.colaboratory.intrinsic+json": {
              "type": "string"
            },
            "text/plain": [
              "'1216 1216 1216 96 96 96'"
            ]
          },
          "metadata": {
            "tags": []
          },
          "execution_count": 35
        }
      ]
    },
    {
      "cell_type": "markdown",
      "metadata": {
        "id": "1rqs0tqJpkw_"
      },
      "source": [
        "# model 1"
      ]
    },
    {
      "cell_type": "code",
      "metadata": {
        "id": "hAZ-RWCoAJsW"
      },
      "source": [
        "input_text = Input(shape=(np.array(X_train).shape[-1], ), dtype=tf.string)\n",
        "\n",
        "# tokens\n",
        "input_x = Input(shape=(50,), dtype=tf.string) \n",
        "x_elmo_embedding = Lambda(ELMOEmbeddingLayer, output_shape=(50, 1024))(input_x)\n",
        "# m = Masking()(x_elmo_embedding)\n",
        "x_conv1d = Conv1D(512, kernel_size=4, padding='same', activation='relu')(x_elmo_embedding)\n",
        "pooling = MaxPooling1D()(x_conv1d)\n",
        "x = Bidirectional(LSTM(units=64, return_sequences=False, recurrent_dropout=0.2, dropout=0.2))(pooling)\n",
        "\n",
        "\n",
        "# LIWC embeddings\n",
        "input_y = Input(shape=(50,6), dtype=tf.int32) \n",
        "y_liwc_embedding = Embedding(input_dim=50000, output_dim=8, input_length=(50, 6), trainable=True)(input_y)\n",
        "reshaped_liwc_embedding = Reshape((50, 48))(y_liwc_embedding)\n",
        "y_conv1d = Conv1D(32, kernel_size=4, padding='same', activation='relu')(reshaped_liwc_embedding)\n",
        "y_pooling = MaxPooling1D()(y_conv1d)\n",
        "y = LSTM(units=64, return_sequences=False, recurrent_dropout=0.2, dropout=0.2)(y_pooling)\n",
        "\n",
        "concat = concatenate([x, y])\n",
        "\n",
        "d1 = Dense(10, activation=\"relu\")(concat)\n",
        "out = Dense(1, activation=\"sigmoid\")(d1)\n",
        "\n",
        "model = Model([input_x, input_y], out)\n",
        "model.compile(optimizer=\"adam\", loss='binary_crossentropy', metrics=['accuracy'])"
      ],
      "execution_count": null,
      "outputs": []
    },
    {
      "cell_type": "code",
      "metadata": {
        "id": "vMTIfNHtHnpO",
        "colab": {
          "base_uri": "https://localhost:8080/"
        },
        "outputId": "2f05178a-3d7d-4c8a-d01f-93003e7ea1ae"
      },
      "source": [
        "model.summary()"
      ],
      "execution_count": null,
      "outputs": [
        {
          "output_type": "stream",
          "text": [
            "__________________________________________________________________________________________________\n",
            "Layer (type)                    Output Shape         Param #     Connected to                     \n",
            "==================================================================================================\n",
            "input_25 (InputLayer)           (None, 50, 6)        0                                            \n",
            "__________________________________________________________________________________________________\n",
            "input_24 (InputLayer)           (None, 50)           0                                            \n",
            "__________________________________________________________________________________________________\n",
            "embedding_7 (Embedding)         (None, 50, 6, 8)     400000      input_25[0][0]                   \n",
            "__________________________________________________________________________________________________\n",
            "lambda_8 (Lambda)               (None, 50, 1024)     0           input_24[0][0]                   \n",
            "__________________________________________________________________________________________________\n",
            "reshape_7 (Reshape)             (None, 50, 48)       0           embedding_7[0][0]                \n",
            "__________________________________________________________________________________________________\n",
            "conv1d_14 (Conv1D)              (None, 50, 512)      2097664     lambda_8[0][0]                   \n",
            "__________________________________________________________________________________________________\n",
            "conv1d_15 (Conv1D)              (None, 50, 32)       6176        reshape_7[0][0]                  \n",
            "__________________________________________________________________________________________________\n",
            "max_pooling1d_13 (MaxPooling1D) (None, 25, 512)      0           conv1d_14[0][0]                  \n",
            "__________________________________________________________________________________________________\n",
            "max_pooling1d_14 (MaxPooling1D) (None, 25, 32)       0           conv1d_15[0][0]                  \n",
            "__________________________________________________________________________________________________\n",
            "bidirectional_12 (Bidirectional (None, 128)          295424      max_pooling1d_13[0][0]           \n",
            "__________________________________________________________________________________________________\n",
            "lstm_13 (LSTM)                  (None, 64)           24832       max_pooling1d_14[0][0]           \n",
            "__________________________________________________________________________________________________\n",
            "concatenate_6 (Concatenate)     (None, 192)          0           bidirectional_12[0][0]           \n",
            "                                                                 lstm_13[0][0]                    \n",
            "__________________________________________________________________________________________________\n",
            "dense_6 (Dense)                 (None, 10)           1930        concatenate_6[0][0]              \n",
            "__________________________________________________________________________________________________\n",
            "dense_7 (Dense)                 (None, 1)            11          dense_6[0][0]                    \n",
            "==================================================================================================\n",
            "Total params: 2,826,037\n",
            "Trainable params: 2,826,037\n",
            "Non-trainable params: 0\n",
            "__________________________________________________________________________________________________\n"
          ],
          "name": "stdout"
        }
      ]
    },
    {
      "cell_type": "code",
      "metadata": {
        "id": "NA8RuQdQVrnW",
        "colab": {
          "base_uri": "https://localhost:8080/"
        },
        "outputId": "ac0c15d5-3118-4897-8470-c0fa7cdafeae"
      },
      "source": [
        "history = model.fit(\n",
        "    [np.array(X_TR), np.array(X_TR_LIWC)], np.array(y_TR), \n",
        "    validation_data=([np.array(X_VAL), np.array(X_VAL_LIWC)], np.array(y_VAL)), \n",
        "    batch_size=batch_size, \n",
        "    epochs=10, \n",
        "    callbacks=[keras.callbacks.EarlyStopping(monitor='val_loss', patience=3, mode='min')],\n",
        "    verbose=1\n",
        ")"
      ],
      "execution_count": null,
      "outputs": [
        {
          "output_type": "stream",
          "text": [
            "Train on 1216 samples, validate on 96 samples\n",
            "Epoch 1/10\n",
            "1216/1216 [==============================] - 387s 318ms/step - loss: 0.5684 - acc: 0.6801 - val_loss: 0.4360 - val_acc: 0.7500\n",
            "Epoch 2/10\n",
            "1216/1216 [==============================] - 378s 311ms/step - loss: 0.4390 - acc: 0.7944 - val_loss: 0.3774 - val_acc: 0.8542\n",
            "Epoch 3/10\n",
            "1216/1216 [==============================] - 378s 311ms/step - loss: 0.3436 - acc: 0.8594 - val_loss: 0.4043 - val_acc: 0.8125\n",
            "Epoch 4/10\n",
            "1216/1216 [==============================] - 379s 311ms/step - loss: 0.2487 - acc: 0.9178 - val_loss: 0.3753 - val_acc: 0.8542\n",
            "Epoch 5/10\n",
            "1216/1216 [==============================] - 377s 310ms/step - loss: 0.1547 - acc: 0.9515 - val_loss: 0.5895 - val_acc: 0.7812\n",
            "Epoch 6/10\n",
            "1216/1216 [==============================] - 378s 311ms/step - loss: 0.0783 - acc: 0.9811 - val_loss: 0.5741 - val_acc: 0.7917\n",
            "Epoch 7/10\n",
            "1216/1216 [==============================] - 377s 310ms/step - loss: 0.0325 - acc: 0.9910 - val_loss: 0.6480 - val_acc: 0.8125\n"
          ],
          "name": "stdout"
        }
      ]
    },
    {
      "cell_type": "code",
      "metadata": {
        "id": "fybntG4NoR3e"
      },
      "source": [
        "hist = pd.DataFrame(history.history)"
      ],
      "execution_count": null,
      "outputs": []
    },
    {
      "cell_type": "code",
      "metadata": {
        "id": "POXl3MPuo9ND",
        "colab": {
          "base_uri": "https://localhost:8080/"
        },
        "outputId": "349533f7-2f1b-4534-ae46-1a995998746a"
      },
      "source": [
        "print(hist.keys())"
      ],
      "execution_count": null,
      "outputs": [
        {
          "output_type": "stream",
          "text": [
            "Index(['val_loss', 'val_acc', 'loss', 'acc'], dtype='object')\n"
          ],
          "name": "stdout"
        }
      ]
    },
    {
      "cell_type": "code",
      "metadata": {
        "id": "m4_newM1oVFM",
        "colab": {
          "base_uri": "https://localhost:8080/",
          "height": 700
        },
        "outputId": "3f8abfdd-aee6-4eb5-badd-0cf7422f8aeb"
      },
      "source": [
        "import matplotlib.pyplot as plt\n",
        "plt.style.use(\"ggplot\")\n",
        "plt.figure(figsize=(12, 12))\n",
        "plt.plot(hist[\"acc\"])\n",
        "plt.plot(hist[\"val_acc\"])\n",
        "plt.show()"
      ],
      "execution_count": null,
      "outputs": [
        {
          "output_type": "display_data",
          "data": {
            "image/png": "[encoded data removed]",
            "text/plain": [
              "<Figure size 864x864 with 1 Axes>"
            ]
          },
          "metadata": {
            "tags": []
          }
        }
      ]
    },
    {
      "cell_type": "code",
      "metadata": {
        "id": "1ss2eKSyQjMH"
      },
      "source": [
        "li_test = np.zeros(shape=(len(X_test), 50, 6))\n",
        "count = 0\n",
        "for sentence in X_test:\n",
        "  count += 1\n",
        "  print(count)\n",
        "  for i in range(len(sentence)):\n",
        "    li_test[i] = extract_relative_liwc_features(sentence)"
      ],
      "execution_count": null,
      "outputs": []
    },
    {
      "cell_type": "code",
      "metadata": {
        "id": "mu6QuzbjQkUC",
        "colab": {
          "base_uri": "https://localhost:8080/"
        },
        "outputId": "9d0c0e2f-bbc7-4533-f589-a8847852da2f"
      },
      "source": [
        "li_test.shape"
      ],
      "execution_count": null,
      "outputs": [
        {
          "output_type": "execute_result",
          "data": {
            "text/plain": [
              "(156, 50, 6)"
            ]
          },
          "metadata": {
            "tags": []
          },
          "execution_count": 42
        }
      ]
    },
    {
      "cell_type": "code",
      "metadata": {
        "id": "C_rZ48gkmvfW",
        "colab": {
          "base_uri": "https://localhost:8080/"
        },
        "outputId": "989ed2db-ee36-415c-97bf-ace923cbfa8a"
      },
      "source": [
        "test_pred = model.predict([np.array(X_test[:128]), np.array(li_test[:128])], verbose=1)"
      ],
      "execution_count": null,
      "outputs": [
        {
          "output_type": "stream",
          "text": [
            "128/128 [==============================] - 38s 297ms/step\n"
          ],
          "name": "stdout"
        }
      ]
    },
    {
      "cell_type": "code",
      "metadata": {
        "id": "u6lcznoRnSxc",
        "colab": {
          "base_uri": "https://localhost:8080/"
        },
        "outputId": "66bc85d0-67cd-4a27-e805-52635b9184e7"
      },
      "source": [
        "test_pred[:3]"
      ],
      "execution_count": null,
      "outputs": [
        {
          "output_type": "execute_result",
          "data": {
            "text/plain": [
              "array([[0.9951601 ],\n",
              "       [0.99909973],\n",
              "       [0.60607105]], dtype=float32)"
            ]
          },
          "metadata": {
            "tags": []
          },
          "execution_count": 59
        }
      ]
    },
    {
      "cell_type": "code",
      "metadata": {
        "id": "0XwJ1g9d1PNd",
        "colab": {
          "base_uri": "https://localhost:8080/"
        },
        "outputId": "ad3d45d9-8c57-47e4-a8e1-38d7abc97f64"
      },
      "source": [
        "np.round(test_pred[:3])"
      ],
      "execution_count": null,
      "outputs": [
        {
          "output_type": "execute_result",
          "data": {
            "text/plain": [
              "array([[1.],\n",
              "       [1.],\n",
              "       [1.]], dtype=float32)"
            ]
          },
          "metadata": {
            "tags": []
          },
          "execution_count": 61
        }
      ]
    },
    {
      "cell_type": "code",
      "metadata": {
        "id": "FIT2cStJrM-X",
        "colab": {
          "base_uri": "https://localhost:8080/"
        },
        "outputId": "4eaecb94-bf9c-4dff-e2eb-d1052b6c66c7"
      },
      "source": [
        "def pred2label(pred):\n",
        "    out = []\n",
        "    for pred_i in pred:\n",
        "      out_i = []\n",
        "      for p in pred_i:\n",
        "        p_i = np.round(p)\n",
        "        out_i.append(idx2label[p_i])\n",
        "      out.append(out_i)\n",
        "    return out\n",
        "    \n",
        "pred_labels = pred2label(test_pred)\n",
        "print(pred_labels)\n",
        "\n",
        "test_labels = [[idx2label[x]] for x in y_test[:128]]\n",
        "print(test_labels[:128])"
      ],
      "execution_count": null,
      "outputs": [
        {
          "output_type": "stream",
          "text": [
            "[['Biased'], ['Biased'], ['Biased'], ['Biased'], ['Biased'], ['Biased'], ['Non-biased'], ['Non-biased'], ['Biased'], ['Biased'], ['Biased'], ['Non-biased'], ['Biased'], ['Non-biased'], ['Non-biased'], ['Biased'], ['Non-biased'], ['Biased'], ['Biased'], ['Biased'], ['Non-biased'], ['Biased'], ['Biased'], ['Biased'], ['Non-biased'], ['Biased'], ['Non-biased'], ['Non-biased'], ['Non-biased'], ['Biased'], ['Non-biased'], ['Biased'], ['Biased'], ['Non-biased'], ['Non-biased'], ['Biased'], ['Biased'], ['Biased'], ['Biased'], ['Non-biased'], ['Non-biased'], ['Biased'], ['Biased'], ['Biased'], ['Non-biased'], ['Biased'], ['Biased'], ['Biased'], ['Biased'], ['Non-biased'], ['Non-biased'], ['Biased'], ['Biased'], ['Biased'], ['Biased'], ['Biased'], ['Biased'], ['Biased'], ['Biased'], ['Non-biased'], ['Biased'], ['Biased'], ['Non-biased'], ['Non-biased'], ['Biased'], ['Biased'], ['Biased'], ['Non-biased'], ['Biased'], ['Biased'], ['Biased'], ['Non-biased'], ['Biased'], ['Non-biased'], ['Biased'], ['Biased'], ['Biased'], ['Non-biased'], ['Biased'], ['Biased'], ['Non-biased'], ['Non-biased'], ['Biased'], ['Non-biased'], ['Non-biased'], ['Biased'], ['Non-biased'], ['Biased'], ['Biased'], ['Biased'], ['Biased'], ['Biased'], ['Non-biased'], ['Biased'], ['Non-biased'], ['Biased'], ['Non-biased'], ['Biased'], ['Biased'], ['Biased'], ['Biased'], ['Biased'], ['Biased'], ['Biased'], ['Non-biased'], ['Non-biased'], ['Non-biased'], ['Non-biased'], ['Biased'], ['Non-biased'], ['Non-biased'], ['Biased'], ['Non-biased'], ['Biased'], ['Non-biased'], ['Non-biased'], ['Biased'], ['Non-biased'], ['Biased'], ['Biased'], ['Biased'], ['Biased'], ['Biased'], ['Biased'], ['Non-biased'], ['Biased'], ['Non-biased'], ['Biased']]\n",
            "[['Non-biased'], ['Biased'], ['Non-biased'], ['Biased'], ['Biased'], ['Biased'], ['Non-biased'], ['Non-biased'], ['Biased'], ['Biased'], ['Biased'], ['Non-biased'], ['Biased'], ['Non-biased'], ['Biased'], ['Non-biased'], ['Non-biased'], ['Biased'], ['Biased'], ['Biased'], ['Non-biased'], ['Non-biased'], ['Non-biased'], ['Biased'], ['Biased'], ['Biased'], ['Non-biased'], ['Biased'], ['Non-biased'], ['Biased'], ['Biased'], ['Biased'], ['Non-biased'], ['Non-biased'], ['Biased'], ['Biased'], ['Biased'], ['Non-biased'], ['Biased'], ['Non-biased'], ['Biased'], ['Non-biased'], ['Biased'], ['Biased'], ['Non-biased'], ['Biased'], ['Biased'], ['Biased'], ['Biased'], ['Biased'], ['Non-biased'], ['Biased'], ['Non-biased'], ['Biased'], ['Biased'], ['Non-biased'], ['Biased'], ['Biased'], ['Biased'], ['Non-biased'], ['Biased'], ['Non-biased'], ['Non-biased'], ['Biased'], ['Biased'], ['Non-biased'], ['Biased'], ['Non-biased'], ['Biased'], ['Biased'], ['Biased'], ['Non-biased'], ['Biased'], ['Biased'], ['Biased'], ['Biased'], ['Biased'], ['Non-biased'], ['Biased'], ['Biased'], ['Biased'], ['Non-biased'], ['Biased'], ['Non-biased'], ['Biased'], ['Biased'], ['Non-biased'], ['Non-biased'], ['Biased'], ['Biased'], ['Biased'], ['Non-biased'], ['Non-biased'], ['Non-biased'], ['Non-biased'], ['Biased'], ['Biased'], ['Biased'], ['Biased'], ['Biased'], ['Biased'], ['Biased'], ['Biased'], ['Non-biased'], ['Non-biased'], ['Non-biased'], ['Biased'], ['Non-biased'], ['Biased'], ['Non-biased'], ['Non-biased'], ['Biased'], ['Non-biased'], ['Biased'], ['Non-biased'], ['Non-biased'], ['Non-biased'], ['Non-biased'], ['Biased'], ['Biased'], ['Biased'], ['Biased'], ['Biased'], ['Non-biased'], ['Non-biased'], ['Non-biased'], ['Biased'], ['Non-biased']]\n"
          ],
          "name": "stdout"
        }
      ]
    },
    {
      "cell_type": "code",
      "metadata": {
        "id": "wc1DF6GepAPO",
        "colab": {
          "base_uri": "https://localhost:8080/"
        },
        "outputId": "904e0e4d-b608-40dd-c6ca-d06588525b6e"
      },
      "source": [
        "len(test_labels)"
      ],
      "execution_count": null,
      "outputs": [
        {
          "output_type": "execute_result",
          "data": {
            "text/plain": [
              "128"
            ]
          },
          "metadata": {
            "tags": []
          },
          "execution_count": 63
        }
      ]
    },
    {
      "cell_type": "code",
      "metadata": {
        "id": "GZmQDPaMpCc-",
        "colab": {
          "base_uri": "https://localhost:8080/"
        },
        "outputId": "d0a896f4-dd39-4744-f4df-b1f1c7f3fc3d"
      },
      "source": [
        "len(pred_labels)"
      ],
      "execution_count": null,
      "outputs": [
        {
          "output_type": "execute_result",
          "data": {
            "text/plain": [
              "128"
            ]
          },
          "metadata": {
            "tags": []
          },
          "execution_count": 64
        }
      ]
    },
    {
      "cell_type": "code",
      "metadata": {
        "id": "-f9StNdcqW9e"
      },
      "source": [
        "import sklearn"
      ],
      "execution_count": null,
      "outputs": []
    },
    {
      "cell_type": "code",
      "metadata": {
        "id": "f2r5HViPrszG",
        "colab": {
          "base_uri": "https://localhost:8080/"
        },
        "outputId": "ae451f72-1f1d-41a0-9dae-e1f361fc60e0"
      },
      "source": [
        "print(sklearn.metrics.classification_report(test_labels, pred_labels))"
      ],
      "execution_count": null,
      "outputs": [
        {
          "output_type": "stream",
          "text": [
            "              precision    recall  f1-score   support\n",
            "\n",
            "      Biased       0.76      0.82      0.78        76\n",
            "  Non-biased       0.70      0.62      0.65        52\n",
            "\n",
            "    accuracy                           0.73       128\n",
            "   macro avg       0.73      0.72      0.72       128\n",
            "weighted avg       0.73      0.73      0.73       128\n",
            "\n"
          ],
          "name": "stdout"
        }
      ]
    },
    {
      "cell_type": "code",
      "metadata": {
        "id": "lDTjdoi7Uscn"
      },
      "source": [
        ""
      ],
      "execution_count": null,
      "outputs": []
    },
    {
      "cell_type": "markdown",
      "metadata": {
        "id": "JN_US2RS8JEz"
      },
      "source": [
        "# model 2"
      ]
    },
    {
      "cell_type": "code",
      "metadata": {
        "id": "x266_Tju4Tk2"
      },
      "source": [
        "from keras.layers import Layer\n",
        "class attention(Layer):\n",
        "  def __init__(self,**kwargs):\n",
        "    super(attention,self).__init__(**kwargs)\n",
        "\n",
        "  def build(self,input_shape):\n",
        "    self.W=self.add_weight(name=\"att_weight\",shape=(input_shape[-1],1),initializer=\"normal\")\n",
        "    # print(self.W.shape)\n",
        "    self.b=self.add_weight(name=\"att_bias\",shape=(input_shape[1],1),initializer=\"zeros\")    \n",
        "    # print(self.b.shape)    \n",
        "    super(attention, self).build(input_shape)\n",
        "\n",
        "  def call(self,x):\n",
        "    et=K.squeeze(K.tanh(K.dot(x,self.W)+self.b),axis=-1)\n",
        "    at=K.softmax(et)\n",
        "    at=K.expand_dims(at,axis=-1)\n",
        "    output=x*at\n",
        "    return K.sum(output,axis=1)\n",
        "\n",
        "  def compute_output_shape(self,input_shape):\n",
        "    return (input_shape[0],input_shape[-1])\n",
        "\n",
        "  def get_config(self):\n",
        "    return super(attention,self).get_config()"
      ],
      "execution_count": null,
      "outputs": []
    },
    {
      "cell_type": "code",
      "metadata": {
        "id": "Eq9UU1-635XM",
        "colab": {
          "base_uri": "https://localhost:8080/"
        },
        "outputId": "f315547e-3693-4449-af34-4b7160981b7a"
      },
      "source": [
        "input_text = Input(shape=(np.array(X_train).shape[-1], ), dtype=tf.string)\n",
        "\n",
        "# tokens\n",
        "input_x = Input(shape=(50,), dtype=tf.string) \n",
        "x_elmo_embedding = Lambda(ELMOEmbeddingLayer, output_shape=(50, 1024))(input_x)\n",
        "x_conv1d = Conv1D(512, kernel_size=4, padding='same', activation='relu')(x_elmo_embedding)\n",
        "pooling = MaxPooling1D()(x_conv1d)\n",
        "x_attention_in = Bidirectional(LSTM(units=16, return_sequences=True, recurrent_dropout=0.2, dropout=0.2))(pooling)\n",
        "x_attention_out=attention()(x_attention_in)\n",
        "\n",
        "\n",
        "# LIWC embeddings\n",
        "input_y = Input(shape=(50,6), dtype=tf.int32) \n",
        "y_liwc_embedding = Embedding(input_dim=50000, output_dim=8, input_length=(50, 6), trainable=True)(input_y)\n",
        "reshaped_liwc_embedding = Reshape((50, 48))(y_liwc_embedding)\n",
        "y_conv1d = Conv1D(32, kernel_size=4, padding='same', activation='relu')(reshaped_liwc_embedding)\n",
        "y_pooling = MaxPooling1D()(y_conv1d)\n",
        "y = LSTM(units=32, return_sequences=True, recurrent_dropout=0.2, dropout=0.2)(y_pooling)\n",
        "y_attention_out=attention()(y)\n",
        "\n",
        "c = concatenate([x_attention_out, y_attention_out])\n",
        "print(c.shape)\n",
        "\n",
        "# d1 = Dense(10, activation=\"relu\")(attention_out)\n",
        "out = Dense(1, activation=\"sigmoid\")(c)\n",
        "\n",
        "model = Model([input_x, input_y], out)\n",
        "model.compile(optimizer=\"adam\", loss='binary_crossentropy', metrics=['accuracy'])"
      ],
      "execution_count": null,
      "outputs": [
        {
          "output_type": "stream",
          "text": [
            "(32, 64)\n"
          ],
          "name": "stdout"
        }
      ]
    },
    {
      "cell_type": "code",
      "metadata": {
        "id": "Y39_egV38HMz",
        "colab": {
          "base_uri": "https://localhost:8080/"
        },
        "outputId": "945c7ccc-f7f0-48a1-9b30-058a69cb2cbe"
      },
      "source": [
        "model.summary()"
      ],
      "execution_count": null,
      "outputs": [
        {
          "output_type": "stream",
          "text": [
            "__________________________________________________________________________________________________\n",
            "Layer (type)                    Output Shape         Param #     Connected to                     \n",
            "==================================================================================================\n",
            "input_3 (InputLayer)            (None, 50, 6)        0                                            \n",
            "__________________________________________________________________________________________________\n",
            "input_2 (InputLayer)            (None, 50)           0                                            \n",
            "__________________________________________________________________________________________________\n",
            "embedding_1 (Embedding)         (None, 50, 6, 8)     400000      input_3[0][0]                    \n",
            "__________________________________________________________________________________________________\n",
            "lambda_1 (Lambda)               (None, 50, 1024)     0           input_2[0][0]                    \n",
            "__________________________________________________________________________________________________\n",
            "reshape_1 (Reshape)             (None, 50, 48)       0           embedding_1[0][0]                \n",
            "__________________________________________________________________________________________________\n",
            "conv1d_1 (Conv1D)               (None, 50, 512)      2097664     lambda_1[0][0]                   \n",
            "__________________________________________________________________________________________________\n",
            "conv1d_2 (Conv1D)               (None, 50, 32)       6176        reshape_1[0][0]                  \n",
            "__________________________________________________________________________________________________\n",
            "max_pooling1d_1 (MaxPooling1D)  (None, 25, 512)      0           conv1d_1[0][0]                   \n",
            "__________________________________________________________________________________________________\n",
            "max_pooling1d_2 (MaxPooling1D)  (None, 25, 32)       0           conv1d_2[0][0]                   \n",
            "__________________________________________________________________________________________________\n",
            "bidirectional_1 (Bidirectional) (None, 25, 32)       67712       max_pooling1d_1[0][0]            \n",
            "__________________________________________________________________________________________________\n",
            "lstm_2 (LSTM)                   (None, 25, 32)       8320        max_pooling1d_2[0][0]            \n",
            "__________________________________________________________________________________________________\n",
            "attention_1 (attention)         (None, 32)           57          bidirectional_1[0][0]            \n",
            "__________________________________________________________________________________________________\n",
            "attention_2 (attention)         (None, 32)           57          lstm_2[0][0]                     \n",
            "__________________________________________________________________________________________________\n",
            "concatenate_1 (Concatenate)     (None, 64)           0           attention_1[0][0]                \n",
            "                                                                 attention_2[0][0]                \n",
            "__________________________________________________________________________________________________\n",
            "dense_1 (Dense)                 (None, 1)            65          concatenate_1[0][0]              \n",
            "==================================================================================================\n",
            "Total params: 2,580,051\n",
            "Trainable params: 2,580,051\n",
            "Non-trainable params: 0\n",
            "__________________________________________________________________________________________________\n"
          ],
          "name": "stdout"
        }
      ]
    },
    {
      "cell_type": "code",
      "metadata": {
        "id": "w1rranoP9GL9",
        "colab": {
          "base_uri": "https://localhost:8080/"
        },
        "outputId": "a65da4bf-43fb-4201-bc82-45401d48b001"
      },
      "source": [
        "history = model.fit(\n",
        "    [np.array(X_TR), np.array(X_TR_LIWC)], np.array(y_TR), \n",
        "    validation_data=([np.array(X_VAL), np.array(X_VAL_LIWC)], np.array(y_VAL)), \n",
        "    batch_size=batch_size, \n",
        "    epochs=10, \n",
        "    callbacks=[keras.callbacks.EarlyStopping(monitor='val_loss', patience=3, mode='min')],\n",
        "    verbose=1\n",
        ")"
      ],
      "execution_count": null,
      "outputs": [
        {
          "output_type": "stream",
          "text": [
            "Train on 1216 samples, validate on 96 samples\n",
            "Epoch 1/10\n",
            "1216/1216 [==============================] - 399s 328ms/step - loss: 0.5138 - acc: 0.7352 - val_loss: 0.4204 - val_acc: 0.8125\n",
            "Epoch 2/10\n",
            "1216/1216 [==============================] - 393s 323ms/step - loss: 0.4198 - acc: 0.8076 - val_loss: 0.4168 - val_acc: 0.8229\n",
            "Epoch 3/10\n",
            "1216/1216 [==============================] - 382s 314ms/step - loss: 0.3567 - acc: 0.8429 - val_loss: 0.3847 - val_acc: 0.8438\n",
            "Epoch 4/10\n",
            "1216/1216 [==============================] - 385s 317ms/step - loss: 0.2897 - acc: 0.8808 - val_loss: 0.3924 - val_acc: 0.8333\n",
            "Epoch 5/10\n",
            "1216/1216 [==============================] - 397s 326ms/step - loss: 0.2240 - acc: 0.9219 - val_loss: 0.3938 - val_acc: 0.8333\n",
            "Epoch 6/10\n",
            "1216/1216 [==============================] - 404s 333ms/step - loss: 0.1425 - acc: 0.9613 - val_loss: 0.4360 - val_acc: 0.8333\n"
          ],
          "name": "stdout"
        }
      ]
    },
    {
      "cell_type": "code",
      "metadata": {
        "id": "nGvVl2JW9RJS",
        "colab": {
          "base_uri": "https://localhost:8080/"
        },
        "outputId": "df4b0f81-799f-4644-d945-c36e491532d6"
      },
      "source": [
        "test_pred = model.predict([np.array(X_test[:128]), np.array(li_test[:128])], verbose=1)"
      ],
      "execution_count": null,
      "outputs": [
        {
          "output_type": "stream",
          "text": [
            "128/128 [==============================] - 38s 296ms/step\n"
          ],
          "name": "stdout"
        }
      ]
    },
    {
      "cell_type": "code",
      "metadata": {
        "id": "bpAllBVmRZnr",
        "colab": {
          "base_uri": "https://localhost:8080/"
        },
        "outputId": "fba08925-5403-4ecb-e074-feeb1656ae58"
      },
      "source": [
        "test_pred[:3]"
      ],
      "execution_count": null,
      "outputs": [
        {
          "output_type": "execute_result",
          "data": {
            "text/plain": [
              "array([[0.80829465],\n",
              "       [0.9888502 ],\n",
              "       [0.03645697]], dtype=float32)"
            ]
          },
          "metadata": {
            "tags": []
          },
          "execution_count": 44
        }
      ]
    },
    {
      "cell_type": "code",
      "metadata": {
        "id": "T1dqPJcjRZn1",
        "colab": {
          "base_uri": "https://localhost:8080/"
        },
        "outputId": "aaaab3de-3ba5-42d6-e623-eede469538c0"
      },
      "source": [
        "np.round(test_pred[:3])"
      ],
      "execution_count": null,
      "outputs": [
        {
          "output_type": "execute_result",
          "data": {
            "text/plain": [
              "array([[1.],\n",
              "       [1.],\n",
              "       [0.]], dtype=float32)"
            ]
          },
          "metadata": {
            "tags": []
          },
          "execution_count": 45
        }
      ]
    },
    {
      "cell_type": "code",
      "metadata": {
        "id": "AIBX1dkORZn8",
        "colab": {
          "base_uri": "https://localhost:8080/"
        },
        "outputId": "0c26352b-979b-41c6-b0be-771abfa1cee0"
      },
      "source": [
        "def pred2label(pred):\n",
        "    out = []\n",
        "    for pred_i in pred:\n",
        "      out_i = []\n",
        "      for p in pred_i:\n",
        "        p_i = np.round(p)\n",
        "        out_i.append(idx2label[p_i])\n",
        "      out.append(out_i)\n",
        "    return out\n",
        "    \n",
        "pred_labels = pred2label(test_pred)\n",
        "print(pred_labels)\n",
        "\n",
        "test_labels = [[idx2label[x]] for x in y_test[:128]]\n",
        "print(test_labels[:128])"
      ],
      "execution_count": null,
      "outputs": [
        {
          "output_type": "stream",
          "text": [
            "[['Biased'], ['Biased'], ['Non-biased'], ['Biased'], ['Biased'], ['Biased'], ['Non-biased'], ['Non-biased'], ['Biased'], ['Biased'], ['Biased'], ['Non-biased'], ['Biased'], ['Non-biased'], ['Non-biased'], ['Biased'], ['Non-biased'], ['Biased'], ['Biased'], ['Non-biased'], ['Non-biased'], ['Biased'], ['Biased'], ['Biased'], ['Non-biased'], ['Biased'], ['Non-biased'], ['Biased'], ['Non-biased'], ['Biased'], ['Non-biased'], ['Non-biased'], ['Biased'], ['Non-biased'], ['Non-biased'], ['Biased'], ['Biased'], ['Biased'], ['Non-biased'], ['Non-biased'], ['Non-biased'], ['Non-biased'], ['Non-biased'], ['Biased'], ['Non-biased'], ['Biased'], ['Non-biased'], ['Biased'], ['Biased'], ['Non-biased'], ['Non-biased'], ['Biased'], ['Biased'], ['Biased'], ['Biased'], ['Biased'], ['Biased'], ['Biased'], ['Biased'], ['Non-biased'], ['Biased'], ['Biased'], ['Non-biased'], ['Non-biased'], ['Biased'], ['Biased'], ['Biased'], ['Non-biased'], ['Biased'], ['Biased'], ['Biased'], ['Non-biased'], ['Biased'], ['Biased'], ['Biased'], ['Biased'], ['Biased'], ['Non-biased'], ['Biased'], ['Biased'], ['Non-biased'], ['Non-biased'], ['Biased'], ['Biased'], ['Biased'], ['Biased'], ['Non-biased'], ['Non-biased'], ['Biased'], ['Biased'], ['Biased'], ['Non-biased'], ['Non-biased'], ['Biased'], ['Non-biased'], ['Biased'], ['Biased'], ['Non-biased'], ['Biased'], ['Biased'], ['Non-biased'], ['Biased'], ['Biased'], ['Non-biased'], ['Non-biased'], ['Non-biased'], ['Biased'], ['Non-biased'], ['Biased'], ['Biased'], ['Non-biased'], ['Non-biased'], ['Non-biased'], ['Biased'], ['Non-biased'], ['Biased'], ['Biased'], ['Non-biased'], ['Biased'], ['Biased'], ['Biased'], ['Biased'], ['Biased'], ['Biased'], ['Non-biased'], ['Biased'], ['Biased'], ['Non-biased']]\n",
            "[['Non-biased'], ['Biased'], ['Non-biased'], ['Biased'], ['Biased'], ['Biased'], ['Non-biased'], ['Non-biased'], ['Biased'], ['Biased'], ['Biased'], ['Non-biased'], ['Biased'], ['Non-biased'], ['Biased'], ['Non-biased'], ['Non-biased'], ['Biased'], ['Biased'], ['Biased'], ['Non-biased'], ['Non-biased'], ['Non-biased'], ['Biased'], ['Biased'], ['Biased'], ['Non-biased'], ['Biased'], ['Non-biased'], ['Biased'], ['Biased'], ['Biased'], ['Non-biased'], ['Non-biased'], ['Biased'], ['Biased'], ['Biased'], ['Non-biased'], ['Biased'], ['Non-biased'], ['Biased'], ['Non-biased'], ['Biased'], ['Biased'], ['Non-biased'], ['Biased'], ['Biased'], ['Biased'], ['Biased'], ['Biased'], ['Non-biased'], ['Biased'], ['Non-biased'], ['Biased'], ['Biased'], ['Non-biased'], ['Biased'], ['Biased'], ['Biased'], ['Non-biased'], ['Biased'], ['Non-biased'], ['Non-biased'], ['Biased'], ['Biased'], ['Non-biased'], ['Biased'], ['Non-biased'], ['Biased'], ['Biased'], ['Biased'], ['Non-biased'], ['Biased'], ['Biased'], ['Biased'], ['Biased'], ['Biased'], ['Non-biased'], ['Biased'], ['Biased'], ['Biased'], ['Non-biased'], ['Biased'], ['Non-biased'], ['Biased'], ['Biased'], ['Non-biased'], ['Non-biased'], ['Biased'], ['Biased'], ['Biased'], ['Non-biased'], ['Non-biased'], ['Non-biased'], ['Non-biased'], ['Biased'], ['Biased'], ['Biased'], ['Biased'], ['Biased'], ['Biased'], ['Biased'], ['Biased'], ['Non-biased'], ['Non-biased'], ['Non-biased'], ['Biased'], ['Non-biased'], ['Biased'], ['Non-biased'], ['Non-biased'], ['Biased'], ['Non-biased'], ['Biased'], ['Non-biased'], ['Non-biased'], ['Non-biased'], ['Non-biased'], ['Biased'], ['Biased'], ['Biased'], ['Biased'], ['Biased'], ['Non-biased'], ['Non-biased'], ['Non-biased'], ['Biased'], ['Non-biased']]\n"
          ],
          "name": "stdout"
        }
      ]
    },
    {
      "cell_type": "code",
      "metadata": {
        "id": "IbJplRVqRZoF",
        "colab": {
          "base_uri": "https://localhost:8080/"
        },
        "outputId": "54eccbe5-4a89-42f7-9941-b4cccf740182"
      },
      "source": [
        "len(test_labels)"
      ],
      "execution_count": null,
      "outputs": [
        {
          "output_type": "execute_result",
          "data": {
            "text/plain": [
              "128"
            ]
          },
          "metadata": {
            "tags": []
          },
          "execution_count": 47
        }
      ]
    },
    {
      "cell_type": "code",
      "metadata": {
        "id": "Q5oGFfvtRZoL",
        "colab": {
          "base_uri": "https://localhost:8080/"
        },
        "outputId": "6e4fb31d-e539-4597-b1fd-1c9ba44f1a8c"
      },
      "source": [
        "len(pred_labels)"
      ],
      "execution_count": null,
      "outputs": [
        {
          "output_type": "execute_result",
          "data": {
            "text/plain": [
              "128"
            ]
          },
          "metadata": {
            "tags": []
          },
          "execution_count": 48
        }
      ]
    },
    {
      "cell_type": "code",
      "metadata": {
        "id": "W4ruZPHLRZoQ"
      },
      "source": [
        "import sklearn"
      ],
      "execution_count": null,
      "outputs": []
    },
    {
      "cell_type": "code",
      "metadata": {
        "id": "jDza9RrkRZoU",
        "colab": {
          "base_uri": "https://localhost:8080/"
        },
        "outputId": "22dc55d4-a59a-45a2-8e47-b453b2540e0f"
      },
      "source": [
        "print(sklearn.metrics.classification_report(test_labels, pred_labels))"
      ],
      "execution_count": null,
      "outputs": [
        {
          "output_type": "stream",
          "text": [
            "              precision    recall  f1-score   support\n",
            "\n",
            "      Biased       0.78      0.79      0.78        76\n",
            "  Non-biased       0.69      0.67      0.68        52\n",
            "\n",
            "    accuracy                           0.74       128\n",
            "   macro avg       0.73      0.73      0.73       128\n",
            "weighted avg       0.74      0.74      0.74       128\n",
            "\n"
          ],
          "name": "stdout"
        }
      ]
    },
    {
      "cell_type": "markdown",
      "metadata": {
        "id": "24rmzcA_NFo3"
      },
      "source": [
        "# model 3"
      ]
    },
    {
      "cell_type": "code",
      "metadata": {
        "id": "8kAo3YqrNFo6"
      },
      "source": [
        "from keras.layers import Layer\n",
        "class attention(Layer):\n",
        "  def __init__(self,**kwargs):\n",
        "    super(attention,self).__init__(**kwargs)\n",
        "\n",
        "  def build(self,input_shape):\n",
        "    self.W=self.add_weight(name=\"att_weight\",shape=(input_shape[-1],1),initializer=\"normal\")\n",
        "    # print(self.W.shape)\n",
        "    self.b=self.add_weight(name=\"att_bias\",shape=(input_shape[1],1),initializer=\"zeros\")    \n",
        "    # print(self.b.shape)    \n",
        "    super(attention, self).build(input_shape)\n",
        "\n",
        "  def call(self,x):\n",
        "    et=K.squeeze(K.tanh(K.dot(x,self.W)+self.b),axis=-1)\n",
        "    at=K.softmax(et)\n",
        "    at=K.expand_dims(at,axis=-1)\n",
        "    output=x*at\n",
        "    return K.sum(output,axis=1)\n",
        "\n",
        "  def compute_output_shape(self,input_shape):\n",
        "    return (input_shape[0],input_shape[-1])\n",
        "\n",
        "  def get_config(self):\n",
        "    return super(attention,self).get_config()"
      ],
      "execution_count": null,
      "outputs": []
    },
    {
      "cell_type": "code",
      "metadata": {
        "id": "9nq--B7GNFpA"
      },
      "source": [
        "input_text = Input(shape=(np.array(X_train).shape[-1], ), dtype=tf.string)\n",
        "\n",
        "# tokens\n",
        "input_x = Input(shape=(50,), dtype=tf.string) \n",
        "x_elmo_embedding = Lambda(ELMOEmbeddingLayer, output_shape=(50, 1024))(input_x)\n",
        "x_attention_in = Bidirectional(LSTM(units=16, return_sequences=True, recurrent_dropout=0.2, dropout=0.2))(x_elmo_embedding)\n",
        "x_attention_out=attention()(x_attention_in)\n",
        "\n",
        "\n",
        "# LIWC embeddings\n",
        "input_y = Input(shape=(50,6), dtype=tf.int32) \n",
        "y_liwc_embedding = Embedding(input_dim=50000, output_dim=8, input_length=(50, 6), trainable=True)(input_y)\n",
        "reshaped_liwc_embedding = Reshape((50, 48))(y_liwc_embedding)\n",
        "y = Bidirectional(LSTM(units=16, return_sequences=True, recurrent_dropout=0.2, dropout=0.2))(reshaped_liwc_embedding)\n",
        "y_attention_out=attention()(y)\n",
        "\n",
        "c = concatenate([x_attention_out, y_attention_out])\n",
        "d = Dense(64, activation=\"relu\")(c)\n",
        "out = Dense(1, activation=\"sigmoid\")(d)\n",
        "\n",
        "model = Model([input_x, input_y], out)\n",
        "model.compile(optimizer=\"adam\", loss='binary_crossentropy', metrics=['accuracy'])"
      ],
      "execution_count": null,
      "outputs": []
    },
    {
      "cell_type": "code",
      "metadata": {
        "id": "iUi7VYKUNFpD",
        "colab": {
          "base_uri": "https://localhost:8080/"
        },
        "outputId": "4a4c4322-1822-471c-d9e0-e1b819443144"
      },
      "source": [
        "model.summary()"
      ],
      "execution_count": null,
      "outputs": [
        {
          "output_type": "stream",
          "text": [
            "__________________________________________________________________________________________________\n",
            "Layer (type)                    Output Shape         Param #     Connected to                     \n",
            "==================================================================================================\n",
            "input_18 (InputLayer)           (None, 50, 6)        0                                            \n",
            "__________________________________________________________________________________________________\n",
            "input_17 (InputLayer)           (None, 50)           0                                            \n",
            "__________________________________________________________________________________________________\n",
            "embedding_6 (Embedding)         (None, 50, 6, 8)     400000      input_18[0][0]                   \n",
            "__________________________________________________________________________________________________\n",
            "lambda_6 (Lambda)               (None, 50, 1024)     0           input_17[0][0]                   \n",
            "__________________________________________________________________________________________________\n",
            "reshape_6 (Reshape)             (None, 50, 48)       0           embedding_6[0][0]                \n",
            "__________________________________________________________________________________________________\n",
            "bidirectional_11 (Bidirectional (None, 50, 32)       133248      lambda_6[0][0]                   \n",
            "__________________________________________________________________________________________________\n",
            "bidirectional_12 (Bidirectional (None, 50, 32)       8320        reshape_6[0][0]                  \n",
            "__________________________________________________________________________________________________\n",
            "attention_11 (attention)        (None, 32)           82          bidirectional_11[0][0]           \n",
            "__________________________________________________________________________________________________\n",
            "attention_12 (attention)        (None, 32)           82          bidirectional_12[0][0]           \n",
            "__________________________________________________________________________________________________\n",
            "concatenate_6 (Concatenate)     (None, 64)           0           attention_11[0][0]               \n",
            "                                                                 attention_12[0][0]               \n",
            "__________________________________________________________________________________________________\n",
            "dense_9 (Dense)                 (None, 64)           4160        concatenate_6[0][0]              \n",
            "__________________________________________________________________________________________________\n",
            "dense_10 (Dense)                (None, 1)            65          dense_9[0][0]                    \n",
            "==================================================================================================\n",
            "Total params: 545,957\n",
            "Trainable params: 545,957\n",
            "Non-trainable params: 0\n",
            "__________________________________________________________________________________________________\n"
          ],
          "name": "stdout"
        }
      ]
    },
    {
      "cell_type": "code",
      "metadata": {
        "id": "QaYm-b0tNFpF",
        "colab": {
          "base_uri": "https://localhost:8080/"
        },
        "outputId": "adb1172c-ff74-4cea-bbb0-e160e4f0105d"
      },
      "source": [
        "history = model.fit(\n",
        "    [np.array(X_TR), np.array(X_TR_LIWC)], np.array(y_TR), \n",
        "    validation_data=([np.array(X_VAL), np.array(X_VAL_LIWC)], np.array(y_VAL)), \n",
        "    batch_size=batch_size, \n",
        "    epochs=10, \n",
        "    callbacks=[keras.callbacks.EarlyStopping(monitor='val_loss', patience=3, mode='min')],\n",
        "    verbose=1\n",
        ")"
      ],
      "execution_count": null,
      "outputs": [
        {
          "output_type": "stream",
          "text": [
            "Train on 1216 samples, validate on 96 samples\n",
            "Epoch 1/10\n",
            "1216/1216 [==============================] - 276s 227ms/step - loss: 0.5814 - acc: 0.6974 - val_loss: 0.4606 - val_acc: 0.8021\n",
            "Epoch 2/10\n",
            "1216/1216 [==============================] - 270s 222ms/step - loss: 0.4626 - acc: 0.7780 - val_loss: 0.4105 - val_acc: 0.8229\n",
            "Epoch 3/10\n",
            "1216/1216 [==============================] - 270s 222ms/step - loss: 0.3953 - acc: 0.8051 - val_loss: 0.3906 - val_acc: 0.8333\n",
            "Epoch 4/10\n",
            "1216/1216 [==============================] - 268s 220ms/step - loss: 0.3510 - acc: 0.8495 - val_loss: 0.4125 - val_acc: 0.8021\n",
            "Epoch 5/10\n",
            "1216/1216 [==============================] - 270s 222ms/step - loss: 0.2939 - acc: 0.8783 - val_loss: 0.3991 - val_acc: 0.8333\n",
            "Epoch 6/10\n",
            "1216/1216 [==============================] - 270s 222ms/step - loss: 0.2370 - acc: 0.9079 - val_loss: 0.4279 - val_acc: 0.8021\n"
          ],
          "name": "stdout"
        }
      ]
    },
    {
      "cell_type": "code",
      "metadata": {
        "id": "jux5gFitXXbY"
      },
      "source": [
        "li_test = np.zeros(shape=(len(X_test), 50, 6))\n",
        "count = 0\n",
        "for sentence in X_test:\n",
        "  count += 1\n",
        "  print(count)\n",
        "  for i in range(len(sentence)):\n",
        "    li_test[i] = extract_relative_liwc_features(sentence)"
      ],
      "execution_count": null,
      "outputs": []
    },
    {
      "cell_type": "code",
      "metadata": {
        "id": "DoIO2sfqXXba",
        "colab": {
          "base_uri": "https://localhost:8080/"
        },
        "outputId": "ea96ae68-8429-472e-80dc-d7b631acd1e0"
      },
      "source": [
        "li_test.shape"
      ],
      "execution_count": null,
      "outputs": [
        {
          "output_type": "execute_result",
          "data": {
            "text/plain": [
              "(156, 50, 6)"
            ]
          },
          "metadata": {
            "tags": []
          },
          "execution_count": 49
        }
      ]
    },
    {
      "cell_type": "code",
      "metadata": {
        "id": "n74ZGv8CNFpI",
        "colab": {
          "base_uri": "https://localhost:8080/"
        },
        "outputId": "1cc5a032-794c-4d83-a608-bf31482fe332"
      },
      "source": [
        "test_pred = model.predict([np.array(X_test[:128]), np.array(li_test[:128])], verbose=1)"
      ],
      "execution_count": null,
      "outputs": [
        {
          "output_type": "stream",
          "text": [
            "128/128 [==============================] - 27s 213ms/step\n"
          ],
          "name": "stdout"
        }
      ]
    },
    {
      "cell_type": "code",
      "metadata": {
        "id": "gchv6fQ-NFpK",
        "colab": {
          "base_uri": "https://localhost:8080/"
        },
        "outputId": "0354056d-736f-4e8d-f4d7-99807e3662ab"
      },
      "source": [
        "test_pred[:3]"
      ],
      "execution_count": null,
      "outputs": [
        {
          "output_type": "execute_result",
          "data": {
            "text/plain": [
              "array([[0.7251195 ],\n",
              "       [0.9967854 ],\n",
              "       [0.07888815]], dtype=float32)"
            ]
          },
          "metadata": {
            "tags": []
          },
          "execution_count": 51
        }
      ]
    },
    {
      "cell_type": "code",
      "metadata": {
        "id": "ttZk9G8iNFpM",
        "colab": {
          "base_uri": "https://localhost:8080/"
        },
        "outputId": "63a9b45f-8d14-41c2-9cf8-47a95b81343d"
      },
      "source": [
        "np.round(test_pred[:3])"
      ],
      "execution_count": null,
      "outputs": [
        {
          "output_type": "execute_result",
          "data": {
            "text/plain": [
              "array([[1.],\n",
              "       [1.],\n",
              "       [0.]], dtype=float32)"
            ]
          },
          "metadata": {
            "tags": []
          },
          "execution_count": 52
        }
      ]
    },
    {
      "cell_type": "code",
      "metadata": {
        "id": "oQEWsYTLNFpP",
        "colab": {
          "base_uri": "https://localhost:8080/"
        },
        "outputId": "736efd18-3a97-4957-8ad4-177f1f68a782"
      },
      "source": [
        "def pred2label(pred):\n",
        "    out = []\n",
        "    for pred_i in pred:\n",
        "      out_i = []\n",
        "      for p in pred_i:\n",
        "        p_i = np.round(p)\n",
        "        out_i.append(idx2label[p_i])\n",
        "      out.append(out_i)\n",
        "    return out\n",
        "    \n",
        "pred_labels = pred2label(test_pred)\n",
        "print(pred_labels)\n",
        "\n",
        "test_labels = [[idx2label[x]] for x in y_test[:128]]\n",
        "print(test_labels[:128])"
      ],
      "execution_count": null,
      "outputs": [
        {
          "output_type": "stream",
          "text": [
            "[['Biased'], ['Biased'], ['Non-biased'], ['Biased'], ['Biased'], ['Biased'], ['Non-biased'], ['Non-biased'], ['Biased'], ['Biased'], ['Biased'], ['Non-biased'], ['Biased'], ['Non-biased'], ['Non-biased'], ['Non-biased'], ['Non-biased'], ['Biased'], ['Biased'], ['Non-biased'], ['Non-biased'], ['Biased'], ['Biased'], ['Biased'], ['Non-biased'], ['Biased'], ['Non-biased'], ['Biased'], ['Non-biased'], ['Biased'], ['Biased'], ['Biased'], ['Biased'], ['Non-biased'], ['Non-biased'], ['Biased'], ['Biased'], ['Biased'], ['Non-biased'], ['Non-biased'], ['Non-biased'], ['Non-biased'], ['Biased'], ['Biased'], ['Non-biased'], ['Biased'], ['Non-biased'], ['Biased'], ['Biased'], ['Non-biased'], ['Non-biased'], ['Biased'], ['Biased'], ['Biased'], ['Biased'], ['Biased'], ['Biased'], ['Biased'], ['Biased'], ['Biased'], ['Biased'], ['Biased'], ['Non-biased'], ['Non-biased'], ['Biased'], ['Biased'], ['Biased'], ['Non-biased'], ['Biased'], ['Non-biased'], ['Biased'], ['Non-biased'], ['Biased'], ['Biased'], ['Biased'], ['Biased'], ['Biased'], ['Non-biased'], ['Biased'], ['Biased'], ['Non-biased'], ['Non-biased'], ['Biased'], ['Biased'], ['Biased'], ['Biased'], ['Non-biased'], ['Non-biased'], ['Biased'], ['Biased'], ['Biased'], ['Non-biased'], ['Non-biased'], ['Biased'], ['Non-biased'], ['Biased'], ['Non-biased'], ['Non-biased'], ['Biased'], ['Biased'], ['Biased'], ['Biased'], ['Biased'], ['Biased'], ['Non-biased'], ['Non-biased'], ['Non-biased'], ['Non-biased'], ['Biased'], ['Non-biased'], ['Non-biased'], ['Biased'], ['Non-biased'], ['Biased'], ['Non-biased'], ['Biased'], ['Biased'], ['Non-biased'], ['Biased'], ['Non-biased'], ['Biased'], ['Biased'], ['Biased'], ['Biased'], ['Non-biased'], ['Biased'], ['Non-biased'], ['Non-biased']]\n",
            "[['Non-biased'], ['Biased'], ['Non-biased'], ['Biased'], ['Biased'], ['Biased'], ['Non-biased'], ['Non-biased'], ['Biased'], ['Biased'], ['Biased'], ['Non-biased'], ['Biased'], ['Non-biased'], ['Biased'], ['Non-biased'], ['Non-biased'], ['Biased'], ['Biased'], ['Biased'], ['Non-biased'], ['Non-biased'], ['Non-biased'], ['Biased'], ['Biased'], ['Biased'], ['Non-biased'], ['Biased'], ['Non-biased'], ['Biased'], ['Biased'], ['Biased'], ['Non-biased'], ['Non-biased'], ['Biased'], ['Biased'], ['Biased'], ['Non-biased'], ['Biased'], ['Non-biased'], ['Biased'], ['Non-biased'], ['Biased'], ['Biased'], ['Non-biased'], ['Biased'], ['Biased'], ['Biased'], ['Biased'], ['Biased'], ['Non-biased'], ['Biased'], ['Non-biased'], ['Biased'], ['Biased'], ['Non-biased'], ['Biased'], ['Biased'], ['Biased'], ['Non-biased'], ['Biased'], ['Non-biased'], ['Non-biased'], ['Biased'], ['Biased'], ['Non-biased'], ['Biased'], ['Non-biased'], ['Biased'], ['Biased'], ['Biased'], ['Non-biased'], ['Biased'], ['Biased'], ['Biased'], ['Biased'], ['Biased'], ['Non-biased'], ['Biased'], ['Biased'], ['Biased'], ['Non-biased'], ['Biased'], ['Non-biased'], ['Biased'], ['Biased'], ['Non-biased'], ['Non-biased'], ['Biased'], ['Biased'], ['Biased'], ['Non-biased'], ['Non-biased'], ['Non-biased'], ['Non-biased'], ['Biased'], ['Biased'], ['Biased'], ['Biased'], ['Biased'], ['Biased'], ['Biased'], ['Biased'], ['Non-biased'], ['Non-biased'], ['Non-biased'], ['Biased'], ['Non-biased'], ['Biased'], ['Non-biased'], ['Non-biased'], ['Biased'], ['Non-biased'], ['Biased'], ['Non-biased'], ['Non-biased'], ['Non-biased'], ['Non-biased'], ['Biased'], ['Biased'], ['Biased'], ['Biased'], ['Biased'], ['Non-biased'], ['Non-biased'], ['Non-biased'], ['Biased'], ['Non-biased']]\n"
          ],
          "name": "stdout"
        }
      ]
    },
    {
      "cell_type": "code",
      "metadata": {
        "id": "DCMlEN6qNFpS",
        "colab": {
          "base_uri": "https://localhost:8080/"
        },
        "outputId": "254bca0d-fce6-4ce9-c971-9ecf209a16a2"
      },
      "source": [
        "len(test_labels)"
      ],
      "execution_count": null,
      "outputs": [
        {
          "output_type": "execute_result",
          "data": {
            "text/plain": [
              "128"
            ]
          },
          "metadata": {
            "tags": []
          },
          "execution_count": 54
        }
      ]
    },
    {
      "cell_type": "code",
      "metadata": {
        "id": "2S4V5c8iNFpV",
        "colab": {
          "base_uri": "https://localhost:8080/"
        },
        "outputId": "25a0fcd3-f978-4cdc-915b-ba39b772d088"
      },
      "source": [
        "len(pred_labels)"
      ],
      "execution_count": null,
      "outputs": [
        {
          "output_type": "execute_result",
          "data": {
            "text/plain": [
              "128"
            ]
          },
          "metadata": {
            "tags": []
          },
          "execution_count": 55
        }
      ]
    },
    {
      "cell_type": "code",
      "metadata": {
        "id": "zSsfX0UzNFpX"
      },
      "source": [
        "import sklearn"
      ],
      "execution_count": null,
      "outputs": []
    },
    {
      "cell_type": "code",
      "metadata": {
        "id": "oXZ2uJgPNFpa",
        "colab": {
          "base_uri": "https://localhost:8080/"
        },
        "outputId": "77646a03-bedb-4c10-b4f5-e20fbe3adf7a"
      },
      "source": [
        "print(sklearn.metrics.classification_report(test_labels, pred_labels))"
      ],
      "execution_count": null,
      "outputs": [
        {
          "output_type": "stream",
          "text": [
            "              precision    recall  f1-score   support\n",
            "\n",
            "      Biased       0.78      0.79      0.78        76\n",
            "  Non-biased       0.69      0.67      0.68        52\n",
            "\n",
            "    accuracy                           0.74       128\n",
            "   macro avg       0.73      0.73      0.73       128\n",
            "weighted avg       0.74      0.74      0.74       128\n",
            "\n"
          ],
          "name": "stdout"
        }
      ]
    }
  ]
}