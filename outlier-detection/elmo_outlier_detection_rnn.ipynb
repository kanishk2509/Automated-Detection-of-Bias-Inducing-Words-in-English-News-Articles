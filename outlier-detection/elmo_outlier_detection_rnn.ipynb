{
  "nbformat": 4,
  "nbformat_minor": 0,
  "metadata": {
    "colab": {
      "name": "elmo-outlier-detection-rnn.ipynb",
      "provenance": []
    },
    "kernelspec": {
      "name": "python3",
      "display_name": "Python 3"
    }
  },
  "cells": [
    {
      "cell_type": "code",
      "metadata": {
        "id": "BXNrcaWKcBDz"
      },
      "source": [
        "!pip uninstall keras\n",
        "!pip install keras==2.2.4\n",
        "!pip uninstall tensorflow\n",
        "!pip install \"tensorflow>=1.15,<2.0\"\n",
        "!pip install --upgrade tensorflow-hub\n",
        "!pip install git+https://www.github.com/keras-team/keras-contrib.git"
      ],
      "execution_count": null,
      "outputs": []
    },
    {
      "cell_type": "code",
      "metadata": {
        "id": "BqrB75OtF4kz"
      },
      "source": [
        "import warnings\n",
        "import pandas as pd\n",
        "import numpy as np\n",
        "import matplotlib.pyplot as plt\n",
        "plt.style.use(\"ggplot\")\n",
        "import spacy\n",
        "warnings.simplefilter('ignore')\n",
        "from pprint import pprint\n",
        "nlp = spacy.load('en', disable=['parser', 'ner'])\n",
        "nlp_sm = spacy.load(\"en_core_web_sm\")"
      ],
      "execution_count": null,
      "outputs": []
    },
    {
      "cell_type": "markdown",
      "metadata": {
        "id": "VoNNw6MRpJBs"
      },
      "source": [
        "Read the file"
      ]
    },
    {
      "cell_type": "code",
      "metadata": {
        "id": "GReVxOhuDY7W",
        "colab": {
          "base_uri": "https://localhost:8080/",
          "height": 187
        },
        "outputId": "f6df61fb-efc6-4cc9-9603-5b80190af6df"
      },
      "source": [
        "sentences_file = \"/content/drive/My Drive/Bias_Lexica_Kanishka_WS1920/datasets/labeled_sentences_dataset_3.csv\"\n",
        "data = pd.read_csv(sentences_file, encoding='utf-8')\n",
        "data = data.drop(['Unnamed: 0', 'news_link'], axis=1)\n",
        "data = data.fillna(method=\"ffill\")\n",
        "data.tail(3)"
      ],
      "execution_count": null,
      "outputs": [
        {
          "output_type": "execute_result",
          "data": {
            "text/html": [
              "<div>\n",
              "<style scoped>\n",
              "    .dataframe tbody tr th:only-of-type {\n",
              "        vertical-align: middle;\n",
              "    }\n",
              "\n",
              "    .dataframe tbody tr th {\n",
              "        vertical-align: top;\n",
              "    }\n",
              "\n",
              "    .dataframe thead th {\n",
              "        text-align: right;\n",
              "    }\n",
              "</style>\n",
              "<table border=\"1\" class=\"dataframe\">\n",
              "  <thead>\n",
              "    <tr style=\"text-align: right;\">\n",
              "      <th></th>\n",
              "      <th>sentence</th>\n",
              "      <th>outlet</th>\n",
              "      <th>topic</th>\n",
              "      <th>type</th>\n",
              "      <th>group_id</th>\n",
              "      <th>num_sent</th>\n",
              "      <th>Label_bias</th>\n",
              "      <th>Label_opinion</th>\n",
              "      <th>biased_words</th>\n",
              "      <th>article</th>\n",
              "    </tr>\n",
              "  </thead>\n",
              "  <tbody>\n",
              "    <tr>\n",
              "      <th>1697</th>\n",
              "      <td>Democrats and Republicans stood and applauded ...</td>\n",
              "      <td>usa-today</td>\n",
              "      <td>gender</td>\n",
              "      <td>center</td>\n",
              "      <td>85</td>\n",
              "      <td>1</td>\n",
              "      <td>Non-biased</td>\n",
              "      <td>Entirely factual</td>\n",
              "      <td>['saluted']</td>\n",
              "      <td>A man’s penis becomes a female penis once a ma...</td>\n",
              "    </tr>\n",
              "    <tr>\n",
              "      <th>1698</th>\n",
              "      <td>As a self-described Democratic socialist, Sen....</td>\n",
              "      <td>fox-news</td>\n",
              "      <td>middle-class</td>\n",
              "      <td>right</td>\n",
              "      <td>85</td>\n",
              "      <td>1</td>\n",
              "      <td>Non-biased</td>\n",
              "      <td>Entirely factual</td>\n",
              "      <td>['outspoken', 'self-described']</td>\n",
              "      <td>As a self-described Democratic socialist, Sen....</td>\n",
              "    </tr>\n",
              "    <tr>\n",
              "      <th>1699</th>\n",
              "      <td>During the segment, Colbert also bemoaned the ...</td>\n",
              "      <td>breitbart</td>\n",
              "      <td>white-nationalism</td>\n",
              "      <td>right</td>\n",
              "      <td>85</td>\n",
              "      <td>1</td>\n",
              "      <td>Non-biased</td>\n",
              "      <td>No agreement</td>\n",
              "      <td>['bemoaned']</td>\n",
              "      <td>CBS Late Show host Stephen Colbert claimed on ...</td>\n",
              "    </tr>\n",
              "  </tbody>\n",
              "</table>\n",
              "</div>"
            ],
            "text/plain": [
              "                                               sentence  ...                                            article\n",
              "1697  Democrats and Republicans stood and applauded ...  ...  A man’s penis becomes a female penis once a ma...\n",
              "1698  As a self-described Democratic socialist, Sen....  ...  As a self-described Democratic socialist, Sen....\n",
              "1699  During the segment, Colbert also bemoaned the ...  ...  CBS Late Show host Stephen Colbert claimed on ...\n",
              "\n",
              "[3 rows x 10 columns]"
            ]
          },
          "metadata": {
            "tags": []
          },
          "execution_count": 3
        }
      ]
    },
    {
      "cell_type": "code",
      "metadata": {
        "id": "nf6nNyjk5S3z",
        "colab": {
          "base_uri": "https://localhost:8080/",
          "height": 347
        },
        "outputId": "cc740823-e3fb-45de-f101-8728b689bc3e"
      },
      "source": [
        "ling_lexicon_file = \"/content/drive/My Drive/Bias_Lexica_Kanishka_WS1920/datasets/linguistics/linguistic_lexicon_verb_adjective.csv\"\n",
        "ling_lexicon_df = pd.read_csv(ling_lexicon_file, encoding='utf-8')\n",
        "ling_lexicon_df = ling_lexicon_df.fillna(method=\"ffill\")\n",
        "ling_lexicon_df = ling_lexicon_df.drop(['Unnamed: 0'], axis=1)\n",
        "ling_lexicon_df.head(10)"
      ],
      "execution_count": null,
      "outputs": [
        {
          "output_type": "execute_result",
          "data": {
            "text/html": [
              "<div>\n",
              "<style scoped>\n",
              "    .dataframe tbody tr th:only-of-type {\n",
              "        vertical-align: middle;\n",
              "    }\n",
              "\n",
              "    .dataframe tbody tr th {\n",
              "        vertical-align: top;\n",
              "    }\n",
              "\n",
              "    .dataframe thead th {\n",
              "        text-align: right;\n",
              "    }\n",
              "</style>\n",
              "<table border=\"1\" class=\"dataframe\">\n",
              "  <thead>\n",
              "    <tr style=\"text-align: right;\">\n",
              "      <th></th>\n",
              "      <th>word</th>\n",
              "      <th>word_type</th>\n",
              "      <th>lexica_type</th>\n",
              "    </tr>\n",
              "  </thead>\n",
              "  <tbody>\n",
              "    <tr>\n",
              "      <th>0</th>\n",
              "      <td>manage</td>\n",
              "      <td>verb</td>\n",
              "      <td>implicative</td>\n",
              "    </tr>\n",
              "    <tr>\n",
              "      <th>1</th>\n",
              "      <td>remember</td>\n",
              "      <td>verb</td>\n",
              "      <td>implicative</td>\n",
              "    </tr>\n",
              "    <tr>\n",
              "      <th>2</th>\n",
              "      <td>bother</td>\n",
              "      <td>verb</td>\n",
              "      <td>implicative</td>\n",
              "    </tr>\n",
              "    <tr>\n",
              "      <th>3</th>\n",
              "      <td>get</td>\n",
              "      <td>verb</td>\n",
              "      <td>implicative</td>\n",
              "    </tr>\n",
              "    <tr>\n",
              "      <th>4</th>\n",
              "      <td>dare</td>\n",
              "      <td>verb</td>\n",
              "      <td>implicative</td>\n",
              "    </tr>\n",
              "    <tr>\n",
              "      <th>5</th>\n",
              "      <td>care</td>\n",
              "      <td>verb</td>\n",
              "      <td>implicative</td>\n",
              "    </tr>\n",
              "    <tr>\n",
              "      <th>6</th>\n",
              "      <td>venture</td>\n",
              "      <td>verb</td>\n",
              "      <td>implicative</td>\n",
              "    </tr>\n",
              "    <tr>\n",
              "      <th>7</th>\n",
              "      <td>condescend</td>\n",
              "      <td>verb</td>\n",
              "      <td>implicative</td>\n",
              "    </tr>\n",
              "    <tr>\n",
              "      <th>8</th>\n",
              "      <td>happen</td>\n",
              "      <td>verb</td>\n",
              "      <td>implicative</td>\n",
              "    </tr>\n",
              "    <tr>\n",
              "      <th>9</th>\n",
              "      <td>see fit</td>\n",
              "      <td>verb</td>\n",
              "      <td>implicative</td>\n",
              "    </tr>\n",
              "  </tbody>\n",
              "</table>\n",
              "</div>"
            ],
            "text/plain": [
              "         word word_type  lexica_type\n",
              "0      manage      verb  implicative\n",
              "1    remember      verb  implicative\n",
              "2      bother      verb  implicative\n",
              "3         get      verb  implicative\n",
              "4        dare      verb  implicative\n",
              "5        care      verb  implicative\n",
              "6     venture      verb  implicative\n",
              "7  condescend      verb  implicative\n",
              "8      happen      verb  implicative\n",
              "9     see fit      verb  implicative"
            ]
          },
          "metadata": {
            "tags": []
          },
          "execution_count": 4
        }
      ]
    },
    {
      "cell_type": "code",
      "metadata": {
        "id": "9bsxLBR9IXNx"
      },
      "source": [
        "def get_as_list(text):\n",
        "  list = []\n",
        "  for word in text.split():\n",
        "    list.append(''.join(e.lower() for e in word if e.isalnum()))\n",
        "  return list"
      ],
      "execution_count": null,
      "outputs": []
    },
    {
      "cell_type": "code",
      "metadata": {
        "id": "HnFYwcfnGBVj",
        "colab": {
          "base_uri": "https://localhost:8080/",
          "height": 314
        },
        "outputId": "04e4e5c9-29e1-4ecc-8d3c-81d3e3a1731d"
      },
      "source": [
        "sentence_df = data.copy()\n",
        "sentence_df.head(5)"
      ],
      "execution_count": null,
      "outputs": [
        {
          "output_type": "execute_result",
          "data": {
            "text/html": [
              "<div>\n",
              "<style scoped>\n",
              "    .dataframe tbody tr th:only-of-type {\n",
              "        vertical-align: middle;\n",
              "    }\n",
              "\n",
              "    .dataframe tbody tr th {\n",
              "        vertical-align: top;\n",
              "    }\n",
              "\n",
              "    .dataframe thead th {\n",
              "        text-align: right;\n",
              "    }\n",
              "</style>\n",
              "<table border=\"1\" class=\"dataframe\">\n",
              "  <thead>\n",
              "    <tr style=\"text-align: right;\">\n",
              "      <th></th>\n",
              "      <th>sentence</th>\n",
              "      <th>outlet</th>\n",
              "      <th>topic</th>\n",
              "      <th>type</th>\n",
              "      <th>group_id</th>\n",
              "      <th>num_sent</th>\n",
              "      <th>Label_bias</th>\n",
              "      <th>Label_opinion</th>\n",
              "      <th>biased_words</th>\n",
              "      <th>article</th>\n",
              "    </tr>\n",
              "  </thead>\n",
              "  <tbody>\n",
              "    <tr>\n",
              "      <th>0</th>\n",
              "      <td>YouTube is making clear there will be no “birt...</td>\n",
              "      <td>usa-today</td>\n",
              "      <td>elections-2020</td>\n",
              "      <td>center</td>\n",
              "      <td>1</td>\n",
              "      <td>1</td>\n",
              "      <td>Biased</td>\n",
              "      <td>Somewhat factual but also opinionated</td>\n",
              "      <td>['belated', 'birtherism']</td>\n",
              "      <td>YouTube says no ‘deepfakes’ or ‘birther’ video...</td>\n",
              "    </tr>\n",
              "    <tr>\n",
              "      <th>1</th>\n",
              "      <td>The increasingly bitter dispute between Americ...</td>\n",
              "      <td>msnbc</td>\n",
              "      <td>sport</td>\n",
              "      <td>left</td>\n",
              "      <td>1</td>\n",
              "      <td>1</td>\n",
              "      <td>Non-biased</td>\n",
              "      <td>Entirely factual</td>\n",
              "      <td>['bitter', 'spilled']</td>\n",
              "      <td>FRISCO, Texas — The increasingly bitter disput...</td>\n",
              "    </tr>\n",
              "    <tr>\n",
              "      <th>2</th>\n",
              "      <td>So while there may be a humanitarian crisis dr...</td>\n",
              "      <td>alternet</td>\n",
              "      <td>immigration</td>\n",
              "      <td>left</td>\n",
              "      <td>1</td>\n",
              "      <td>1</td>\n",
              "      <td>Biased</td>\n",
              "      <td>Expresses writer’s opinion</td>\n",
              "      <td>['crisis', 'no']</td>\n",
              "      <td>Speaking to the country for the first time fro...</td>\n",
              "    </tr>\n",
              "    <tr>\n",
              "      <th>3</th>\n",
              "      <td>A professor who teaches climate change classes...</td>\n",
              "      <td>breitbart</td>\n",
              "      <td>environment</td>\n",
              "      <td>right</td>\n",
              "      <td>1</td>\n",
              "      <td>1</td>\n",
              "      <td>Non-biased</td>\n",
              "      <td>No agreement</td>\n",
              "      <td>['legitimate']</td>\n",
              "      <td>A professor who teaches climate change classes...</td>\n",
              "    </tr>\n",
              "    <tr>\n",
              "      <th>4</th>\n",
              "      <td>Looking around the United States, there is nev...</td>\n",
              "      <td>federalist</td>\n",
              "      <td>abortion</td>\n",
              "      <td>right</td>\n",
              "      <td>1</td>\n",
              "      <td>1</td>\n",
              "      <td>Biased</td>\n",
              "      <td>Somewhat factual but also opinionated</td>\n",
              "      <td>['killing', 'never', 'developing', 'humans', '...</td>\n",
              "      <td>The left has a thing for taking babies hostage...</td>\n",
              "    </tr>\n",
              "  </tbody>\n",
              "</table>\n",
              "</div>"
            ],
            "text/plain": [
              "                                            sentence  ...                                            article\n",
              "0  YouTube is making clear there will be no “birt...  ...  YouTube says no ‘deepfakes’ or ‘birther’ video...\n",
              "1  The increasingly bitter dispute between Americ...  ...  FRISCO, Texas — The increasingly bitter disput...\n",
              "2  So while there may be a humanitarian crisis dr...  ...  Speaking to the country for the first time fro...\n",
              "3  A professor who teaches climate change classes...  ...  A professor who teaches climate change classes...\n",
              "4  Looking around the United States, there is nev...  ...  The left has a thing for taking babies hostage...\n",
              "\n",
              "[5 rows x 10 columns]"
            ]
          },
          "metadata": {
            "tags": []
          },
          "execution_count": 6
        }
      ]
    },
    {
      "cell_type": "code",
      "metadata": {
        "id": "Fzexv3luGWVm"
      },
      "source": [
        "from spacy.tokenizer import Tokenizer\n",
        "tokenizer = Tokenizer(nlp.vocab)\n",
        "\n",
        "def tokenize_sentence(sentence):\n",
        "  sequence = []\n",
        "  toks = tokenizer(sentence)\n",
        "  for token in toks:\n",
        "    sequence.append(token.text.lower())\n",
        "  return sequence"
      ],
      "execution_count": null,
      "outputs": []
    },
    {
      "cell_type": "code",
      "metadata": {
        "id": "SYAKEJhVQjrE"
      },
      "source": [
        "sentence_df['tok_sentence'] = np.zeros(shape=(1700, 1))\n",
        "for i in range(len(sentence_df)):\n",
        "  sentence_df['tok_sentence'][i] = tokenize_sentence(sentence_df.sentence[i])"
      ],
      "execution_count": null,
      "outputs": []
    },
    {
      "cell_type": "markdown",
      "metadata": {
        "id": "wwUBtY75wGl9"
      },
      "source": [
        "Read the earlier generated ELMo embeddings numpy arrays"
      ]
    },
    {
      "cell_type": "code",
      "metadata": {
        "id": "2nbYm0EQwGEo"
      },
      "source": [
        "from numpy import load\n",
        "\n",
        "embs_split_0_0to200 = load('/content/drive/My Drive/Bias_Lexica_Kanishka_WS1920/datasets/embeddings_sentences_to_elmo/X_train_embedding_matrix_split_0_until200.npy')\n",
        "embs_split_0_201to425 = load('/content/drive/My Drive/Bias_Lexica_Kanishka_WS1920/datasets/embeddings_sentences_to_elmo/X_train_embedding_matrix_split_0_201to425.npy')\n",
        "embs_split_1 = load('/content/drive/My Drive/Bias_Lexica_Kanishka_WS1920/datasets/embeddings_sentences_to_elmo/X_train_embedding_matrix_split_1.npy')\n",
        "embs_split_2_0to298 = load('/content/drive/My Drive/Bias_Lexica_Kanishka_WS1920/datasets/embeddings_sentences_to_elmo/X_train_embedding_matrix_split_2_until298.npy')\n",
        "embs_split_2_299to425 = load('/content/drive/My Drive/Bias_Lexica_Kanishka_WS1920/datasets/embeddings_sentences_to_elmo/X_train_embedding_matrix_split_2_299to425.npy')\n",
        "embs_split_3 = load('/content/drive/My Drive/Bias_Lexica_Kanishka_WS1920/datasets/embeddings_sentences_to_elmo/X_train_embedding_matrix_split_3.npy')"
      ],
      "execution_count": null,
      "outputs": []
    },
    {
      "cell_type": "markdown",
      "metadata": {
        "id": "kqAp2X1mxtwS"
      },
      "source": [
        "Concatenate the embeddings"
      ]
    },
    {
      "cell_type": "code",
      "metadata": {
        "id": "Sz0ct3vCxrkq"
      },
      "source": [
        "embs_split_2_299to425[:127]"
      ],
      "execution_count": null,
      "outputs": []
    },
    {
      "cell_type": "code",
      "metadata": {
        "id": "wuuvTU2q0H6W"
      },
      "source": [
        "sentence_elmo_embeddings = np.concatenate((embs_split_0_0to200[:200], embs_split_0_201to425[:225], embs_split_1, embs_split_2_0to298[:298], embs_split_2_299to425[:127], embs_split_3), axis=0)"
      ],
      "execution_count": null,
      "outputs": []
    },
    {
      "cell_type": "code",
      "metadata": {
        "id": "KdTE_JhB1b3W",
        "colab": {
          "base_uri": "https://localhost:8080/",
          "height": 33
        },
        "outputId": "962604dc-d0a6-40c7-fa57-d9a7f1323d68"
      },
      "source": [
        "sentence_elmo_embeddings.shape"
      ],
      "execution_count": null,
      "outputs": [
        {
          "output_type": "execute_result",
          "data": {
            "text/plain": [
              "(1700, 50, 1024)"
            ]
          },
          "metadata": {
            "tags": []
          },
          "execution_count": 10
        }
      ]
    },
    {
      "cell_type": "code",
      "metadata": {
        "id": "Bu9X4MYbQOXO",
        "colab": {
          "base_uri": "https://localhost:8080/",
          "height": 33
        },
        "outputId": "760db783-a827-43bc-c994-0557deb766f5"
      },
      "source": [
        "xx = sentence_elmo_embeddings[0]\n",
        "xx.shape"
      ],
      "execution_count": null,
      "outputs": [
        {
          "output_type": "execute_result",
          "data": {
            "text/plain": [
              "(50, 1024)"
            ]
          },
          "metadata": {
            "tags": []
          },
          "execution_count": 11
        }
      ]
    },
    {
      "cell_type": "code",
      "metadata": {
        "id": "qvVz3rq2R0U5",
        "colab": {
          "base_uri": "https://localhost:8080/",
          "height": 33
        },
        "outputId": "5a09f040-7105-4b25-ae43-7df5a243c00f"
      },
      "source": [
        "print(sentence_df.tok_sentence[1699])"
      ],
      "execution_count": null,
      "outputs": [
        {
          "output_type": "stream",
          "text": [
            "['during', 'the', 'segment,', 'colbert', 'also', 'bemoaned', 'the', 'fact', 'that', 'barack', 'obama', 'is', 'no', 'longer', 'president.']\n"
          ],
          "name": "stdout"
        }
      ]
    },
    {
      "cell_type": "code",
      "metadata": {
        "id": "gLqHaUkSSMBn"
      },
      "source": [
        "df_e = pd.DataFrame()\n",
        "for i in range(len(sentence_elmo_embeddings)):\n",
        "  emb = sentence_elmo_embeddings[i]\n",
        "  emb_n = emb.reshape((emb.shape[0]*emb.shape[1]))\n",
        "  df_e = df_e.append(pd.Series([emb_n]), ignore_index=True)"
      ],
      "execution_count": null,
      "outputs": []
    },
    {
      "cell_type": "code",
      "metadata": {
        "id": "LyNUvqRlVhk5",
        "colab": {
          "base_uri": "https://localhost:8080/",
          "height": 250
        },
        "outputId": "34f54d6d-6de3-4ec5-9fcb-e0c6ecd72117"
      },
      "source": [
        "df_e.value_counts"
      ],
      "execution_count": null,
      "outputs": [
        {
          "output_type": "execute_result",
          "data": {
            "text/plain": [
              "<bound method DataFrame.value_counts of                                                       0\n",
              "0     [0.6835203170776367, 0.14839878678321838, 0.69...\n",
              "1     [0.3081545829772949, 0.26630401611328125, 0.23...\n",
              "2     [0.3040567636489868, 0.265319287776947, -0.180...\n",
              "3     [0.3906194567680359, 0.19433127343654633, 0.36...\n",
              "4     [0.10661855340003967, -0.36092594265937805, 0....\n",
              "...                                                 ...\n",
              "1695  [0.3535696864128113, 0.4499838650226593, 0.037...\n",
              "1696  [0.277810662984848, 0.5477975606918335, 0.4144...\n",
              "1697  [-0.8467962145805359, -0.19690904021263123, 0....\n",
              "1698  [0.24583615362644196, -0.1305449903011322, 0.1...\n",
              "1699  [0.4416966438293457, 0.5254121422767639, -0.06...\n",
              "\n",
              "[1700 rows x 1 columns]>"
            ]
          },
          "metadata": {
            "tags": []
          },
          "execution_count": 15
        }
      ]
    },
    {
      "cell_type": "code",
      "metadata": {
        "id": "3f3fVpjyWY5u"
      },
      "source": [
        "sentence_df['elmo_embedding'] = df_e"
      ],
      "execution_count": null,
      "outputs": []
    },
    {
      "cell_type": "code",
      "metadata": {
        "id": "HBLSd2XHWqCp",
        "colab": {
          "base_uri": "https://localhost:8080/",
          "height": 304
        },
        "outputId": "51c03998-a934-43c8-ea3f-42bc969f42e3"
      },
      "source": [
        "sentence_df.head(3)"
      ],
      "execution_count": null,
      "outputs": [
        {
          "output_type": "execute_result",
          "data": {
            "text/html": [
              "<div>\n",
              "<style scoped>\n",
              "    .dataframe tbody tr th:only-of-type {\n",
              "        vertical-align: middle;\n",
              "    }\n",
              "\n",
              "    .dataframe tbody tr th {\n",
              "        vertical-align: top;\n",
              "    }\n",
              "\n",
              "    .dataframe thead th {\n",
              "        text-align: right;\n",
              "    }\n",
              "</style>\n",
              "<table border=\"1\" class=\"dataframe\">\n",
              "  <thead>\n",
              "    <tr style=\"text-align: right;\">\n",
              "      <th></th>\n",
              "      <th>sentence</th>\n",
              "      <th>outlet</th>\n",
              "      <th>topic</th>\n",
              "      <th>type</th>\n",
              "      <th>group_id</th>\n",
              "      <th>num_sent</th>\n",
              "      <th>Label_bias</th>\n",
              "      <th>Label_opinion</th>\n",
              "      <th>biased_words</th>\n",
              "      <th>article</th>\n",
              "      <th>tok_sentence</th>\n",
              "      <th>elmo_embedding</th>\n",
              "    </tr>\n",
              "  </thead>\n",
              "  <tbody>\n",
              "    <tr>\n",
              "      <th>0</th>\n",
              "      <td>YouTube is making clear there will be no “birt...</td>\n",
              "      <td>usa-today</td>\n",
              "      <td>elections-2020</td>\n",
              "      <td>center</td>\n",
              "      <td>1</td>\n",
              "      <td>1</td>\n",
              "      <td>Biased</td>\n",
              "      <td>Somewhat factual but also opinionated</td>\n",
              "      <td>['belated', 'birtherism']</td>\n",
              "      <td>YouTube says no ‘deepfakes’ or ‘birther’ video...</td>\n",
              "      <td>[youtube, is, making, clear, there, will, be, ...</td>\n",
              "      <td>[0.6835203170776367, 0.14839878678321838, 0.69...</td>\n",
              "    </tr>\n",
              "    <tr>\n",
              "      <th>1</th>\n",
              "      <td>The increasingly bitter dispute between Americ...</td>\n",
              "      <td>msnbc</td>\n",
              "      <td>sport</td>\n",
              "      <td>left</td>\n",
              "      <td>1</td>\n",
              "      <td>1</td>\n",
              "      <td>Non-biased</td>\n",
              "      <td>Entirely factual</td>\n",
              "      <td>['bitter', 'spilled']</td>\n",
              "      <td>FRISCO, Texas — The increasingly bitter disput...</td>\n",
              "      <td>[the, increasingly, bitter, dispute, between, ...</td>\n",
              "      <td>[0.3081545829772949, 0.26630401611328125, 0.23...</td>\n",
              "    </tr>\n",
              "    <tr>\n",
              "      <th>2</th>\n",
              "      <td>So while there may be a humanitarian crisis dr...</td>\n",
              "      <td>alternet</td>\n",
              "      <td>immigration</td>\n",
              "      <td>left</td>\n",
              "      <td>1</td>\n",
              "      <td>1</td>\n",
              "      <td>Biased</td>\n",
              "      <td>Expresses writer’s opinion</td>\n",
              "      <td>['crisis', 'no']</td>\n",
              "      <td>Speaking to the country for the first time fro...</td>\n",
              "      <td>[so, while, there, may, be, a, humanitarian, c...</td>\n",
              "      <td>[0.3040567636489868, 0.265319287776947, -0.180...</td>\n",
              "    </tr>\n",
              "  </tbody>\n",
              "</table>\n",
              "</div>"
            ],
            "text/plain": [
              "                                            sentence  ...                                     elmo_embedding\n",
              "0  YouTube is making clear there will be no “birt...  ...  [0.6835203170776367, 0.14839878678321838, 0.69...\n",
              "1  The increasingly bitter dispute between Americ...  ...  [0.3081545829772949, 0.26630401611328125, 0.23...\n",
              "2  So while there may be a humanitarian crisis dr...  ...  [0.3040567636489868, 0.265319287776947, -0.180...\n",
              "\n",
              "[3 rows x 12 columns]"
            ]
          },
          "metadata": {
            "tags": []
          },
          "execution_count": 17
        }
      ]
    },
    {
      "cell_type": "code",
      "metadata": {
        "id": "WQidU6ab-gtf"
      },
      "source": [
        "!pip install liwc\n",
        "\n",
        "import liwc\n",
        "parse, category_names = liwc.load_token_parser(\n",
        "    '/content/drive/My Drive/Bias_Lexica_Kanishka_WS1920/datasets/linguistics/LIWC2015_English.dic'\n",
        "    )"
      ],
      "execution_count": null,
      "outputs": []
    },
    {
      "cell_type": "markdown",
      "metadata": {
        "id": "uMxtBpzFF1qM"
      },
      "source": [
        "Calcuating liwc features for tokens relative to the entire sentence"
      ]
    },
    {
      "cell_type": "code",
      "metadata": {
        "id": "c1AnA3AqF72_"
      },
      "source": [
        "def get_category_counts_for_sentence(sentence):\n",
        "  from collections import Counter\n",
        "  liwc_cat_counts = Counter(category for token in sentence for category in parse(token))\n",
        "  return liwc_cat_counts"
      ],
      "execution_count": null,
      "outputs": []
    },
    {
      "cell_type": "code",
      "metadata": {
        "id": "RwrfqWZqHS1j",
        "colab": {
          "base_uri": "https://localhost:8080/",
          "height": 83
        },
        "outputId": "a7cb3b9f-ff8f-43c9-90ca-0340a83fc6f7"
      },
      "source": [
        "liwc_item_counts = Counter(category for token in ['stupid'] for category in parse(token))\n",
        "liwc_item_counts"
      ],
      "execution_count": null,
      "outputs": [
        {
          "output_type": "execute_result",
          "data": {
            "text/plain": [
              "Counter({'adj (Adjectives)': 1,\n",
              "         'affect (Affect)': 1,\n",
              "         'anger (Anger)': 1,\n",
              "         'negemo (Negative Emotions)': 1})"
            ]
          },
          "metadata": {
            "tags": []
          },
          "execution_count": 87
        }
      ]
    },
    {
      "cell_type": "code",
      "metadata": {
        "id": "3KkcsweIH9s3",
        "colab": {
          "base_uri": "https://localhost:8080/",
          "height": 33
        },
        "outputId": "b967fe81-d0cd-4080-d03c-8d146a4e0262"
      },
      "source": [
        "liwc_item_counts['negemo (Negative Emotions)']"
      ],
      "execution_count": null,
      "outputs": [
        {
          "output_type": "execute_result",
          "data": {
            "text/plain": [
              "1"
            ]
          },
          "metadata": {
            "tags": []
          },
          "execution_count": 78
        }
      ]
    },
    {
      "cell_type": "code",
      "metadata": {
        "id": "WX9bGYZs-jot"
      },
      "source": [
        "def calculate_liwc_features(token, sentence):\n",
        "  liwc_emb_for_token = np.zeros(shape=(5,))\n",
        "  liwc_sentence_counts = get_category_counts_for_sentence(sentence)\n",
        "  liwc_item_counts = Counter(category for t in [token] for category in parse(t))\n",
        "\n",
        "  #  for token\n",
        "  negemo_token_count = liwc_item_counts['negemo (Negative Emotions)']\n",
        "  posemo_token_count = liwc_item_counts['posemo (Positive Emotions)']\n",
        "  affective_token_count = liwc_item_counts['affect (Affect)']\n",
        "  drive_token_count = liwc_item_counts['drives (Drives)']\n",
        "  anger_token_count = liwc_item_counts['anger (Anger)']\n",
        "  risk_token_count = liwc_item_counts['risk (Risk)']\n",
        "\n",
        "  # For sentence\n",
        "  negemo_sent_count = liwc_sentence_counts['negemo (Negative Emotions)']\n",
        "  posemo_sent_count = liwc_sentence_counts['posemo (Positive Emotions)']\n",
        "  affective_sent_count = liwc_sentence_counts['affect (Affect)']\n",
        "  drive_sent_count = liwc_sentence_counts['drives (Drives)']\n",
        "  anger_sent_count = liwc_sentence_counts['anger (Anger)']\n",
        "  risk_sent_count = liwc_sentence_counts['risk (Risk)']\n",
        "\n",
        "  # calculate relative count ratios wrt the entire sentence\n",
        "  if negemo_sent_count > 0:\n",
        "    negemo_rel = negemo_token_count / negemo_sent_count \n",
        "  else:\n",
        "    negemo_rel = 0.0\n",
        "\n",
        "  if posemo_sent_count > 0:\n",
        "    posemo_rel = posemo_token_count / posemo_sent_count \n",
        "  else:\n",
        "    posemo_rel = 0.0\n",
        "\n",
        "  if affective_sent_count > 0:\n",
        "    affective_rel = affective_token_count / affective_sent_count \n",
        "  else:\n",
        "    affective_rel = 0.0\n",
        "  \n",
        "  if drive_sent_count > 0:\n",
        "    drive_rel = drive_token_count / drive_sent_count\n",
        "  else:\n",
        "    drive_rel = 0.0\n",
        "  \n",
        "  if anger_sent_count > 0:\n",
        "    anger_rel = anger_token_count / anger_sent_count\n",
        "  else:\n",
        "    anger_rel = 0.0\n",
        "\n",
        "  if risk_sent_count > 0:\n",
        "    risk_rel = risk_token_count / risk_sent_count\n",
        "  else:\n",
        "    risk_rel = 0.0\n",
        "\n",
        "  # print(f'{negemo_rel} {posemo_rel} {affective_rel} {drive_rel} {anger_rel} {risk_rel}')\n",
        "\n",
        "  return np.array([negemo_rel, posemo_rel, affective_rel, drive_rel, anger_rel, risk_rel])"
      ],
      "execution_count": null,
      "outputs": []
    },
    {
      "cell_type": "code",
      "metadata": {
        "id": "Wdl6wE47ABEa",
        "colab": {
          "base_uri": "https://localhost:8080/",
          "height": 70
        },
        "outputId": "249a0dc7-d655-4521-94d6-67964d579ab9"
      },
      "source": [
        "from collections import Counter\n",
        "liwc_cat_counts = Counter(category for token in sentence_df.tok_sentence[0] for category in parse(token))\n",
        "print(liwc_cat_counts)\n",
        "print(liwc_cat_counts['function (Function Words)'])\n",
        "# for i in liwc_/c_cat_counts[i]} {cat}')"
      ],
      "execution_count": null,
      "outputs": [
        {
          "output_type": "stream",
          "text": [
            "Counter({'function (Function Words)': 15, 'prep (Prepositions)': 5, 'verb (Verbs)': 4, 'cogproc (Cognitive Processes)': 4, 'relativ (Relativity)': 4, 'auxverb (Auxiliary Verbs)': 3, 'space (Space)': 3, 'article (Articles)': 3, 'focuspresent (Present Focus)': 2, 'cause (Causal)': 2, 'adj (Adjectives)': 2, 'pronoun (Pronouns)': 2, 'ipron (Impersonal Pronouns)': 2, 'leisure (Leisure)': 1, 'certain (Certainty)': 1, 'percept (Perceptual Processes)': 1, 'see (See)': 1, 'adverb (Adverbs)': 1, 'focusfuture (Future Focus)': 1, 'negate (Negations)': 1, 'time (Time)': 1, 'drives (Drives)': 1, 'power (Power)': 1, 'work (Work)': 1, 'tentat (Tentative)': 1, 'compare (Comparisons)': 1, 'quant (Quantifiers)': 1})\n",
            "15\n"
          ],
          "name": "stdout"
        }
      ]
    },
    {
      "cell_type": "code",
      "metadata": {
        "id": "iPiGLBXD_Oxc"
      },
      "source": [
        "sentence_to_liwc(sentence_df.tok_sentence[0])"
      ],
      "execution_count": null,
      "outputs": []
    },
    {
      "cell_type": "code",
      "metadata": {
        "id": "vlJd5z3_X7hT"
      },
      "source": [
        "def convert_to_2dnp(old, seq_length):\n",
        "  return np.reshape(old, (-1, seq_length))"
      ],
      "execution_count": null,
      "outputs": []
    },
    {
      "cell_type": "code",
      "metadata": {
        "id": "191K7NxUCjJf"
      },
      "source": [
        "df_elmo_liwc = pd.DataFrame()\n",
        "for sentence, sentence_elmo in zip(sentence_df.tok_sentence, sentence_df.elmo_embedding):\n",
        "  reshaped_elmo = convert_to_2dnp(sentence_elmo, 1024)\n",
        "  new_emb = np.zeros(shape=(50, 1030))\n",
        "\n",
        "  for i in range(len(reshaped_elmo)):\n",
        "    emb = reshaped_elmo[i]\n",
        "    try:\n",
        "      token = sentence[i]\n",
        "      liwc_feat = calculate_liwc_features(token, sentence)\n",
        "      new_emb[i] = np.concatenate((emb, liwc_feat), axis=0)\n",
        "    except IndexError:\n",
        "      # print(\"index error\")\n",
        "      # is_all_zero = not np.any(emb)\n",
        "      # print(f\"embeddings all zeroes here => {is_all_zero}\")\n",
        "      liwc_feat = np.zeros(shape=(6,))\n",
        "      new_emb[i] = np.concatenate((emb, liwc_feat), axis=0)\n",
        "\n",
        "  new_emb = new_emb.reshape((new_emb.shape[0]*new_emb.shape[1]))\n",
        "  df_elmo_liwc = df_elmo_liwc.append(pd.Series([new_emb]), ignore_index=True)"
      ],
      "execution_count": null,
      "outputs": []
    },
    {
      "cell_type": "code",
      "metadata": {
        "id": "8BKSRnYib93E",
        "colab": {
          "base_uri": "https://localhost:8080/",
          "height": 33
        },
        "outputId": "296cf5c0-f798-45cf-b98d-360f86ded4e2"
      },
      "source": [
        "df_elmo_liwc.shape"
      ],
      "execution_count": null,
      "outputs": [
        {
          "output_type": "execute_result",
          "data": {
            "text/plain": [
              "(1700, 1)"
            ]
          },
          "metadata": {
            "tags": []
          },
          "execution_count": 120
        }
      ]
    },
    {
      "cell_type": "code",
      "metadata": {
        "id": "k1RP9fmzb6Bi"
      },
      "source": [
        "sentence_df['elmo_liwc_embedding'] = df_elmo_liwc"
      ],
      "execution_count": null,
      "outputs": []
    },
    {
      "cell_type": "code",
      "metadata": {
        "id": "t0KPBUlsQgK_",
        "colab": {
          "base_uri": "https://localhost:8080/",
          "height": 374
        },
        "outputId": "46ca8604-92a2-4a22-f4fe-c38028d9fd9b"
      },
      "source": [
        "sentence_df.head(3)"
      ],
      "execution_count": null,
      "outputs": [
        {
          "output_type": "execute_result",
          "data": {
            "text/html": [
              "<div>\n",
              "<style scoped>\n",
              "    .dataframe tbody tr th:only-of-type {\n",
              "        vertical-align: middle;\n",
              "    }\n",
              "\n",
              "    .dataframe tbody tr th {\n",
              "        vertical-align: top;\n",
              "    }\n",
              "\n",
              "    .dataframe thead th {\n",
              "        text-align: right;\n",
              "    }\n",
              "</style>\n",
              "<table border=\"1\" class=\"dataframe\">\n",
              "  <thead>\n",
              "    <tr style=\"text-align: right;\">\n",
              "      <th></th>\n",
              "      <th>sentence</th>\n",
              "      <th>outlet</th>\n",
              "      <th>topic</th>\n",
              "      <th>type</th>\n",
              "      <th>group_id</th>\n",
              "      <th>num_sent</th>\n",
              "      <th>Label_bias</th>\n",
              "      <th>Label_opinion</th>\n",
              "      <th>biased_words</th>\n",
              "      <th>article</th>\n",
              "      <th>tok_sentence</th>\n",
              "      <th>elmo_embedding</th>\n",
              "      <th>elmo_liwc_embedding</th>\n",
              "    </tr>\n",
              "  </thead>\n",
              "  <tbody>\n",
              "    <tr>\n",
              "      <th>0</th>\n",
              "      <td>YouTube is making clear there will be no “birt...</td>\n",
              "      <td>usa-today</td>\n",
              "      <td>elections-2020</td>\n",
              "      <td>center</td>\n",
              "      <td>1</td>\n",
              "      <td>1</td>\n",
              "      <td>Biased</td>\n",
              "      <td>Somewhat factual but also opinionated</td>\n",
              "      <td>['belated', 'birtherism']</td>\n",
              "      <td>YouTube says no ‘deepfakes’ or ‘birther’ video...</td>\n",
              "      <td>[youtube, is, making, clear, there, will, be, ...</td>\n",
              "      <td>[0.6835203170776367, 0.14839878678321838, 0.69...</td>\n",
              "      <td>[0.6835203170776367, 0.14839878678321838, 0.69...</td>\n",
              "    </tr>\n",
              "    <tr>\n",
              "      <th>1</th>\n",
              "      <td>The increasingly bitter dispute between Americ...</td>\n",
              "      <td>msnbc</td>\n",
              "      <td>sport</td>\n",
              "      <td>left</td>\n",
              "      <td>1</td>\n",
              "      <td>1</td>\n",
              "      <td>Non-biased</td>\n",
              "      <td>Entirely factual</td>\n",
              "      <td>['bitter', 'spilled']</td>\n",
              "      <td>FRISCO, Texas — The increasingly bitter disput...</td>\n",
              "      <td>[the, increasingly, bitter, dispute, between, ...</td>\n",
              "      <td>[0.3081545829772949, 0.26630401611328125, 0.23...</td>\n",
              "      <td>[0.3081545829772949, 0.26630401611328125, 0.23...</td>\n",
              "    </tr>\n",
              "    <tr>\n",
              "      <th>2</th>\n",
              "      <td>So while there may be a humanitarian crisis dr...</td>\n",
              "      <td>alternet</td>\n",
              "      <td>immigration</td>\n",
              "      <td>left</td>\n",
              "      <td>1</td>\n",
              "      <td>1</td>\n",
              "      <td>Biased</td>\n",
              "      <td>Expresses writer’s opinion</td>\n",
              "      <td>['crisis', 'no']</td>\n",
              "      <td>Speaking to the country for the first time fro...</td>\n",
              "      <td>[so, while, there, may, be, a, humanitarian, c...</td>\n",
              "      <td>[0.3040567636489868, 0.265319287776947, -0.180...</td>\n",
              "      <td>[0.3040567636489868, 0.265319287776947, -0.180...</td>\n",
              "    </tr>\n",
              "  </tbody>\n",
              "</table>\n",
              "</div>"
            ],
            "text/plain": [
              "                                            sentence  ...                                elmo_liwc_embedding\n",
              "0  YouTube is making clear there will be no “birt...  ...  [0.6835203170776367, 0.14839878678321838, 0.69...\n",
              "1  The increasingly bitter dispute between Americ...  ...  [0.3081545829772949, 0.26630401611328125, 0.23...\n",
              "2  So while there may be a humanitarian crisis dr...  ...  [0.3040567636489868, 0.265319287776947, -0.180...\n",
              "\n",
              "[3 rows x 13 columns]"
            ]
          },
          "metadata": {
            "tags": []
          },
          "execution_count": 123
        }
      ]
    },
    {
      "cell_type": "code",
      "metadata": {
        "id": "fTqpUsk5bhZm",
        "colab": {
          "base_uri": "https://localhost:8080/",
          "height": 50
        },
        "outputId": "bd11d704-e7da-4559-f865-55318ef7d167"
      },
      "source": [
        "sentence_df.elmo_liwc_embedding[0]"
      ],
      "execution_count": null,
      "outputs": [
        {
          "output_type": "execute_result",
          "data": {
            "text/plain": [
              "array([0.68352032, 0.14839879, 0.69949836, ..., 0.        , 0.        ,\n",
              "       0.        ])"
            ]
          },
          "metadata": {
            "tags": []
          },
          "execution_count": 124
        }
      ]
    },
    {
      "cell_type": "code",
      "metadata": {
        "id": "cTx7it8aP_il",
        "colab": {
          "base_uri": "https://localhost:8080/",
          "height": 33
        },
        "outputId": "8146fcb1-dd00-4cf9-9c20-9d60e8159d1b"
      },
      "source": [
        "yy = sentence_df.elmo_liwc_embedding[0]\n",
        "yy.shape"
      ],
      "execution_count": null,
      "outputs": [
        {
          "output_type": "execute_result",
          "data": {
            "text/plain": [
              "(51500,)"
            ]
          },
          "metadata": {
            "tags": []
          },
          "execution_count": 125
        }
      ]
    },
    {
      "cell_type": "code",
      "metadata": {
        "id": "R2kTYxT2Qmu1",
        "colab": {
          "base_uri": "https://localhost:8080/",
          "height": 33
        },
        "outputId": "deb77eec-6c6b-4ed2-c349-53dc86cb3065"
      },
      "source": [
        "new_yy = convert_to_2dnp(yy, 1030)\n",
        "new_yy.shape"
      ],
      "execution_count": null,
      "outputs": [
        {
          "output_type": "execute_result",
          "data": {
            "text/plain": [
              "(50, 1030)"
            ]
          },
          "metadata": {
            "tags": []
          },
          "execution_count": 126
        }
      ]
    },
    {
      "cell_type": "code",
      "metadata": {
        "id": "b615FUkQOLMn"
      },
      "source": [
        "# from google.colab import files\n",
        "# sentence_df.to_csv(f'labeled_data_3_with_elmo.csv')"
      ],
      "execution_count": null,
      "outputs": []
    },
    {
      "cell_type": "code",
      "metadata": {
        "id": "jvUJJ9fNWwgS",
        "colab": {
          "base_uri": "https://localhost:8080/",
          "height": 33
        },
        "outputId": "b7de5160-8abe-4bda-b341-b34f7d13ec8f"
      },
      "source": [
        "# yy = sentence_df['elmo_embedding'][0]\n",
        "# yy.shape"
      ],
      "execution_count": null,
      "outputs": [
        {
          "output_type": "execute_result",
          "data": {
            "text/plain": [
              "(51200,)"
            ]
          },
          "metadata": {
            "tags": []
          },
          "execution_count": 20
        }
      ]
    },
    {
      "cell_type": "code",
      "metadata": {
        "id": "4WukSHJzYXN0",
        "colab": {
          "base_uri": "https://localhost:8080/",
          "height": 33
        },
        "outputId": "aeff79b5-f5cb-465a-d831-5f794907e9b8"
      },
      "source": [
        "# new_yy = convert_to_2dnp(yy, 1024)\n",
        "# new_yy.shape"
      ],
      "execution_count": null,
      "outputs": [
        {
          "output_type": "execute_result",
          "data": {
            "text/plain": [
              "(50, 1024)"
            ]
          },
          "metadata": {
            "tags": []
          },
          "execution_count": 21
        }
      ]
    },
    {
      "cell_type": "code",
      "metadata": {
        "id": "6_Q46bLw25D6",
        "colab": {
          "base_uri": "https://localhost:8080/",
          "height": 33
        },
        "outputId": "1af2a1bb-e3af-44a9-c091-7f0663be20e2"
      },
      "source": [
        "rnn_timesteps = sentence_elmo_embeddings.shape[1]\n",
        "rnn_timesteps"
      ],
      "execution_count": null,
      "outputs": [
        {
          "output_type": "execute_result",
          "data": {
            "text/plain": [
              "50"
            ]
          },
          "metadata": {
            "tags": []
          },
          "execution_count": 127
        }
      ]
    },
    {
      "cell_type": "code",
      "metadata": {
        "id": "RMQMtLvb3JXZ",
        "colab": {
          "base_uri": "https://localhost:8080/",
          "height": 33
        },
        "outputId": "039e818a-2121-488b-fc43-7df7b29f6cfd"
      },
      "source": [
        "# num_features = 1024 # only elmo (1024)\n",
        "num_features = 1030 # elmo (1024) + liwc (6)\n",
        "num_features"
      ],
      "execution_count": null,
      "outputs": [
        {
          "output_type": "execute_result",
          "data": {
            "text/plain": [
              "1030"
            ]
          },
          "metadata": {
            "tags": []
          },
          "execution_count": 132
        }
      ]
    },
    {
      "cell_type": "code",
      "metadata": {
        "id": "3yCV-Ie_jgrp"
      },
      "source": [
        "sentence_df.to_pickle('labeled_sentences_with_elmo_liwc_emb.pkl')"
      ],
      "execution_count": null,
      "outputs": []
    },
    {
      "cell_type": "code",
      "metadata": {
        "id": "5aB1o4QNq-ja",
        "colab": {
          "base_uri": "https://localhost:8080/",
          "height": 33
        },
        "outputId": "99c122b7-575c-496c-86b2-ba66c15bbfe7"
      },
      "source": [
        "from google.colab import drive\n",
        "drive.mount('/content/gdrive',force_remount=True)"
      ],
      "execution_count": null,
      "outputs": [
        {
          "output_type": "stream",
          "text": [
            "Mounted at /content/gdrive\n"
          ],
          "name": "stdout"
        }
      ]
    },
    {
      "cell_type": "code",
      "metadata": {
        "id": "uPVLMV3trbea"
      },
      "source": [
        "!cp /content/labeled_sentences_with_elmo_liwc_emb.pkl '/content/gdrive/My Drive/Bias_Lexica_Kanishka_WS1920/datasets'"
      ],
      "execution_count": null,
      "outputs": []
    },
    {
      "cell_type": "code",
      "metadata": {
        "id": "xJ8pgPWsj6HW",
        "colab": {
          "base_uri": "https://localhost:8080/",
          "height": 237
        },
        "outputId": "58cc0dc0-5db1-4d8c-df04-e9eec0461ca0"
      },
      "source": [
        "df_op = pd.read_pickle('/content/gdrive/My Drive/Bias_Lexica_Kanishka_WS1920/datasets/labeled_sentences_dataset_3_with_elmo_liwc_emb.pkl')\n",
        "df_op.head(3)"
      ],
      "execution_count": null,
      "outputs": [
        {
          "output_type": "execute_result",
          "data": {
            "text/html": [
              "<div>\n",
              "<style scoped>\n",
              "    .dataframe tbody tr th:only-of-type {\n",
              "        vertical-align: middle;\n",
              "    }\n",
              "\n",
              "    .dataframe tbody tr th {\n",
              "        vertical-align: top;\n",
              "    }\n",
              "\n",
              "    .dataframe thead th {\n",
              "        text-align: right;\n",
              "    }\n",
              "</style>\n",
              "<table border=\"1\" class=\"dataframe\">\n",
              "  <thead>\n",
              "    <tr style=\"text-align: right;\">\n",
              "      <th></th>\n",
              "      <th>sentence</th>\n",
              "      <th>outlet</th>\n",
              "      <th>topic</th>\n",
              "      <th>type</th>\n",
              "      <th>group_id</th>\n",
              "      <th>num_sent</th>\n",
              "      <th>Label_bias</th>\n",
              "      <th>Label_opinion</th>\n",
              "      <th>biased_words</th>\n",
              "      <th>article</th>\n",
              "      <th>tok_sentence</th>\n",
              "      <th>elmo_embedding</th>\n",
              "      <th>elmo_liwc_embedding</th>\n",
              "    </tr>\n",
              "  </thead>\n",
              "  <tbody>\n",
              "    <tr>\n",
              "      <th>0</th>\n",
              "      <td>YouTube is making clear there will be no “birt...</td>\n",
              "      <td>usa-today</td>\n",
              "      <td>elections-2020</td>\n",
              "      <td>center</td>\n",
              "      <td>1</td>\n",
              "      <td>1</td>\n",
              "      <td>Biased</td>\n",
              "      <td>Somewhat factual but also opinionated</td>\n",
              "      <td>['belated', 'birtherism']</td>\n",
              "      <td>YouTube says no ‘deepfakes’ or ‘birther’ video...</td>\n",
              "      <td>[youtube, is, making, clear, there, will, be, ...</td>\n",
              "      <td>[0.6835203170776367, 0.14839878678321838, 0.69...</td>\n",
              "      <td>[0.6835203170776367, 0.14839878678321838, 0.69...</td>\n",
              "    </tr>\n",
              "    <tr>\n",
              "      <th>1</th>\n",
              "      <td>The increasingly bitter dispute between Americ...</td>\n",
              "      <td>msnbc</td>\n",
              "      <td>sport</td>\n",
              "      <td>left</td>\n",
              "      <td>1</td>\n",
              "      <td>1</td>\n",
              "      <td>Non-biased</td>\n",
              "      <td>Entirely factual</td>\n",
              "      <td>['bitter', 'spilled']</td>\n",
              "      <td>FRISCO, Texas — The increasingly bitter disput...</td>\n",
              "      <td>[the, increasingly, bitter, dispute, between, ...</td>\n",
              "      <td>[0.3081545829772949, 0.26630401611328125, 0.23...</td>\n",
              "      <td>[0.3081545829772949, 0.26630401611328125, 0.23...</td>\n",
              "    </tr>\n",
              "    <tr>\n",
              "      <th>2</th>\n",
              "      <td>So while there may be a humanitarian crisis dr...</td>\n",
              "      <td>alternet</td>\n",
              "      <td>immigration</td>\n",
              "      <td>left</td>\n",
              "      <td>1</td>\n",
              "      <td>1</td>\n",
              "      <td>Biased</td>\n",
              "      <td>Expresses writer’s opinion</td>\n",
              "      <td>['crisis', 'no']</td>\n",
              "      <td>Speaking to the country for the first time fro...</td>\n",
              "      <td>[so, while, there, may, be, a, humanitarian, c...</td>\n",
              "      <td>[0.3040567636489868, 0.265319287776947, -0.180...</td>\n",
              "      <td>[0.3040567636489868, 0.265319287776947, -0.180...</td>\n",
              "    </tr>\n",
              "  </tbody>\n",
              "</table>\n",
              "</div>"
            ],
            "text/plain": [
              "                                            sentence  ...                                elmo_liwc_embedding\n",
              "0  YouTube is making clear there will be no “birt...  ...  [0.6835203170776367, 0.14839878678321838, 0.69...\n",
              "1  The increasingly bitter dispute between Americ...  ...  [0.3081545829772949, 0.26630401611328125, 0.23...\n",
              "2  So while there may be a humanitarian crisis dr...  ...  [0.3040567636489868, 0.265319287776947, -0.180...\n",
              "\n",
              "[3 rows x 13 columns]"
            ]
          },
          "metadata": {
            "tags": []
          },
          "execution_count": 187
        }
      ]
    },
    {
      "cell_type": "code",
      "metadata": {
        "id": "hJLBUmBjkGLZ",
        "colab": {
          "base_uri": "https://localhost:8080/",
          "height": 33
        },
        "outputId": "01ecd5a2-e950-4bf8-fd12-ed365d442b12"
      },
      "source": [
        "df_op.elmo_liwc_embedding[0].shape"
      ],
      "execution_count": null,
      "outputs": [
        {
          "output_type": "execute_result",
          "data": {
            "text/plain": [
              "(51500,)"
            ]
          },
          "metadata": {
            "tags": []
          },
          "execution_count": 181
        }
      ]
    },
    {
      "cell_type": "code",
      "metadata": {
        "id": "reh0as5NkT3z",
        "colab": {
          "base_uri": "https://localhost:8080/",
          "height": 33
        },
        "outputId": "a772b7ab-9961-40d5-e1c1-b3bb3dce1349"
      },
      "source": [
        "cnv = convert_to_2dnp(df_op.elmo_liwc_embedding[0], num_features)\n",
        "cnv.shape"
      ],
      "execution_count": null,
      "outputs": [
        {
          "output_type": "execute_result",
          "data": {
            "text/plain": [
              "(50, 1030)"
            ]
          },
          "metadata": {
            "tags": []
          },
          "execution_count": 182
        }
      ]
    },
    {
      "cell_type": "code",
      "metadata": {
        "id": "2H1mtlEq-Bdf",
        "colab": {
          "base_uri": "https://localhost:8080/",
          "height": 407
        },
        "outputId": "219aa618-872b-4a4c-c08a-be2207d6a4a7"
      },
      "source": [
        "processable_data = sentence_df[:1696]\n",
        "processable_data.tail(3)"
      ],
      "execution_count": null,
      "outputs": [
        {
          "output_type": "execute_result",
          "data": {
            "text/html": [
              "<div>\n",
              "<style scoped>\n",
              "    .dataframe tbody tr th:only-of-type {\n",
              "        vertical-align: middle;\n",
              "    }\n",
              "\n",
              "    .dataframe tbody tr th {\n",
              "        vertical-align: top;\n",
              "    }\n",
              "\n",
              "    .dataframe thead th {\n",
              "        text-align: right;\n",
              "    }\n",
              "</style>\n",
              "<table border=\"1\" class=\"dataframe\">\n",
              "  <thead>\n",
              "    <tr style=\"text-align: right;\">\n",
              "      <th></th>\n",
              "      <th>sentence</th>\n",
              "      <th>outlet</th>\n",
              "      <th>topic</th>\n",
              "      <th>type</th>\n",
              "      <th>group_id</th>\n",
              "      <th>num_sent</th>\n",
              "      <th>Label_bias</th>\n",
              "      <th>Label_opinion</th>\n",
              "      <th>biased_words</th>\n",
              "      <th>article</th>\n",
              "      <th>tok_sentence</th>\n",
              "      <th>elmo_embedding</th>\n",
              "      <th>elmo_liwc_embedding</th>\n",
              "    </tr>\n",
              "  </thead>\n",
              "  <tbody>\n",
              "    <tr>\n",
              "      <th>1693</th>\n",
              "      <td>Issuing a defiant call to arms to grassroots R...</td>\n",
              "      <td>breitbart</td>\n",
              "      <td>trump-presidency</td>\n",
              "      <td>right</td>\n",
              "      <td>85</td>\n",
              "      <td>1</td>\n",
              "      <td>Biased</td>\n",
              "      <td>Entirely factual</td>\n",
              "      <td>['railed', 'robbing', 'global', 'elites', 'def...</td>\n",
              "      <td>Steve Bannon cast California as a linchpin in ...</td>\n",
              "      <td>[issuing, a, defiant, call, to, arms, to, gras...</td>\n",
              "      <td>[0.5914361476898193, 0.3794720768928528, -0.66...</td>\n",
              "      <td>[0.5914361476898193, 0.3794720768928528, -0.66...</td>\n",
              "    </tr>\n",
              "    <tr>\n",
              "      <th>1694</th>\n",
              "      <td>The House Democrats’ coronavirus recovery bill...</td>\n",
              "      <td>breitbart</td>\n",
              "      <td>coronavirus</td>\n",
              "      <td>right</td>\n",
              "      <td>85</td>\n",
              "      <td>1</td>\n",
              "      <td>Biased</td>\n",
              "      <td>Expresses writer’s opinion</td>\n",
              "      <td>['careers', 'workers', 'lose', 'foreign']</td>\n",
              "      <td>The House Democrats’ coronavirus recovery bill...</td>\n",
              "      <td>[the, house, democrats’, coronavirus, recovery...</td>\n",
              "      <td>[0.3081545829772949, 0.26630401611328125, 0.23...</td>\n",
              "      <td>[0.3081545829772949, 0.26630401611328125, 0.23...</td>\n",
              "    </tr>\n",
              "    <tr>\n",
              "      <th>1695</th>\n",
              "      <td>In every case legislators are being swarmed by...</td>\n",
              "      <td>alternet</td>\n",
              "      <td>gender</td>\n",
              "      <td>left</td>\n",
              "      <td>85</td>\n",
              "      <td>1</td>\n",
              "      <td>Biased</td>\n",
              "      <td>Expresses writer’s opinion</td>\n",
              "      <td>['deceit', 'hysteria', 'swarmed', 'right-wing']</td>\n",
              "      <td>There are many reasons that Republicans and co...</td>\n",
              "      <td>[in, every, case, legislators, are, being, swa...</td>\n",
              "      <td>[0.3535696864128113, 0.4499838650226593, 0.037...</td>\n",
              "      <td>[0.3535696864128113, 0.4499838650226593, 0.037...</td>\n",
              "    </tr>\n",
              "  </tbody>\n",
              "</table>\n",
              "</div>"
            ],
            "text/plain": [
              "                                               sentence  ...                                elmo_liwc_embedding\n",
              "1693  Issuing a defiant call to arms to grassroots R...  ...  [0.5914361476898193, 0.3794720768928528, -0.66...\n",
              "1694  The House Democrats’ coronavirus recovery bill...  ...  [0.3081545829772949, 0.26630401611328125, 0.23...\n",
              "1695  In every case legislators are being swarmed by...  ...  [0.3535696864128113, 0.4499838650226593, 0.037...\n",
              "\n",
              "[3 rows x 13 columns]"
            ]
          },
          "metadata": {
            "tags": []
          },
          "execution_count": 133
        }
      ]
    },
    {
      "cell_type": "code",
      "metadata": {
        "id": "PM01vuJR4pSJ"
      },
      "source": [
        "batch_size = 32"
      ],
      "execution_count": null,
      "outputs": []
    },
    {
      "cell_type": "code",
      "metadata": {
        "id": "igUH3QhH4ek_",
        "colab": {
          "base_uri": "https://localhost:8080/",
          "height": 34
        },
        "outputId": "48c25971-3c9a-4a4d-96f0-94dab83d6137"
      },
      "source": [
        "X_TRAIN = processable_data[:1440].reset_index()\n",
        "X_TEST = processable_data[-256:].reset_index()\n",
        "\n",
        "f'X_TR {len(X_TRAIN)} X_VAL {len(X_TEST)}'"
      ],
      "execution_count": null,
      "outputs": [
        {
          "output_type": "execute_result",
          "data": {
            "application/vnd.google.colaboratory.intrinsic+json": {
              "type": "string"
            },
            "text/plain": [
              "'X_TR 1440 X_VAL 256'"
            ]
          },
          "metadata": {
            "tags": []
          },
          "execution_count": 135
        }
      ]
    },
    {
      "cell_type": "code",
      "metadata": {
        "id": "35tETFniZgzj",
        "colab": {
          "base_uri": "https://localhost:8080/",
          "height": 277
        },
        "outputId": "ac10ea6e-117c-49af-b075-3c79588a7200"
      },
      "source": [
        "X_TRAIN.head(2)"
      ],
      "execution_count": null,
      "outputs": [
        {
          "output_type": "execute_result",
          "data": {
            "text/html": [
              "<div>\n",
              "<style scoped>\n",
              "    .dataframe tbody tr th:only-of-type {\n",
              "        vertical-align: middle;\n",
              "    }\n",
              "\n",
              "    .dataframe tbody tr th {\n",
              "        vertical-align: top;\n",
              "    }\n",
              "\n",
              "    .dataframe thead th {\n",
              "        text-align: right;\n",
              "    }\n",
              "</style>\n",
              "<table border=\"1\" class=\"dataframe\">\n",
              "  <thead>\n",
              "    <tr style=\"text-align: right;\">\n",
              "      <th></th>\n",
              "      <th>index</th>\n",
              "      <th>sentence</th>\n",
              "      <th>outlet</th>\n",
              "      <th>topic</th>\n",
              "      <th>type</th>\n",
              "      <th>group_id</th>\n",
              "      <th>num_sent</th>\n",
              "      <th>Label_bias</th>\n",
              "      <th>Label_opinion</th>\n",
              "      <th>biased_words</th>\n",
              "      <th>article</th>\n",
              "      <th>tok_sentence</th>\n",
              "      <th>elmo_embedding</th>\n",
              "      <th>elmo_liwc_embedding</th>\n",
              "    </tr>\n",
              "  </thead>\n",
              "  <tbody>\n",
              "    <tr>\n",
              "      <th>0</th>\n",
              "      <td>0</td>\n",
              "      <td>YouTube is making clear there will be no “birt...</td>\n",
              "      <td>usa-today</td>\n",
              "      <td>elections-2020</td>\n",
              "      <td>center</td>\n",
              "      <td>1</td>\n",
              "      <td>1</td>\n",
              "      <td>Biased</td>\n",
              "      <td>Somewhat factual but also opinionated</td>\n",
              "      <td>['belated', 'birtherism']</td>\n",
              "      <td>YouTube says no ‘deepfakes’ or ‘birther’ video...</td>\n",
              "      <td>[youtube, is, making, clear, there, will, be, ...</td>\n",
              "      <td>[0.6835203170776367, 0.14839878678321838, 0.69...</td>\n",
              "      <td>[0.6835203170776367, 0.14839878678321838, 0.69...</td>\n",
              "    </tr>\n",
              "    <tr>\n",
              "      <th>1</th>\n",
              "      <td>1</td>\n",
              "      <td>The increasingly bitter dispute between Americ...</td>\n",
              "      <td>msnbc</td>\n",
              "      <td>sport</td>\n",
              "      <td>left</td>\n",
              "      <td>1</td>\n",
              "      <td>1</td>\n",
              "      <td>Non-biased</td>\n",
              "      <td>Entirely factual</td>\n",
              "      <td>['bitter', 'spilled']</td>\n",
              "      <td>FRISCO, Texas — The increasingly bitter disput...</td>\n",
              "      <td>[the, increasingly, bitter, dispute, between, ...</td>\n",
              "      <td>[0.3081545829772949, 0.26630401611328125, 0.23...</td>\n",
              "      <td>[0.3081545829772949, 0.26630401611328125, 0.23...</td>\n",
              "    </tr>\n",
              "  </tbody>\n",
              "</table>\n",
              "</div>"
            ],
            "text/plain": [
              "   index  ...                                elmo_liwc_embedding\n",
              "0      0  ...  [0.6835203170776367, 0.14839878678321838, 0.69...\n",
              "1      1  ...  [0.3081545829772949, 0.26630401611328125, 0.23...\n",
              "\n",
              "[2 rows x 14 columns]"
            ]
          },
          "metadata": {
            "tags": []
          },
          "execution_count": 136
        }
      ]
    },
    {
      "cell_type": "code",
      "metadata": {
        "id": "5ZjlC6uaZjTP",
        "colab": {
          "base_uri": "https://localhost:8080/",
          "height": 261
        },
        "outputId": "d41d739b-d08e-4522-fe0d-67c211038adb"
      },
      "source": [
        "X_TEST.head(2)"
      ],
      "execution_count": null,
      "outputs": [
        {
          "output_type": "execute_result",
          "data": {
            "text/html": [
              "<div>\n",
              "<style scoped>\n",
              "    .dataframe tbody tr th:only-of-type {\n",
              "        vertical-align: middle;\n",
              "    }\n",
              "\n",
              "    .dataframe tbody tr th {\n",
              "        vertical-align: top;\n",
              "    }\n",
              "\n",
              "    .dataframe thead th {\n",
              "        text-align: right;\n",
              "    }\n",
              "</style>\n",
              "<table border=\"1\" class=\"dataframe\">\n",
              "  <thead>\n",
              "    <tr style=\"text-align: right;\">\n",
              "      <th></th>\n",
              "      <th>index</th>\n",
              "      <th>sentence</th>\n",
              "      <th>outlet</th>\n",
              "      <th>topic</th>\n",
              "      <th>type</th>\n",
              "      <th>group_id</th>\n",
              "      <th>num_sent</th>\n",
              "      <th>Label_bias</th>\n",
              "      <th>Label_opinion</th>\n",
              "      <th>biased_words</th>\n",
              "      <th>article</th>\n",
              "      <th>tok_sentence</th>\n",
              "      <th>elmo_embedding</th>\n",
              "      <th>elmo_liwc_embedding</th>\n",
              "    </tr>\n",
              "  </thead>\n",
              "  <tbody>\n",
              "    <tr>\n",
              "      <th>0</th>\n",
              "      <td>1440</td>\n",
              "      <td>Campaigners for gender equality took to Europe...</td>\n",
              "      <td>reuters</td>\n",
              "      <td>gender</td>\n",
              "      <td>center</td>\n",
              "      <td>73</td>\n",
              "      <td>1</td>\n",
              "      <td>Non-biased</td>\n",
              "      <td>Entirely factual</td>\n",
              "      <td>['fired']</td>\n",
              "      <td>LONDON (Reuters) - Campaigners for gender equa...</td>\n",
              "      <td>[campaigners, for, gender, equality, took, to,...</td>\n",
              "      <td>[-0.9408144950866699, -0.6641639471054077, 0.3...</td>\n",
              "      <td>[-0.9408144950866699, -0.6641639471054077, 0.3...</td>\n",
              "    </tr>\n",
              "    <tr>\n",
              "      <th>1</th>\n",
              "      <td>1441</td>\n",
              "      <td>For the latest grisly example of hypocrisy, “p...</td>\n",
              "      <td>breitbart</td>\n",
              "      <td>gender</td>\n",
              "      <td>right</td>\n",
              "      <td>73</td>\n",
              "      <td>1</td>\n",
              "      <td>Biased</td>\n",
              "      <td>Expresses writer’s opinion</td>\n",
              "      <td>['Deep', 'State', 'entrenchment', 'progressive...</td>\n",
              "      <td>For the latest grisly example of hypocrisy, “p...</td>\n",
              "      <td>[for, the, latest, grisly, example, of, hypocr...</td>\n",
              "      <td>[0.16006621718406677, 0.3410923182964325, 0.09...</td>\n",
              "      <td>[0.16006621718406677, 0.3410923182964325, 0.09...</td>\n",
              "    </tr>\n",
              "  </tbody>\n",
              "</table>\n",
              "</div>"
            ],
            "text/plain": [
              "   index  ...                                elmo_liwc_embedding\n",
              "0   1440  ...  [-0.9408144950866699, -0.6641639471054077, 0.3...\n",
              "1   1441  ...  [0.16006621718406677, 0.3410923182964325, 0.09...\n",
              "\n",
              "[2 rows x 14 columns]"
            ]
          },
          "metadata": {
            "tags": []
          },
          "execution_count": 137
        }
      ]
    },
    {
      "cell_type": "code",
      "metadata": {
        "id": "GmJWEXd6a_cJ"
      },
      "source": [
        "X_TRAIN_EMB = np.zeros(shape=(len(X_TRAIN), rnn_timesteps, num_features))\n",
        "X_TEST_EMB = np.zeros(shape=(len(X_TEST), rnn_timesteps, num_features))"
      ],
      "execution_count": null,
      "outputs": []
    },
    {
      "cell_type": "code",
      "metadata": {
        "id": "M7jMrc5YbYvx"
      },
      "source": [
        "c = 0\n",
        "for emb in X_TRAIN['elmo_liwc_embedding']:\n",
        "  emb_rs = convert_to_2dnp(emb, num_features)\n",
        "  X_TRAIN_EMB[c] = emb_rs\n",
        "  c += 1"
      ],
      "execution_count": null,
      "outputs": []
    },
    {
      "cell_type": "code",
      "metadata": {
        "id": "t-1vY1OqcdV6",
        "colab": {
          "base_uri": "https://localhost:8080/",
          "height": 33
        },
        "outputId": "3524618a-8ded-41d4-e0f6-011318a868fd"
      },
      "source": [
        "X_TRAIN_EMB.shape"
      ],
      "execution_count": null,
      "outputs": [
        {
          "output_type": "execute_result",
          "data": {
            "text/plain": [
              "(1440, 50, 1030)"
            ]
          },
          "metadata": {
            "tags": []
          },
          "execution_count": 145
        }
      ]
    },
    {
      "cell_type": "code",
      "metadata": {
        "id": "hWtwoDnBcf82",
        "colab": {
          "base_uri": "https://localhost:8080/",
          "height": 33
        },
        "outputId": "32bc6459-a988-4a24-9e25-faa9f2643a43"
      },
      "source": [
        "X_TRAIN_EMB[0][1].shape"
      ],
      "execution_count": null,
      "outputs": [
        {
          "output_type": "execute_result",
          "data": {
            "text/plain": [
              "(1030,)"
            ]
          },
          "metadata": {
            "tags": []
          },
          "execution_count": 146
        }
      ]
    },
    {
      "cell_type": "code",
      "metadata": {
        "id": "OX2erq0OcxsM"
      },
      "source": [
        "c = 0\n",
        "for emb in X_TEST['elmo_liwc_embedding']:\n",
        "  emb_rs = convert_to_2dnp(emb, num_features)\n",
        "  X_TEST_EMB[c] = emb_rs\n",
        "  c += 1"
      ],
      "execution_count": null,
      "outputs": []
    },
    {
      "cell_type": "code",
      "metadata": {
        "id": "fiwQ4kmyc66o",
        "colab": {
          "base_uri": "https://localhost:8080/",
          "height": 33
        },
        "outputId": "6cb2f599-c821-4e9f-ecc6-7589f90d99e6"
      },
      "source": [
        "X_TEST_EMB.shape"
      ],
      "execution_count": null,
      "outputs": [
        {
          "output_type": "execute_result",
          "data": {
            "text/plain": [
              "(256, 50, 1030)"
            ]
          },
          "metadata": {
            "tags": []
          },
          "execution_count": 149
        }
      ]
    },
    {
      "cell_type": "code",
      "metadata": {
        "id": "W9I9zuDqc1Th",
        "colab": {
          "base_uri": "https://localhost:8080/",
          "height": 33
        },
        "outputId": "e86b40ab-018c-4bf1-be4e-2cf1c08b8db3"
      },
      "source": [
        "X_TEST_EMB[1][49].shape"
      ],
      "execution_count": null,
      "outputs": [
        {
          "output_type": "execute_result",
          "data": {
            "text/plain": [
              "(1030,)"
            ]
          },
          "metadata": {
            "tags": []
          },
          "execution_count": 150
        }
      ]
    },
    {
      "cell_type": "code",
      "metadata": {
        "id": "SUfIi9jZ2gu2",
        "colab": {
          "base_uri": "https://localhost:8080/",
          "height": 33
        },
        "outputId": "4d4f4ed3-f5cb-483a-d199-40c98c8930a9"
      },
      "source": [
        "import tensorflow as tf\n",
        "import tensorflow_hub as hub\n",
        "import keras\n",
        "from keras import backend as K\n",
        "sess = tf.Session()\n",
        "K.set_session(sess)"
      ],
      "execution_count": null,
      "outputs": [
        {
          "output_type": "stream",
          "text": [
            "Using TensorFlow backend.\n"
          ],
          "name": "stderr"
        }
      ]
    },
    {
      "cell_type": "code",
      "metadata": {
        "id": "VcunTvyQ2ldJ"
      },
      "source": [
        "sess.run(tf.global_variables_initializer())\n",
        "sess.run(tf.tables_initializer())"
      ],
      "execution_count": null,
      "outputs": []
    },
    {
      "cell_type": "code",
      "metadata": {
        "id": "B4A0SLg32qlh"
      },
      "source": [
        "from keras_contrib.layers import CRF\n",
        "from keras.models import Sequential, Model, Input\n",
        "from keras.layers import Embedding, Bidirectional, LSTM, Lambda, TimeDistributed, Dense, Dropout, Masking, RepeatVector\n",
        "from keras.layers.merge import add\n",
        "from keras.layers.advanced_activations import LeakyReLU"
      ],
      "execution_count": null,
      "outputs": []
    },
    {
      "cell_type": "code",
      "metadata": {
        "id": "h5BbQSpr4Ija"
      },
      "source": [
        "import logging\n",
        "tf.get_logger().setLevel(logging.ERROR)"
      ],
      "execution_count": null,
      "outputs": []
    },
    {
      "cell_type": "markdown",
      "metadata": {
        "id": "w4ZsdT4y586W"
      },
      "source": [
        "Create a masking value so that the 0 vectors (PADDING) of length 1024 are masked by the network"
      ]
    },
    {
      "cell_type": "code",
      "metadata": {
        "id": "BQUaE3-t00hS"
      },
      "source": [
        "mask_value = np.zeros(shape=(num_features, ))"
      ],
      "execution_count": null,
      "outputs": []
    },
    {
      "cell_type": "code",
      "metadata": {
        "id": "MwzYMiEL2uyK"
      },
      "source": [
        "input_text = Input(shape=(rnn_timesteps, num_features), dtype=tf.float32)\n",
        "\n",
        "masking = Masking(mask_value=mask_value)(input_text)\n",
        "\n",
        "# Encoding layers\n",
        "lstm_1 = LSTM(units=512,\n",
        "              return_sequences=True, recurrent_dropout=0.2, dropout=0.2)(masking)\n",
        "\n",
        "bilstm_2 = Bidirectional(LSTM(units=256,\n",
        "                              return_sequences=False, recurrent_dropout=0.2, dropout=0.2))(lstm_1)\n",
        "\n",
        "rv = RepeatVector(n=rnn_timesteps)(bilstm_2)\n",
        "\n",
        "# Decoding layers\n",
        "bilstm_3 = Bidirectional(LSTM(units=256, return_sequences=True, \n",
        "                             recurrent_dropout=0.2, dropout=0.2))(rv)\n",
        "\n",
        "lstm_4 = LSTM(units=512,\n",
        "               return_sequences=True, recurrent_dropout=0.2, dropout=0.2)(bilstm_3)   \n",
        "\n",
        "out = TimeDistributed(Dense(units=num_features))(lstm_4)   \n",
        "\n",
        "model = Model(input_text, out)\n",
        "model.compile(optimizer=\"adam\", loss='mae')                                  "
      ],
      "execution_count": null,
      "outputs": []
    },
    {
      "cell_type": "code",
      "metadata": {
        "id": "esQCyuCzfg4X"
      },
      "source": [
        "# model = keras.Sequential()\n",
        "# model.add(LSTM(units=128, input_shape=(50, 1024)))\n",
        "# model.add(Dropout(rate=0.2))\n",
        "# model.add(RepeatVector(n=50))\n",
        "# model.add(LSTM(units=128, return_sequences=True))\n",
        "# model.add(Dropout(rate=0.2))\n",
        "# model.add(TimeDistributed(Dense(units=1024)))\n",
        "# model.compile(loss='mae', optimizer='adam')"
      ],
      "execution_count": null,
      "outputs": []
    },
    {
      "cell_type": "code",
      "metadata": {
        "id": "byECSFG639Rp",
        "colab": {
          "base_uri": "https://localhost:8080/",
          "height": 400
        },
        "outputId": "e4bcee1a-3afb-4d4a-b6d2-80abbf7901c8"
      },
      "source": [
        "model.summary()"
      ],
      "execution_count": null,
      "outputs": [
        {
          "output_type": "stream",
          "text": [
            "_________________________________________________________________\n",
            "Layer (type)                 Output Shape              Param #   \n",
            "=================================================================\n",
            "input_1 (InputLayer)         (None, 50, 1030)          0         \n",
            "_________________________________________________________________\n",
            "masking_1 (Masking)          (None, 50, 1030)          0         \n",
            "_________________________________________________________________\n",
            "lstm_1 (LSTM)                (None, 50, 128)           593408    \n",
            "_________________________________________________________________\n",
            "bidirectional_1 (Bidirection (None, 128)               98816     \n",
            "_________________________________________________________________\n",
            "repeat_vector_1 (RepeatVecto (None, 50, 128)           0         \n",
            "_________________________________________________________________\n",
            "bidirectional_2 (Bidirection (None, 50, 128)           98816     \n",
            "_________________________________________________________________\n",
            "lstm_4 (LSTM)                (None, 50, 128)           131584    \n",
            "_________________________________________________________________\n",
            "time_distributed_1 (TimeDist (None, 50, 1030)          132870    \n",
            "=================================================================\n",
            "Total params: 1,055,494\n",
            "Trainable params: 1,055,494\n",
            "Non-trainable params: 0\n",
            "_________________________________________________________________\n"
          ],
          "name": "stdout"
        }
      ]
    },
    {
      "cell_type": "code",
      "metadata": {
        "id": "BeIJXlTE_i2-",
        "colab": {
          "base_uri": "https://localhost:8080/",
          "height": 600
        },
        "outputId": "c0942c46-7779-4f94-c971-15027a5d37f4"
      },
      "source": [
        "batch_size = 32\n",
        "history = model.fit(\n",
        "    X_TRAIN_EMB, X_TRAIN_EMB, \n",
        "    epochs=100, \n",
        "    batch_size=batch_size, \n",
        "    validation_split=0.1, \n",
        "    verbose=1,\n",
        "    callbacks=[keras.callbacks.EarlyStopping(monitor='val_loss', patience=3, mode='min')], \n",
        "    shuffle=False)"
      ],
      "execution_count": null,
      "outputs": [
        {
          "output_type": "stream",
          "text": [
            "Train on 1296 samples, validate on 144 samples\n",
            "Epoch 1/100\n",
            "1296/1296 [==============================] - 30s 23ms/step - loss: 0.1861 - val_loss: 0.1732\n",
            "Epoch 2/100\n",
            "1296/1296 [==============================] - 24s 19ms/step - loss: 0.1779 - val_loss: 0.1610\n",
            "Epoch 3/100\n",
            "1296/1296 [==============================] - 25s 19ms/step - loss: 0.1692 - val_loss: 0.1590\n",
            "Epoch 4/100\n",
            "1296/1296 [==============================] - 24s 19ms/step - loss: 0.1683 - val_loss: 0.1590\n",
            "Epoch 5/100\n",
            "1296/1296 [==============================] - 24s 19ms/step - loss: 0.1658 - val_loss: 0.1522\n",
            "Epoch 6/100\n",
            "1296/1296 [==============================] - 24s 19ms/step - loss: 0.1640 - val_loss: 0.1521\n",
            "Epoch 7/100\n",
            "1296/1296 [==============================] - 24s 19ms/step - loss: 0.1639 - val_loss: 0.1501\n",
            "Epoch 8/100\n",
            "1296/1296 [==============================] - 24s 19ms/step - loss: 0.1627 - val_loss: 0.1504\n",
            "Epoch 9/100\n",
            "1296/1296 [==============================] - 24s 19ms/step - loss: 0.1626 - val_loss: 0.1497\n",
            "Epoch 10/100\n",
            "1296/1296 [==============================] - 24s 19ms/step - loss: 0.1624 - val_loss: 0.1496\n",
            "Epoch 11/100\n",
            "1296/1296 [==============================] - 24s 19ms/step - loss: 0.1620 - val_loss: 0.1493\n",
            "Epoch 12/100\n",
            "1296/1296 [==============================] - 24s 19ms/step - loss: 0.1617 - val_loss: 0.1491\n",
            "Epoch 13/100\n",
            "1296/1296 [==============================] - 24s 19ms/step - loss: 0.1618 - val_loss: 0.1499\n",
            "Epoch 14/100\n",
            "1296/1296 [==============================] - 24s 19ms/step - loss: 0.1613 - val_loss: 0.1490\n",
            "Epoch 15/100\n",
            "1296/1296 [==============================] - 25s 19ms/step - loss: 0.1609 - val_loss: 0.1500\n",
            "Epoch 16/100\n",
            "1296/1296 [==============================] - 24s 19ms/step - loss: 0.1611 - val_loss: 0.1506\n",
            "Epoch 17/100\n",
            "1296/1296 [==============================] - 24s 19ms/step - loss: 0.1609 - val_loss: 0.1520\n"
          ],
          "name": "stdout"
        }
      ]
    },
    {
      "cell_type": "code",
      "metadata": {
        "id": "ZhN6i44k6EHo",
        "colab": {
          "base_uri": "https://localhost:8080/",
          "height": 264
        },
        "outputId": "e62067f6-6ce5-4d9f-cac0-b3981d9d91bd"
      },
      "source": [
        "plt.plot(history.history['loss'], label='Training loss')\n",
        "plt.plot(history.history['val_loss'], label='Validation loss')\n",
        "plt.legend();"
      ],
      "execution_count": null,
      "outputs": [
        {
          "output_type": "display_data",
          "data": {
            "image/png": "[encoded data removed]",
            "text/plain": [
              "<Figure size 432x288 with 1 Axes>"
            ]
          },
          "metadata": {
            "tags": []
          }
        }
      ]
    },
    {
      "cell_type": "markdown",
      "metadata": {
        "id": "Jy-ImiLo68f1"
      },
      "source": [
        "Now, predict the entire training data to establish MAE threshold"
      ]
    },
    {
      "cell_type": "code",
      "metadata": {
        "id": "yC-2_GE37BLv",
        "colab": {
          "base_uri": "https://localhost:8080/",
          "height": 33
        },
        "outputId": "7de8833b-048e-44c8-fff1-421d686e09f5"
      },
      "source": [
        "X_TRAIN_EMB_predicted = model.predict(X_TRAIN_EMB, batch_size=batch_size, verbose=1)"
      ],
      "execution_count": null,
      "outputs": [
        {
          "output_type": "stream",
          "text": [
            "1440/1440 [==============================] - 7s 5ms/step\n"
          ],
          "name": "stdout"
        }
      ]
    },
    {
      "cell_type": "code",
      "metadata": {
        "id": "FOE_Iy-P7TB0",
        "colab": {
          "base_uri": "https://localhost:8080/",
          "height": 233
        },
        "outputId": "d20b3d1f-466c-4bcd-d430-092da7cdf7c0"
      },
      "source": [
        "X_TRAIN_mae_loss = np.mean(np.abs(X_TRAIN_EMB_predicted - X_TRAIN_EMB), axis=1)\n",
        "X_TRAIN_mae_loss"
      ],
      "execution_count": null,
      "outputs": [
        {
          "output_type": "execute_result",
          "data": {
            "text/plain": [
              "array([[0.19931177, 0.18360431, 0.2070122 , ..., 0.02081873, 0.00038675,\n",
              "        0.00092139],\n",
              "       [0.1777752 , 0.23682705, 0.22064171, ..., 0.02084751, 0.02042515,\n",
              "        0.00094802],\n",
              "       [0.13745756, 0.11340623, 0.13200434, ..., 0.02086228, 0.0002839 ,\n",
              "        0.02068179],\n",
              "       ...,\n",
              "       [0.16688395, 0.20149278, 0.15659355, ..., 0.02071505, 0.00040089,\n",
              "        0.00093125],\n",
              "       [0.23172935, 0.1856323 , 0.17973147, ..., 0.02082626, 0.02033715,\n",
              "        0.00089894],\n",
              "       [0.0850725 , 0.11322031, 0.08846081, ..., 0.00094216, 0.00025346,\n",
              "        0.00059453]])"
            ]
          },
          "metadata": {
            "tags": []
          },
          "execution_count": 162
        }
      ]
    },
    {
      "cell_type": "code",
      "metadata": {
        "id": "YZQXnrXy7oG9",
        "colab": {
          "base_uri": "https://localhost:8080/",
          "height": 33
        },
        "outputId": "4eb8cd33-ea6d-41f3-ff79-3bc6ef128d44"
      },
      "source": [
        "training_mae_threshold = np.max(X_TRAIN_mae_loss)\n",
        "print(f'Reconstruction error (MAE) threshold: {training_mae_threshold}')"
      ],
      "execution_count": null,
      "outputs": [
        {
          "output_type": "stream",
          "text": [
            "Reconstruction error (MAE) threshold: 0.8037900793552398\n"
          ],
          "name": "stdout"
        }
      ]
    },
    {
      "cell_type": "code",
      "metadata": {
        "id": "Hfbb8zDzEwXv"
      },
      "source": [
        "# from scipy.spatial import distance\n",
        "\n",
        "# for i in range(len(X_TRAIN_EMB)):\n",
        "#   if i == 100:\n",
        "#     break\n",
        "#   outliers = []\n",
        "#   total_dist = 0.0  \n",
        "\n",
        "#   for w in range(len(X_TRAIN_EMB[i])):\n",
        "#     cos_dist = distance.cosine(X_TRAIN_EMB[i][w], X_TRAIN_EMB_predicted[i][w])\n",
        "#     total_dist += cos_dist\n",
        "#     if cos_dist > .55 :\n",
        "#       # print(new_X[i][w])\n",
        "#       # if X_TR[10][w] == 'PADDED':\n",
        "#       #   continue\n",
        "#       # print(X_TR[10][w])\n",
        "#       outliers.append(X_TRAIN['tok_sentence'][i][w])\n",
        "#   print(f'Outliers {i} => {outliers}')"
      ],
      "execution_count": null,
      "outputs": []
    },
    {
      "cell_type": "code",
      "metadata": {
        "id": "bS8Oil0cIxsK"
      },
      "source": [
        "for i in range(len(X_TRAIN_EMB_predicted)):\n",
        "\n",
        "  if i == 100:\n",
        "    break\n",
        "  \n",
        "  outliers = []\n",
        "  for w in range(len(X_TRAIN_EMB_predicted[i])):\n",
        "    loss = np.mean(np.abs(X_TRAIN_EMB_predicted[i][w] - X_TRAIN_EMB[i][w]))\n",
        "    if loss > 0.3:\n",
        "      outliers.append(X_TRAIN['tok_sentence'][i][w])\n",
        "  print(f'Outliers => {set(outliers)}')"
      ],
      "execution_count": null,
      "outputs": []
    },
    {
      "cell_type": "markdown",
      "metadata": {
        "id": "oipMILOm8DB0"
      },
      "source": [
        "Now, predict the entire test data"
      ]
    },
    {
      "cell_type": "code",
      "metadata": {
        "id": "7fF0HCBh7_ln",
        "colab": {
          "base_uri": "https://localhost:8080/",
          "height": 33
        },
        "outputId": "ff0c3ab1-1fdc-4930-a99a-f78283c7dcd6"
      },
      "source": [
        "X_TEST_EMB_predicted = model.predict(X_TEST_EMB, batch_size=batch_size, verbose=1)"
      ],
      "execution_count": null,
      "outputs": [
        {
          "output_type": "stream",
          "text": [
            "256/256 [==============================] - 1s 5ms/step\n"
          ],
          "name": "stdout"
        }
      ]
    },
    {
      "cell_type": "code",
      "metadata": {
        "id": "mHEGf9oa8c-M",
        "colab": {
          "base_uri": "https://localhost:8080/",
          "height": 233
        },
        "outputId": "93b0d6a3-15c8-43a5-cc49-70d13a5844a7"
      },
      "source": [
        "X_TEST_mae_loss = np.mean(np.abs(X_TEST_EMB_predicted - X_TEST_EMB), axis=1)\n",
        "X_TEST_mae_loss"
      ],
      "execution_count": null,
      "outputs": [
        {
          "output_type": "execute_result",
          "data": {
            "text/plain": [
              "array([[2.31019416e-01, 2.77170798e-01, 1.80923964e-01, ...,\n",
              "        2.07909033e-02, 1.02527034e-03, 1.63055316e-03],\n",
              "       [1.76053182e-01, 1.86173254e-01, 1.87152746e-01, ...,\n",
              "        2.08702420e-02, 2.92945062e-04, 8.14768674e-04],\n",
              "       [2.09694305e-01, 1.68755739e-01, 1.85080145e-01, ...,\n",
              "        2.08389939e-02, 2.03290001e-02, 8.83757961e-04],\n",
              "       ...,\n",
              "       [2.72641789e-01, 3.37545873e-01, 2.25161276e-01, ...,\n",
              "        2.08249207e-02, 8.60815503e-04, 2.13848233e-02],\n",
              "       [1.83295541e-01, 1.74433090e-01, 1.26782774e-01, ...,\n",
              "        2.08111971e-02, 3.03939179e-04, 2.08015908e-02],\n",
              "       [2.40322689e-01, 1.69819773e-01, 1.58362006e-01, ...,\n",
              "        2.08959318e-02, 2.98138769e-04, 2.07290994e-02]])"
            ]
          },
          "metadata": {
            "tags": []
          },
          "execution_count": 173
        }
      ]
    },
    {
      "cell_type": "code",
      "metadata": {
        "id": "a-dWyfecCocG",
        "colab": {
          "base_uri": "https://localhost:8080/",
          "height": 33
        },
        "outputId": "6e623f73-295a-42a9-92c3-c6b0a891b654"
      },
      "source": [
        "test_mae_threshold = np.max(X_TEST_mae_loss)\n",
        "test_mae_threshold"
      ],
      "execution_count": null,
      "outputs": [
        {
          "output_type": "execute_result",
          "data": {
            "text/plain": [
              "0.7653413999080658"
            ]
          },
          "metadata": {
            "tags": []
          },
          "execution_count": 174
        }
      ]
    },
    {
      "cell_type": "code",
      "metadata": {
        "id": "QvLtIB5gNcVG",
        "colab": {
          "base_uri": "https://localhost:8080/",
          "height": 1000
        },
        "outputId": "2437de11-a9d6-4282-ff9d-d6a36e4af824"
      },
      "source": [
        "for i in range(len(X_TEST_EMB_predicted)):  \n",
        "  outliers = []\n",
        "  for w in range(len(X_TEST_EMB_predicted[i])):\n",
        "    loss = np.mean(np.abs(X_TEST_EMB_predicted[i][w] - X_TEST_EMB[i][w]))\n",
        "    # print(loss)\n",
        "    if loss > 0.28:\n",
        "      token = X_TEST['tok_sentence'][i][w]\n",
        "      if len(token) > 5:\n",
        "        outliers.append(X_TEST['tok_sentence'][i][w])\n",
        "  print(f'Outliers {i} => {set(outliers)}')"
      ],
      "execution_count": null,
      "outputs": [
        {
          "output_type": "stream",
          "text": [
            "Outliers 0 => {'thousand', 'celebrations', 'streets', 'turkey', 'evening.', 'international', 'gender', 'equality', 'police', 'campaigners'}\n",
            "Outliers 1 => {'officer', 'feminist', 'medical', 'davies.', 'britain’s'}\n",
            "Outliers 2 => {'activists', 'control', 'coronavirus', 'crisis.'}\n",
            "Outliers 3 => {'voting', 'bipartisan', 'coronavirus', 'speaker', 'majority', 'blamed', 'pelosi', 'package.', 'senate'}\n",
            "Outliers 4 => {'breitbart', 'browse', 'youtube', 'bungling.'}\n",
            "Outliers 5 => {'republicans', 'blamed', 'health'}\n",
            "Outliers 6 => {'george', 'wealth', 'financier', 'begging'}\n",
            "Outliers 7 => {'supreme', 'control', 'declaration.', 'climate'}\n",
            "Outliers 8 => {'bloodshed.', 'sheriff', 'school', 'ability'}\n",
            "Outliers 9 => {'strike', 'suleimani.', 'revered', 'qassim', 'military'}\n",
            "Outliers 10 => {'country.', 'peaceful', 'democratic', 'violence'}\n",
            "Outliers 11 => set()\n",
            "Outliers 12 => {'caught', 'hoped.', 'looking', '“smile”', 'reasons'}\n",
            "Outliers 13 => {'sanders', 'divergent', 'richest', 'prominently', 'presidential', 'spectrum', 'democratic', 'wealth', 'warren'}\n",
            "Outliers 14 => {'longer', 'reasons', 'tragedy.', 'democratic'}\n",
            "Outliers 15 => {'racist.', 'far-left', 'nationalist'}\n",
            "Outliers 16 => {'trillion', 'opioid', 'households', 'college', 'annually.', 'warren', 'universal'}\n",
            "Outliers 17 => {'senator.', 'conservatives'}\n",
            "Outliers 18 => {'despite', 'coronavirus.', 'warnings', 'little', 'slower', 'famous', 'tourist'}\n",
            "Outliers 19 => {'americans.', 'unsubstantiated', 'atkins’', 'points.'}\n",
            "Outliers 20 => {'faced.', 'coronavirus', 'window', 'communist', 'america', 'threat'}\n",
            "Outliers 21 => {'sense.', 'nationalist', 'conservatives', 'affirmative', 'action'}\n",
            "Outliers 22 => {'vicious', 'solidarity', 'sticks', 'university', 'hospital.'}\n",
            "Outliers 23 => {'right.', 'democrat', 'republican', 'november', 'revolt', 'clinton.', 'governors'}\n",
            "Outliers 24 => {'coronavirus', 'speaker', 'night.', '1,120-page', 'pelosi', 'senate', 'rescue'}\n",
            "Outliers 25 => {'extremists', 'enforcement', 'supremacists'}\n",
            "Outliers 26 => {'rights', 'transgender', 'violent', 'according', 'violence'}\n",
            "Outliers 27 => {'facebook', 'society', 'draft.', 'male-or-female', 'military'}\n",
            "Outliers 28 => {'firing.', 'republican', 'interview', 'fauci,', 'allergy', 'director', 'congressional', 'infectious'}\n",
            "Outliers 29 => {'silence', 'dehumanizing', 'women.', 'democratic', 'campaign'}\n",
            "Outliers 30 => {'public', 'reverse', 'effect.', 'crisis.', 'spiritual', 'belt-tightening', 'cutbacks'}\n",
            "Outliers 31 => {'answer.'}\n",
            "Outliers 32 => {'waiting', 'failure'}\n",
            "Outliers 33 => {'conference', 'nationalist'}\n",
            "Outliers 34 => {'right-wing', 'treaty', 'inciting', 'reaganism—neoliberalism—that', 'poorer', 'others.', 'austerity'}\n",
            "Outliers 35 => {'suicide', 'insanity.', 'viral.'}\n",
            "Outliers 36 => {'quickly—perhaps', 'anti-lockdown', 'protesters', 'pressure', 'weeks.', 'tacitly', 'impatience', 'thanks', 'governors'}\n",
            "Outliers 37 => {'republican', 'rights', 'control', 'opposition', 'lobby.'}\n",
            "Outliers 38 => {'presidential', 'weekend’s', 'wealth', 'warren', 'campaign'}\n",
            "Outliers 39 => {'sectarian', 'populace.', 'enraged'}\n",
            "Outliers 40 => {'obstacles', 'consumer', 'imagine', 'exports', 'inflict', 'sanctions'}\n",
            "Outliers 41 => {'virulent', 'states.', 'anti-muslim', 'supremacist', 'ethnic', 'hatred', 'violent', 'anti-semitism', 'extremists', 'prejudices', 'immigrants'}\n",
            "Outliers 42 => {'magazines.', 'rifles', 'weapons', 'military', 'high-capacity'}\n",
            "Outliers 43 => {'gun-control', 'stocking'}\n",
            "Outliers 44 => {'feminism.', 'smeared'}\n",
            "Outliers 45 => {'sentiment', 'business', 'stimulus', 'fast-spreading', 'second-largest', 'economy.', 'forecasts', 'economists', 'investor', 'growth', 'world’s'}\n",
            "Outliers 46 => {'business', 'market'}\n",
            "Outliers 47 => {'family', 'homes.'}\n",
            "Outliers 48 => {'spelled', 'constitution', 'founding', 'insurance'}\n",
            "Outliers 49 => {'sales.', 'filings', 'democratic'}\n",
            "Outliers 50 => {'coronavirus', '“women’s', 'outcry', 'cancellation', 'empowerment', 'nations', 'gender', 'outbreak', 'diplomats', 'disappointed', 'delegates,', 'two-week'}\n",
            "Outliers 51 => {'nation.', 'coronavirus', 'airlines', 'flights', 'spread'}\n",
            "Outliers 52 => {'presidential', 'nationalism.', 'democratic'}\n",
            "Outliers 53 => {'pandemic', 'op-ed,', 'minister', 'coronavirus'}\n",
            "Outliers 54 => {'discrimination.', 'rights', 'sports', 'activists', 'muslim-majority', 'swimming'}\n",
            "Outliers 55 => {'representatives', 'stimulus', 'coronavirus', 'thursday.', 'spokeswoman'}\n",
            "Outliers 56 => {'decried.', 'predates', 'presidency', 'murdering', 'police'}\n",
            "Outliers 57 => {'klobuchar'}\n",
            "Outliers 58 => {'public', 'social', 'security', 'decades.'}\n",
            "Outliers 59 => {'americans.', 'survived'}\n",
            "Outliers 60 => {'newspaper'}\n",
            "Outliers 61 => {'morning.'}\n",
            "Outliers 62 => {'jihadists', 'prison', 'escaping', 'conflict', 'islamic'}\n",
            "Outliers 63 => {'longer', 'capacity.\"', 'transgender', 'service', 'military'}\n",
            "Outliers 64 => {'sexual', 'crimes', 'criminalized.', 'homophobia', 'discrimination'}\n",
            "Outliers 65 => {'serves', 'nationalist'}\n",
            "Outliers 66 => {'pouring', 'health', 'exercise', 'queues', 'braved', 'unprecedented.', 'experts'}\n",
            "Outliers 67 => {'billionaire', 'paying', 'wages.”', 'richest'}\n",
            "Outliers 68 => {'permission', 'retail', 'background', 'private.', 'checks'}\n",
            "Outliers 69 => {'sleeps,', 'rage-tweeting.', 'dreams', 'desperate', 'dreams,', 'nightmares.'}\n",
            "Outliers 70 => {'unable', 'unrest', 'active-duty', 'authorities'}\n",
            "Outliers 71 => {'public', 'supporters.', 'supremacist', 'security', 'exaggerated', 'threat', 'immigrants'}\n",
            "Outliers 72 => {'advocates.', 'committee', 'packed', 'cheers'}\n",
            "Outliers 73 => {'republicans', '\"they\\'re', 'promises.', 'dollars'}\n",
            "Outliers 74 => {'humanitarian', 'congresswoman', 'morning', 'restrictions', 'grandmother', 'permission', 'rashida', 'stands', 'against.'}\n",
            "Outliers 75 => {'dreams', 'reasons.'}\n",
            "Outliers 76 => set()\n",
            "Outliers 77 => {'supremacist', 'crimes', 'gruesome', 'history.'}\n",
            "Outliers 78 => {'deadwood.'}\n",
            "Outliers 79 => {'wealthy.', 'vehemently'}\n",
            "Outliers 80 => {'market.', 'record-low', 'unemployment', 'thanks', 'economy'}\n",
            "Outliers 81 => {'church', 'services', 'parishioners', 'transmission', 'social', 'virus.'}\n",
            "Outliers 82 => {'instead', 'enrollment.'}\n",
            "Outliers 83 => {'trump.', 'republican'}\n",
            "Outliers 84 => {'majority', 'demagoguery.', 'violence', 'democrats’'}\n",
            "Outliers 85 => {'economies.', 'critics', 'threat'}\n",
            "Outliers 86 => {'incompetent.', 'coronavirus'}\n",
            "Outliers 87 => {'nationalist', 'dozens.', 'protester', 'country.', 'neo-nazi', 'far-right'}\n",
            "Outliers 88 => {'violent', 'charlottesville.'}\n",
            "Outliers 89 => {'gender', 'discrimination', 'stereotypes.'}\n",
            "Outliers 90 => {'middle', 'boards', 'schools.', 'message', 'neo-nazi'}\n",
            "Outliers 91 => {'cooperation', 'society', 'attitudes', 'women.', 'identity”', 'social', 'competition'}\n",
            "Outliers 92 => {'technology', 'searches', 'transportation', 'checkpoints,', 'insufficient', 'transgender', 'airport', 'gender', 'security', 'travelers', 'shows.', 'invasive', 'interviews'}\n",
            "Outliers 93 => {'business', 'suggested.', 'democrat', 'middle'}\n",
            "Outliers 94 => {'market.', 'majority', 'compared', 'demographic', 'working-class'}\n",
            "Outliers 95 => {'diplomat'}\n",
            "Outliers 96 => {'clearer', 'rifles,', 'subset', 'visible.', 'picture'}\n",
            "Outliers 97 => {'puzzle.'}\n",
            "Outliers 98 => {'professor', 'southern', 'century', 'lesbian', 'university', 'studies.', 'backlash'}\n",
            "Outliers 99 => {'republican', 'government.', 'planning', 'congressional'}\n",
            "Outliers 100 => {'self-interest.', 'revenge.'}\n",
            "Outliers 101 => {'business', 'boycott', 'israeli-occupied', 'territories.', 'contractors'}\n",
            "Outliers 102 => {'bipartisan', 'override', 'powers', 'tensions', 'seventh'}\n",
            "Outliers 103 => {'manufacturing', 'traders', '20-year', 'aluminum,', 'tariffs'}\n",
            "Outliers 104 => {'public', 'discrimination', 'spaces', 'gender', 'majorities', 'sexist', 'illegal.'}\n",
            "Outliers 105 => {'average', 'tangible', 'americans.', 'conservative'}\n",
            "Outliers 106 => {'corruption.'}\n",
            "Outliers 107 => {'wearing', 'standing', 'outbreak', 'china.', 'center'}\n",
            "Outliers 108 => {'democrat', 'staunch', 'control', 'billionaire', 'presidential', 'surrounded', 'america'}\n",
            "Outliers 109 => {'greatly', 'doubled', 'working-class', 'credit', 'family.'}\n",
            "Outliers 110 => {'public', 'picked', 'reactionaries.', 'devolve', 'sexist'}\n",
            "Outliers 111 => {'attention-seekers', 'cartoon', 'they’re', 'supremacy', 'anglin.', 'oxygen'}\n",
            "Outliers 112 => {'republican', 'suicides', 'counting', 'presidential', 'nomination', 'pointing', 'trump.', 'violence'}\n",
            "Outliers 113 => {'afraid', 'economies', 'economy', 'virus.', 'saving'}\n",
            "Outliers 114 => {'christian', 'evangelical', 'suicidal.', 'christianity', 'anti-suicide.', 'far-right'}\n",
            "Outliers 115 => {'christians', 'instead', 'master', 'forces.', 'external', 'dignity.'}\n",
            "Outliers 116 => {'christian', 'coronavirus', 'seriously.', 'knowledge', 'scientific', 'common', 'threat'}\n",
            "Outliers 117 => {'oppressive,', 'pressure', 'transgender', 'censorship,', 'male-dominated', 'supremacy.'}\n",
            "Outliers 118 => {'reality', 'states.', 'america'}\n",
            "Outliers 119 => {'feature.', 'security', 'sirens'}\n",
            "Outliers 120 => {'astute', 'migrants', 'borders.', 'refugees', 'observer', 'exactly'}\n",
            "Outliers 121 => {'personality.'}\n",
            "Outliers 122 => {'opposition', 'november', 'control'}\n",
            "Outliers 123 => {'according', 'phrases', 'massacres'}\n",
            "Outliers 124 => {'misleading', 'media.'}\n",
            "Outliers 125 => {'tariffs', 'threatened', 'coronavirus', 'pandemic.'}\n",
            "Outliers 126 => {'student', 'prohibitively', 'scholarships.', 'college', 'discount'}\n",
            "Outliers 127 => {'shepherdson,', 'macroeconomics.', 'economist', 'republicans’'}\n",
            "Outliers 128 => {'gender', 'research', 'equality.'}\n",
            "Outliers 129 => {'wealthiest', 'taxpayers', 'families.', 'wealth'}\n",
            "Outliers 130 => {'indictment', 'years.'}\n",
            "Outliers 131 => {'america', 'stress', 'fraying.', 'irreparable'}\n",
            "Outliers 132 => set()\n",
            "Outliers 133 => {'speaking', 'wasted', 'missionary', 'minutes', 'trump.'}\n",
            "Outliers 134 => {'coronavirus', 'pandemic.'}\n",
            "Outliers 135 => {'feminist', 'viewers', 'desperately', 'marauding'}\n",
            "Outliers 136 => {'quarter', 'coronavirus', 'fastest', 'productivity', 'spread'}\n",
            "Outliers 137 => {'livelihoods.', 'industries', 'middle', 'stripped'}\n",
            "Outliers 138 => {'health', 'bounty', 'advocates', 'number', 'transgender', 'transphobic', 'commentary.', 'experts'}\n",
            "Outliers 139 => {'graduates.', 'insurance,', 'graduates', 'number'}\n",
            "Outliers 140 => {'uphill', 'vicious', 'misogyny', 'trump.', 'sexism'}\n",
            "Outliers 141 => {'business', 'sunday.'}\n",
            "Outliers 142 => {'swaths', 'congress', 'justice', 'rights', 'advocates', 'respected.', 'letter', 'military'}\n",
            "Outliers 143 => {'travel', 'spread', 'contagion.'}\n",
            "Outliers 144 => {'november', 'portion', 'billionaires', 'control'}\n",
            "Outliers 145 => {'marine', 'shows.', 'contact', 'spying', 'social', 'military'}\n",
            "Outliers 146 => {'supremacist', 'racist', 'innocuous', 'platform.'}\n",
            "Outliers 147 => {'capable.'}\n",
            "Outliers 148 => {'abusive', 'prisoners', 'families.', 'arabia’s', 'rights', 'attention', 'social', 'permission'}\n",
            "Outliers 149 => {'trigger.', '“smart', 'advocates', 'background'}\n",
            "Outliers 150 => {'supremacist', 'danger', 'singling', 'ideology.'}\n",
            "Outliers 151 => {'control.'}\n",
            "Outliers 152 => {'republican', 'ruling', 'governors.', 'general', 'attorneys'}\n",
            "Outliers 153 => {'business', 'rhetoric', 'sloganeering.'}\n",
            "Outliers 154 => {'instead', 'revenue', 'counterintuitively,'}\n",
            "Outliers 155 => {'friends.', 'speaking', 'second-most'}\n",
            "Outliers 156 => {'spared.', 'appearances', 'beauty'}\n",
            "Outliers 157 => {'vicious', 'dissident', 'journalist', 'regime', 'colvin', 'al-assad,'}\n",
            "Outliers 158 => {'despite', 'message.', 'expert', 'disease', '#firefauci', 'infectious'}\n",
            "Outliers 159 => {'resentful', 'backlash', 'roman.', 'provoking.'}\n",
            "Outliers 160 => {'painting', 'picture', 'overly', 'health'}\n",
            "Outliers 161 => {'schools', 'criminalize', 'student', 'justice', 'criminal', 'authorities', 'misbehavior.', 'pipeline', 'school'}\n",
            "Outliers 162 => {'inequality', 'thrived.', 'outlawed', 'robber', 'income', 'unions', '1900s,'}\n",
            "Outliers 163 => {'christian', 'well-being.', 'supernatural', 'whatever', 'science', 'spiritual', 'mental', 'physical'}\n",
            "Outliers 164 => {'border', 'emails', 'muslim', 'websites.\"', 'immigration', 'nationalist', 'child-parent', 'architect'}\n",
            "Outliers 165 => {'rights.', 'republican', 'reproductive', 'evangelical'}\n",
            "Outliers 166 => {'article', 'racially', 'supremacists', 'exercise', 'rather', 'fetish.'}\n",
            "Outliers 167 => {'learned', 'presidency.', 'policy', 'governance.'}\n",
            "Outliers 168 => {'public', 'majority', 'barely', 'guidelines.', 'department', '\"sexual', 'interior', 'anti-discrimination'}\n",
            "Outliers 169 => {'coronavirus', 'pandemic.', 'weighed', 'warnings', 'recovery', 'street'}\n",
            "Outliers 170 => {'well-being.', 'handouts', 'irresponsible'}\n",
            "Outliers 171 => {'threatening', 'tensions.'}\n",
            "Outliers 172 => {'ditch.', 'wiggle', 'consequences', 'democrats’'}\n",
            "Outliers 173 => {'neither', 'legislature', 'capitol'}\n",
            "Outliers 174 => {'materials.', 'inquiry'}\n",
            "Outliers 175 => {'strains', 'favor.', 'presidency.', 'looking', 'reasons'}\n",
            "Outliers 176 => {'interview'}\n",
            "Outliers 177 => {'obrador', 'cartels.', 'violence'}\n",
            "Outliers 178 => {'18-month', 'prison', 'conservative', 'rights', 'native', 'immigration', 'conspiring', 'activists', 'butina', 'custody', 'deported', 'convicted', 'country.', 'sentence', 'serving'}\n",
            "Outliers 179 => {'people.', 'consequences', 'experts', 'health'}\n",
            "Outliers 180 => {'gunman', 'festival', 'devices'}\n",
            "Outliers 181 => {'wishful', 'telling.', 'threat', 'viruses', 'minimize', 'regardless'}\n",
            "Outliers 182 => {'nationalism.'}\n",
            "Outliers 183 => {'duties.', 'majority', 'decade', 'household'}\n",
            "Outliers 184 => {'disparities', 'mortality', 'lockdown', 'racial', 'rooted', 'supremacy.'}\n",
            "Outliers 185 => {'familiar', 'dollar', 'cents.'}\n",
            "Outliers 186 => {'rebels', 'chemical', 'atrocities', 'rights', 'control', 'weapons'}\n",
            "Outliers 187 => {'hometown', 'student', 'violence.', 'symbol'}\n",
            "Outliers 188 => {'generations', 'middle', 'salary', 'squeezed.', 'arbitration,', 'baseball'}\n",
            "Outliers 189 => {'coverage', 'presidential', 'democratic', 'warren', 'sexist', 'nothing', 'states.”', 'effective'}\n",
            "Outliers 190 => {'congress', 'middle', 'conflict.', 'military', 'defensive'}\n",
            "Outliers 191 => {'majority', 'measures.', 'democratic'}\n",
            "Outliers 192 => {'despite', 'gloves,', 'booties', 'wearing', 'control', 'centers', 'disease', 'protective', 'prevention.', 'plastic', 'contrary'}\n",
            "Outliers 193 => {'candidacy', 'racially', 'rhetoric', 'immigration', 'incendiary', '“invasion”', 'border.'}\n",
            "Outliers 194 => {'reverse', 'metals', 'policy.', 'tariffs', 'threat'}\n",
            "Outliers 195 => {'victimhood.', 'non-whites.', 'resentment', 'bestowed', 'equality', 'special'}\n",
            "Outliers 196 => {'honest', 'conservative', 'sessions.', 'guardians', 'strongest', 'attorney', 'punditry.', 'general', 'reasons', 'backlash'}\n",
            "Outliers 197 => {'church', 'protesters', 'bible,', 'peaceful', 'chiefs', 'general', 'police', 'chairman'}\n",
            "Outliers 198 => {'president.'}\n",
            "Outliers 199 => {'supremacist', 'efficiency', 'anonymity', 'backlash.', 'social', 'sobering', 'warning', 'little'}\n",
            "Outliers 200 => {'median'}\n",
            "Outliers 201 => {'switzerland.', 'coincide', 'pitchforks'}\n",
            "Outliers 202 => {'tariffs', 'doubling', 'imports.', 'vowing'}\n",
            "Outliers 203 => {'public', 'social', 'science', 'objectionable.'}\n",
            "Outliers 204 => {'necessitating', 'governments', 'confirmation', 'eruptions', 'democratic', 'populist', 'inclusivity.'}\n",
            "Outliers 205 => {'strike', 'commander', 'alleviating', 'general', 'widely', 'islamic'}\n",
            "Outliers 206 => {'reasons', 'sexism'}\n",
            "Outliers 207 => {'office', 'health', 'shortly', 'affordable', 'democratic', 'unconstitutional.', 'illegal', 'immigrants'}\n",
            "Outliers 208 => {'compensation', '$7,473.', 'living'}\n",
            "Outliers 209 => {'coronavirus', 'vacation', 'property', 'spread', 'grocery', 'shelves', 'distress.', 'southwest', 'refunds'}\n",
            "Outliers 210 => {'gun-control', 'immigration.', 'democratic-led', 'republicans', 'illegal'}\n",
            "Outliers 211 => {'unemployment', 'coronavirus', 'outbreak.'}\n",
            "Outliers 212 => {'obama’s', 'certificate.', 'conspiracy', 'theories', 'factor', 'reality'}\n",
            "Outliers 213 => {'cooperation', 'number', 'accusations'}\n",
            "Outliers 214 => {'debauchery.', 'pleasure.', 'epicureanism.'}\n",
            "Outliers 215 => {'firearm', 'owners.', 'contagion', 'first-time'}\n",
            "Outliers 216 => {'donations', 'gender', 'medical', 'companies.'}\n",
            "Outliers 217 => {'streets', 'defense', 'control', 'morning', 'dangerously.', 'according'}\n",
            "Outliers 218 => {'instead', 'regrouped.', 'normal.', 'looking'}\n",
            "Outliers 219 => {'peers.', 'rocket', 'scientists', 'dollar', 'closing', 'graduated', 'gender', 'science'}\n",
            "Outliers 220 => {'harder', 'sexism', 'democratic'}\n",
            "Outliers 221 => {'areas.', 'commit', 'governments', 'explosive', 'protection', 'populated', 'weapons'}\n",
            "Outliers 222 => {'single', 'salvini', 'interior', 'matteo', 'minister', 'populist', 'football'}\n",
            "Outliers 223 => {'makers', 'iceberg,', 'point.', 'america'}\n",
            "Outliers 224 => {'buckingham', 'palace', 'london', 'summit.', 'tuesday.'}\n",
            "Outliers 225 => {'church', 'administration.', 'priests', 'shadows', 'ordained'}\n",
            "Outliers 226 => {'folklore.', 'reference'}\n",
            "Outliers 227 => {'bipartisan', 'resolution', 'impeachment.', 'overwhelmingly'}\n",
            "Outliers 228 => {'family', 'jogging.', 'condolences', 'ahmaud', 'evening.'}\n",
            "Outliers 229 => {'office', 'accomplishments.', 'economy', 'presided'}\n",
            "Outliers 230 => {'president.', 'security', 'speaking'}\n",
            "Outliers 231 => {'harshly', 'university', 'israel.', 'faculty'}\n",
            "Outliers 232 => {'embodiment', 'reacting', 'ground', 'social', 'supremacists.', 'fertile'}\n",
            "Outliers 233 => {'republicans', 'colleagues', 'capitol', 'democratic'}\n",
            "Outliers 234 => {'indigenous', 'logging', 'pressure', 'brazil.', 'mining', 'element', 'racial', 'forests', 'limited'}\n",
            "Outliers 235 => {'grandson.', 'criminals', 'little', 'shotgun'}\n",
            "Outliers 236 => {'exists.', 'vaccine'}\n",
            "Outliers 237 => {'unacceptable.', 'defense', 'ranging', 'history'}\n",
            "Outliers 238 => {'streets', 'diagnosis', 'protesters', 'whatever', 'energies', 'specifics', 'police', 'relying'}\n",
            "Outliers 239 => {'transgender', 'girls.', 'eighth', 'runners', 'biological'}\n",
            "Outliers 240 => {'instead', 'profit', 'society', 'incentive'}\n",
            "Outliers 241 => {'relative', 'trade.', 'america'}\n",
            "Outliers 242 => {'outraged', 'opposition.'}\n",
            "Outliers 243 => {'republican', 'wrong.', 'growth', 'fiscal'}\n",
            "Outliers 244 => {'keynote', 'absolutely', 'conference', 'american.'}\n",
            "Outliers 245 => {'cycle.', '“politics', 'donors', 'hampshire'}\n",
            "Outliers 246 => {'errors.', 'sheriff', 'school', 'anti-gun'}\n",
            "Outliers 247 => {'lockdowns.', '“flatten', 'cure.”', 'goalposts', 'ranted', 'founder', 'sports', 'three-minute', 'vigorously'}\n",
            "Outliers 248 => {'loyalty', 'owners.', 'withstand', 'owners', 'neighbors', 'comparing', 'racial', 'throwing'}\n",
            "Outliers 249 => {'breitbart', 'outlets', 'competitor.', 'defamatory'}\n",
            "Outliers 250 => {'republican', 'stocks', 'result.'}\n",
            "Outliers 251 => {'jong-un', 'korean', 'republican', 'dictator', 'concessions', 'homework', 'exchange'}\n",
            "Outliers 252 => {'benefiting', 'passionately', 'subsidies', 'blamed', 'grandchildren'}\n",
            "Outliers 253 => {'strategist', 'silicon', 'grassroots', 'valley', 'opportunity.', 'wealth', '“lords'}\n",
            "Outliers 254 => {'thousand', 'coronavirus', 'democrats’', 'careers.', 'hundred', 'recovery', 'college'}\n",
            "Outliers 255 => {'amendment', 'right-wing', 'rights', 'activists', 'ratification', 'hysteria', 'happening.'}\n"
          ],
          "name": "stdout"
        }
      ]
    }
  ]
}